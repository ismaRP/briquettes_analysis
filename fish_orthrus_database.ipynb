{
 "cells": [
  {
   "cell_type": "code",
   "execution_count": 10,
   "id": "14dca89c-7e31-4a6c-b077-03cd60d3ee55",
   "metadata": {},
   "outputs": [],
   "source": [
    "from unipressed import UniprotkbClient\n",
    "import itertools as it\n",
    "from Bio import SeqIO\n",
    "from tqdm import tqdm\n",
    "import re\n",
    "from io import StringIO\n",
    "import taxoniq"
   ]
  },
  {
   "cell_type": "markdown",
   "id": "5fa568dc-b086-45f6-a168-169c01ddfba8",
   "metadata": {},
   "source": [
    "# Actinopterygii\n",
    "\n",
    "Collect uniprot IDs from Actinopterygii muscle sequences obtained from UniParc.\n",
    "We only keep those from UniProt."
   ]
  },
  {
   "cell_type": "code",
   "execution_count": 5,
   "id": "31bfe2f2-8469-4212-80b5-a41ae6ee5d3b",
   "metadata": {},
   "outputs": [],
   "source": [
    "orthrus_dbs = '../orthrus_db/'\n",
    "actinopterygii = orthrus_dbs + 'Actinopterygii_muscle.fasta'"
   ]
  },
  {
   "cell_type": "code",
   "execution_count": 4,
   "id": "c37b724c-eaab-49f2-b780-39c8ba97fc3e",
   "metadata": {},
   "outputs": [],
   "source": [
    "actinopterygii_up_ids = []\n",
    "for r in SeqIO.parse(actinopterygii, \"fasta\"):\n",
    "    header = r.id\n",
    "    parts = header.split('|')\n",
    "    if len(parts) == 5:\n",
    "        up_id = parts[3]\n",
    "        # Remove .version from id\n",
    "        up_id = up_id.split('.')[0]\n",
    "        actinopterygii_up_ids.append(up_id)"
   ]
  },
  {
   "cell_type": "markdown",
   "id": "bddefd79-0d19-4425-b4b4-d559694edefd",
   "metadata": {},
   "source": [
    "# Uniprot and SwissProt\n",
    "Here we collect the unique sequences from:\n",
    "- SwissProt\n",
    "- UniprotKB at protein evidence level\n",
    "- UniprotKB at transcript evidence level\n",
    "- Any anchovy sequence"
   ]
  },
  {
   "cell_type": "code",
   "execution_count": 12,
   "id": "90887260-486c-4765-866a-b83157b1a7b8",
   "metadata": {},
   "outputs": [],
   "source": [
    "swissprot = orthrus_dbs + 'uniprot_sprot.fasta'\n",
    "swissprot_records = SeqIO.to_dict(SeqIO.parse(swissprot, 'fasta'))\n",
    "anchovy = orthrus_dbs + 'uniprot_anchovy.fasta'\n"
   ]
  },
  {
   "cell_type": "code",
   "execution_count": 27,
   "id": "75744eb2-4af5-47d5-b90c-3bbba6dcc823",
   "metadata": {},
   "outputs": [
    {
     "name": "stderr",
     "output_type": "stream",
     "text": [
      "Parsing SwissProt: 572970it [00:07, 75635.49it/s] \n",
      "Parsin prot evidence: 401433it [00:05, 78689.73it/s] \n",
      "Parsing transcript evidence: 1419182it [00:13, 108879.20it/s]"
     ]
    },
    {
     "name": "stdout",
     "output_type": "stream",
     "text": [
      "2221253\n"
     ]
    },
    {
     "name": "stderr",
     "output_type": "stream",
     "text": [
      "\n"
     ]
    }
   ],
   "source": [
    "unique_accs = {}\n",
    "for r in tqdm(SeqIO.parse(swissprot, 'fasta'), 'Parsing SwissProt'):\n",
    "    accession = r.id.split('|')[1]\n",
    "    unique_accs.update({accession: r})\n",
    "print(len(unique_accs))"
   ]
  },
  {
   "cell_type": "code",
   "execution_count": 28,
   "id": "bba3f266-a0b0-43b8-850e-9c4fa961c0dd",
   "metadata": {},
   "outputs": [
    {
     "name": "stderr",
     "output_type": "stream",
     "text": [
      "Parsing anchovy evidence: 498it [00:00, 76134.99it/s]\n"
     ]
    }
   ],
   "source": [
    "for r in tqdm(SeqIO.parse(anchovy, 'fasta'), 'Parsing anchovy evidence'):\n",
    "    accession = r.id.split('|')[1]\n",
    "    unique_accs.update({accession: r})"
   ]
  },
  {
   "cell_type": "code",
   "execution_count": 65,
   "id": "97e95e94-d8f9-4acd-b8ba-9e68d6eb08e5",
   "metadata": {},
   "outputs": [
    {
     "data": {
      "text/plain": [
       "2221709"
      ]
     },
     "execution_count": 65,
     "metadata": {},
     "output_type": "execute_result"
    }
   ],
   "source": [
    "SeqIO.write(list(unique_accs.values()), orthrus_dbs + 'uniprot_joint_db.fasta', 'fasta')"
   ]
  },
  {
   "cell_type": "markdown",
   "id": "67fae853-4a4f-444d-86e1-1309b12b2dbb",
   "metadata": {},
   "source": [
    "# Cross Actinopterygii and Uniprot\n",
    "Here we check which Actinopterygii ids are not yet in `unique_accs`.\n",
    "We collect them and use UniPressed to obtain the Uniprot fastas"
   ]
  },
  {
   "cell_type": "code",
   "execution_count": 8,
   "id": "63ab7871-471f-41c4-a026-87e69853e95a",
   "metadata": {},
   "outputs": [],
   "source": [
    "# We need to break the IDs into chunks to call UniProt REST API\n",
    "def chunks(long_list, size):\n",
    "    long_list = iter(long_list)\n",
    "    return iter(lambda: tuple(it.islice(long_list, size)), ())"
   ]
  },
  {
   "cell_type": "code",
   "execution_count": 9,
   "id": "9a0482f7-4931-4a5a-9b79-7f001c235c0e",
   "metadata": {},
   "outputs": [
    {
     "name": "stderr",
     "output_type": "stream",
     "text": [
      "105it [01:42,  1.03it/s]\n"
     ]
    }
   ],
   "source": [
    "fasta_string = ''\n",
    "for chunk in tqdm(chunks(actinopterygii_up_ids, 100)):\n",
    "    for r in UniprotkbClient.fetch_many(chunk, 'fasta'):\n",
    "        fasta_string += r.decode(\"utf-8\")\n"
   ]
  },
  {
   "cell_type": "code",
   "execution_count": 10,
   "id": "ea21e227-647a-4e1c-9d90-c4ce3aa3e040",
   "metadata": {},
   "outputs": [],
   "source": [
    "with open(orthrus_dbs + 'Actinopterygii_muscle_uniprot.fasta', 'w') as f:\n",
    "    f.write(fasta_string)"
   ]
  },
  {
   "cell_type": "code",
   "execution_count": 13,
   "id": "7e7bb27e-264a-4e90-9fb7-3c932a88c759",
   "metadata": {},
   "outputs": [
    {
     "data": {
      "text/plain": [
       "582701"
      ]
     },
     "execution_count": 13,
     "metadata": {},
     "output_type": "execute_result"
    }
   ],
   "source": [
    "all_actino = {}\n",
    "for r in SeqIO.parse(orthrus_dbs + 'Actinopterygii_muscle_uniprot.fasta', 'fasta'):\n",
    "    all_actino[r.id] = r\n",
    "\n",
    "anchovy_records = SeqIO.to_dict(SeqIO.parse(anchovy, 'fasta'))\n",
    "swissprot_records = SeqIO.to_dict(SeqIO.parse(swissprot, 'fasta'))\n",
    "all_actino.update(anchovy_records)\n",
    "all_actino.update(swissprot_records)\n",
    "SeqIO.write(\n",
    "    list(all_actino.values()),\n",
    "    orthrus_dbs + 'fish_swissprot_database.fasta',\n",
    "    'fasta'\n",
    ")\n"
   ]
  },
  {
   "cell_type": "markdown",
   "id": "da7bf260-62fb-4588-8189-17f2e40a1583",
   "metadata": {},
   "source": [
    "# Part 2 - Clean orthrus db from non-fish sequences"
   ]
  },
  {
   "cell_type": "code",
   "execution_count": 39,
   "id": "649f061e-49d8-418a-8c3f-cd437b42957e",
   "metadata": {},
   "outputs": [],
   "source": [
    "# Part 2 - Clean Orthrus database from non-fish sequences\n",
    "orthrus_fasta = orthrus_dbs + 'combined_pt1.fasta'\n",
    "\n",
    "orthrus_fasta = SeqIO.parse(orthrus_fasta, 'fasta')\n",
    "\n",
    "ox_re = re.compile('OX=(\\d+?) ')"
   ]
  },
  {
   "cell_type": "code",
   "execution_count": 40,
   "id": "b247ae4c-4eb1-4c26-b7ce-7ea755bd846e",
   "metadata": {},
   "outputs": [
    {
     "name": "stdout",
     "output_type": "stream",
     "text": [
      ".....\n",
      "Taxid 3356398 not found\n",
      ".....\n",
      ".....\n",
      "Taxid 3362959 not found\n",
      ".....\n",
      ".....\n",
      "Taxid 3357921 not found\n",
      ".....\n"
     ]
    }
   ],
   "source": [
    "fish_orthrus_database = []\n",
    "for r in orthrus_fasta:\n",
    "    m = ox_re.search(r.description)\n",
    "    taxid = m.group(1)\n",
    "    try:\n",
    "        t = taxoniq.Taxon(taxid)\n",
    "        for l in t.ranked_lineage:\n",
    "            if l.rank.name == 'class' and l.scientific_name == 'Actinopteri':\n",
    "                fish_orthrus_database.append(r)\n",
    "    except KeyError:\n",
    "        print('.....')\n",
    "        print(f'Taxid {taxid} not found')\n",
    "        fish_orthrus_database.append(r)\n",
    "        print('.....')\n",
    "\n"
   ]
  },
  {
   "cell_type": "code",
   "execution_count": 41,
   "id": "7df21bd9-8559-4825-80f6-b298c24a0ddc",
   "metadata": {},
   "outputs": [
    {
     "data": {
      "text/plain": [
       "3713"
      ]
     },
     "execution_count": 41,
     "metadata": {},
     "output_type": "execute_result"
    }
   ],
   "source": [
    "SeqIO.write(fish_orthrus_database, orthrus_dbs + 'fish_combined_pt1.fasta', 'fasta')"
   ]
  }
 ],
 "metadata": {
  "kernelspec": {
   "display_name": "Python 3 (ipykernel)",
   "language": "python",
   "name": "python3"
  },
  "language_info": {
   "codemirror_mode": {
    "name": "ipython",
    "version": 3
   },
   "file_extension": ".py",
   "mimetype": "text/x-python",
   "name": "python",
   "nbconvert_exporter": "python",
   "pygments_lexer": "ipython3",
   "version": "3.11.11"
  }
 },
 "nbformat": 4,
 "nbformat_minor": 5
}
