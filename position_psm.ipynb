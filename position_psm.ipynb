{
 "cells": [
  {
   "cell_type": "code",
   "id": "initial_id",
   "metadata": {
    "collapsed": true,
    "ExecuteTime": {
     "end_time": "2024-04-25T18:29:40.356355Z",
     "start_time": "2024-04-25T18:29:40.164328Z"
    }
   },
   "source": [
    "import pandas as pd\n",
    "import seaborn as sns\n",
    "import numpy as np\n",
    "from palaeoPSM.psm_read import FragPipeRun\n",
    "from palaeoPSM.psm_to_long import psm_to_long\n",
    "from Bio import SeqIO\n",
    "import plotly.express as px"
   ],
   "outputs": [],
   "execution_count": 18
  },
  {
   "cell_type": "code",
   "source": [
    "db1 = '../databases/DB1_bovin_ArchaeocRAP3.2.fasta'\n",
    "record_dict = SeqIO.to_dict(SeqIO.parse(db1, \"fasta\"))\n",
    "\n",
    "contams = '../databases/contams.fasta'\n",
    "contams_dict = SeqIO.to_dict(SeqIO.parse(contams, \"fasta\"))\n",
    "contams_dict\n",
    "\n",
    "lacb = [\n",
    "    'sp|P02754A|LACB_BOVIN',\n",
    "    'sp|P02754B|LACB_BOVIN',\n",
    "    'sp|P02754C|LACB_BOVIN',\n",
    "    'sp|P02754D|LACB_BOVIN'\n",
    "]"
   ],
   "metadata": {
    "collapsed": false,
    "ExecuteTime": {
     "end_time": "2024-04-25T13:56:54.360571Z",
     "start_time": "2024-04-25T13:56:54.346959Z"
    }
   },
   "id": "178a794f40bbfc53",
   "outputs": [],
   "execution_count": 2
  },
  {
   "metadata": {
    "ExecuteTime": {
     "end_time": "2024-04-25T18:35:10.894903Z",
     "start_time": "2024-04-25T18:35:10.885255Z"
    }
   },
   "cell_type": "code",
   "source": "contams_dict",
   "id": "885b840931276a8",
   "outputs": [
    {
     "data": {
      "text/plain": [
       "{'sp|O00762|UBE2C_HUMAN': SeqRecord(seq=Seq('MASQNRDPAATSVAAARKGAEPSGGAARGPVGKRLQQELMTLMMSGDKGISAFP...QEP'), id='sp|O00762|UBE2C_HUMAN', name='sp|O00762|UBE2C_HUMAN', description='sp|O00762|UBE2C_HUMAN Ubiquitin-conjugating enzyme E2 C OS=Homo sapiens OX=9606 GN=UBE2C PE=1 SV=1', dbxrefs=[]),\n",
       " 'sp|O43790|KRT86_HUMAN': SeqRecord(seq=Seq('MTCGSYCGGRAFSCISACGPRPGRCCITAAPYRGISCYRGLTGGFGSHSVCGGF...KRC'), id='sp|O43790|KRT86_HUMAN', name='sp|O43790|KRT86_HUMAN', description='sp|O43790|KRT86_HUMAN Keratin, type II cuticular Hb6 OS=Homo sapiens OX=9606 GN=KRT86 PE=1 SV=1', dbxrefs=[]),\n",
       " 'sp|O76009|KT33A_HUMAN': SeqRecord(seq=Seq('MSYSCGLPSLSCRTSCSSRPCVPPSCHGCTLPGACNIPANVSNCNWFCEGSFNG...FGY'), id='sp|O76009|KT33A_HUMAN', name='sp|O76009|KT33A_HUMAN', description='sp|O76009|KT33A_HUMAN Keratin, type I cuticular Ha3-I OS=Homo sapiens OX=9606 GN=KRT33A PE=2 SV=2', dbxrefs=[]),\n",
       " 'sp|O76011|KRT34_HUMAN': SeqRecord(seq=Seq('MLYAKPPPTINGIKGLQRKERLKPAHIHLQQLTCFSITCSSTMSYSCCLPSLGC...CCN'), id='sp|O76011|KRT34_HUMAN', name='sp|O76011|KRT34_HUMAN', description='sp|O76011|KRT34_HUMAN Keratin, type I cuticular Ha4 OS=Homo sapiens OX=9606 GN=KRT34 PE=1 SV=2', dbxrefs=[]),\n",
       " 'sp|O76013|KRT36_HUMAN': SeqRecord(seq=Seq('MATQTCTPTFSTGSIKGLCGTAGGISRVSSIRSVGSCRVPSLAGAAGYISSARS...RPL'), id='sp|O76013|KRT36_HUMAN', name='sp|O76013|KRT36_HUMAN', description='sp|O76013|KRT36_HUMAN Keratin, type I cuticular Ha6 OS=Homo sapiens OX=9606 GN=KRT36 PE=1 SV=1', dbxrefs=[]),\n",
       " 'sp|O76014|KRT37_HUMAN': SeqRecord(seq=Seq('MTSFYSTSSCPLGCTMAPGARNVFVSPIDVGCQPVAEANAASMCLLANVAHANR...MGR'), id='sp|O76014|KRT37_HUMAN', name='sp|O76014|KRT37_HUMAN', description='sp|O76014|KRT37_HUMAN Keratin, type I cuticular Ha7 OS=Homo sapiens OX=9606 GN=KRT37 PE=1 SV=3', dbxrefs=[]),\n",
       " 'sp|O76015|KRT38_HUMAN': SeqRecord(seq=Seq('MTSSYSSSSCPLGCTMAPGARNVSVSPIDIGCQPGAEANIAPMCLLANVAHANR...SRF'), id='sp|O76015|KRT38_HUMAN', name='sp|O76015|KRT38_HUMAN', description='sp|O76015|KRT38_HUMAN Keratin, type I cuticular Ha8 OS=Homo sapiens OX=9606 GN=KRT38 PE=1 SV=3', dbxrefs=[]),\n",
       " 'sp|O77727|K1C15_SHEEP': SeqRecord(seq=Seq('MATTLLQTSSSTFGGSSTRGGSLLAGGGGFGGGSLYGGGGSRTISASSARFVSS...REI'), id='sp|O77727|K1C15_SHEEP', name='sp|O77727|K1C15_SHEEP', description='sp|O77727|K1C15_SHEEP Keratin, type I cytoskeletal 15 OS=Ovis aries OX=9940 GN=KRT15 PE=2 SV=1', dbxrefs=[]),\n",
       " 'sp|O82803|SRPP_HEVBR': SeqRecord(seq=Seq('MAEEVEEERLKYLDFVRAAGVYAVDSFSTLYLYAKDISGPLKPGVDTIENVVKT...EAS'), id='sp|O82803|SRPP_HEVBR', name='sp|O82803|SRPP_HEVBR', description='sp|O82803|SRPP_HEVBR Small rubber particle protein OS=Hevea brasiliensis OX=3981 GN=SRPP PE=1 SV=1', dbxrefs=[]),\n",
       " 'sp|P00004|CYC_HORSE': SeqRecord(seq=Seq('MGDVEKGKKIFVQKCAQCHTVEKGGKHKTGPNLHGLFGRKTGQAPGFTYTDANK...TNE'), id='sp|P00004|CYC_HORSE', name='sp|P00004|CYC_HORSE', description='sp|P00004|CYC_HORSE Cytochrome c OS=Equus caballus OX=9796 GN=CYCS PE=1 SV=2', dbxrefs=[]),\n",
       " 'sp|P00167|CYB5_HUMAN': SeqRecord(seq=Seq('MAEQSDEAVKYYTLEEIQKHNHSKSTWLILHHKVYDLTKFLEEHPGGEEVLREQ...AED'), id='sp|P00167|CYB5_HUMAN', name='sp|P00167|CYB5_HUMAN', description='sp|P00167|CYB5_HUMAN Cytochrome b5 OS=Homo sapiens OX=9606 GN=CYB5A PE=1 SV=2', dbxrefs=[]),\n",
       " 'sp|P00330|ADH1_YEAST': SeqRecord(seq=Seq('MSIPETQKGVIFYESHGKLEYKDIPVPKPKANELLINVKYSGVCHTDLHAWHGD...TSK'), id='sp|P00330|ADH1_YEAST', name='sp|P00330|ADH1_YEAST', description='sp|P00330|ADH1_YEAST Alcohol dehydrogenase 1 OS=Saccharomyces cerevisiae (strain ATCC 204508 / S288c) OX=559292 GN=ADH1 PE=1 SV=5', dbxrefs=[]),\n",
       " 'sp|P00366|DHE3_BOVIN': SeqRecord(seq=Seq('MYRYLGEALLLSRAGPAALGSASADSAALLGWARGQPAAAPQPGLVPPARRHYS...TFT'), id='sp|P00366|DHE3_BOVIN', name='sp|P00366|DHE3_BOVIN', description='sp|P00366|DHE3_BOVIN Glutamate dehydrogenase 1, mitochondrial OS=Bos taurus OX=9913 GN=GLUD1 PE=1 SV=2', dbxrefs=[]),\n",
       " 'sp|P00441|SODC_HUMAN': SeqRecord(seq=Seq('MATKAVCVLKGDGPVQGIINFEQKESNGPVKVWGSIKGLTEGLHGFHVHEFGDN...IAQ'), id='sp|P00441|SODC_HUMAN', name='sp|P00441|SODC_HUMAN', description='sp|P00441|SODC_HUMAN Superoxide dismutase [Cu-Zn] OS=Homo sapiens OX=9606 GN=SOD1 PE=1 SV=2', dbxrefs=[]),\n",
       " 'sp|P00551|KKA1_ECOLX': SeqRecord(seq=Seq('MSHIQRETSCSRPRLNSNLDADLYGYKWARDNVGQSGATIYRLYGKPDAPELFL...EFF'), id='sp|P00551|KKA1_ECOLX', name='sp|P00551|KKA1_ECOLX', description=\"sp|P00551|KKA1_ECOLX Aminoglycoside 3'-phosphotransferase OS=Escherichia coli OX=562 GN=aphA1 PE=3 SV=2\", dbxrefs=[]),\n",
       " 'sp|P00698|LYSC_CHICK': SeqRecord(seq=Seq('MRSLLILVLCFLPLAALGKVFGRCELAAAMKRHGLDNYRGYSLGNWVCAAKFES...CRL'), id='sp|P00698|LYSC_CHICK', name='sp|P00698|LYSC_CHICK', description='sp|P00698|LYSC_CHICK Lysozyme C OS=Gallus gallus OX=9031 GN=LYZ PE=1 SV=1', dbxrefs=[]),\n",
       " 'sp|P00709|LALBA_HUMAN': SeqRecord(seq=Seq('MRFFVPLFLVGILFPAILAKQFTKCELSQLLKDIDGYGGIALPELICTMFHTSG...EKL'), id='sp|P00709|LALBA_HUMAN', name='sp|P00709|LALBA_HUMAN', description='sp|P00709|LALBA_HUMAN Alpha-lactalbumin OS=Homo sapiens OX=9606 GN=LALBA PE=1 SV=1', dbxrefs=[]),\n",
       " 'sp|P00711|LALBA_BOVIN': SeqRecord(seq=Seq('MMSFVSLLLVGILFHATQAEQLTKCEVFRELKDLKGYGGVSLPEWVCTTFHTSG...EKL'), id='sp|P00711|LALBA_BOVIN', name='sp|P00711|LALBA_BOVIN', description='sp|P00711|LALBA_BOVIN Alpha-lactalbumin OS=Bos taurus OX=9913 GN=LALBA PE=1 SV=2', dbxrefs=[]),\n",
       " 'sp|P00722|BGAL_ECOLI': SeqRecord(seq=Seq('MTMITDSLAVVLQRRDWENPGVTQLNRLAAHPPFASWRNSEEARTDRPSQQLRS...CQK'), id='sp|P00722|BGAL_ECOLI', name='sp|P00722|BGAL_ECOLI', description='sp|P00722|BGAL_ECOLI Beta-galactosidase OS=Escherichia coli (strain K12) OX=83333 GN=lacZ PE=1 SV=2', dbxrefs=[]),\n",
       " 'sp|P00760|TRY1_BOVIN': SeqRecord(seq=Seq('MKTFIFLALLGAAVAFPVDDDDKIVGGYTCGANTVPYQVSLNSGYHFCGGSLIN...ASN'), id='sp|P00760|TRY1_BOVIN', name='sp|P00760|TRY1_BOVIN', description='sp|P00760|TRY1_BOVIN Serine protease 1 OS=Bos taurus OX=9913 GN=PRSS1 PE=1 SV=3', dbxrefs=[]),\n",
       " 'sp|P00761|TRYP_PIG': SeqRecord(seq=Seq('FPTDDDDKIVGGYTCAANSIPYQVSLNSGSHFCGGSLINSQWVVSAAHCYKSRI...AAN'), id='sp|P00761|TRYP_PIG', name='sp|P00761|TRYP_PIG', description='sp|P00761|TRYP_PIG Trypsin OS=Sus scrofa OX=9823 PE=1 SV=1', dbxrefs=[]),\n",
       " 'sp|P00766|CTRA_BOVIN': SeqRecord(seq=Seq('CGVPAIQPVLSGLSRIVNGEEAVPGSWPWQVSLQDKTGFHFCGGSLINENWVVT...AAN'), id='sp|P00766|CTRA_BOVIN', name='sp|P00766|CTRA_BOVIN', description='sp|P00766|CTRA_BOVIN Chymotrypsinogen A OS=Bos taurus OX=9913 PE=1 SV=1', dbxrefs=[]),\n",
       " 'sp|P00767|CTRB_BOVIN': SeqRecord(seq=Seq('CGVPAIQPVLSGLARIVNGEDAVPGSWPWQVSLQDSTGFHFCGGSLISEDWVVT...AAN'), id='sp|P00767|CTRB_BOVIN', name='sp|P00767|CTRB_BOVIN', description='sp|P00767|CTRB_BOVIN Chymotrypsinogen B OS=Bos taurus OX=9913 PE=1 SV=1', dbxrefs=[]),\n",
       " 'sp|P00791|PEPA_PIG': SeqRecord(seq=Seq('MKWLLLLSLVVLSECLVKVPLVRKKSLRQNLIKNGKLKDFLKTHKHNPASKYFP...PVA'), id='sp|P00791|PEPA_PIG', name='sp|P00791|PEPA_PIG', description='sp|P00791|PEPA_PIG Pepsin A OS=Sus scrofa OX=9823 GN=PGA PE=1 SV=3', dbxrefs=[]),\n",
       " 'sp|P00792|PEPA_BOVIN': SeqRecord(seq=Seq('MSVVKIPLVKKKSLRQNLIENGKLKEFMRTHKYNLGSKYIREAATLVSEQPLQN...PVA'), id='sp|P00792|PEPA_BOVIN', name='sp|P00792|PEPA_BOVIN', description='sp|P00792|PEPA_BOVIN Pepsin A OS=Bos taurus OX=9913 GN=PGA PE=1 SV=2', dbxrefs=[]),\n",
       " 'sp|P00883|ALDOA_RABIT': SeqRecord(seq=Seq('MPHSHPALTPEQKKELSDIAHRIVAPGKGILAADESTGSIAKRLQSIGTENTEE...HAY'), id='sp|P00883|ALDOA_RABIT', name='sp|P00883|ALDOA_RABIT', description='sp|P00883|ALDOA_RABIT Fructose-bisphosphate aldolase A OS=Oryctolagus cuniculus OX=9986 GN=ALDOA PE=1 SV=2', dbxrefs=[]),\n",
       " 'sp|P00915|CAH1_HUMAN': SeqRecord(seq=Seq('MASPDWGYDDKNGPEQWSKLYPIANGNNQSPVDIKTSETKHDTSLKPISVSYNP...ASF'), id='sp|P00915|CAH1_HUMAN', name='sp|P00915|CAH1_HUMAN', description='sp|P00915|CAH1_HUMAN Carbonic anhydrase 1 OS=Homo sapiens OX=9606 GN=CA1 PE=1 SV=2', dbxrefs=[]),\n",
       " 'sp|P00918|CAH2_HUMAN': SeqRecord(seq=Seq('MSHHWGYGKHNGPEHWHKDFPIAKGERQSPVDIDTHTAKYDPSLKPLSVSYDQA...SFK'), id='sp|P00918|CAH2_HUMAN', name='sp|P00918|CAH2_HUMAN', description='sp|P00918|CAH2_HUMAN Carbonic anhydrase 2 OS=Homo sapiens OX=9606 GN=CA2 PE=1 SV=2', dbxrefs=[]),\n",
       " 'sp|P00921|CAH2_BOVIN': SeqRecord(seq=Seq('MSHHWGYGKHNGPEHWHKDFPIANGERQSPVDIDTKAVVQDPALKPLALVYGEA...FPK'), id='sp|P00921|CAH2_BOVIN', name='sp|P00921|CAH2_BOVIN', description='sp|P00921|CAH2_BOVIN Carbonic anhydrase 2 OS=Bos taurus OX=9913 GN=CA2 PE=1 SV=3', dbxrefs=[]),\n",
       " 'sp|P01008|ANT3_HUMAN': SeqRecord(seq=Seq('MYSNVIGTVTSGKRKVYLLSLLLIGFWDCVTCHGSPVDICTAKPRDIPMNPMCI...CVK'), id='sp|P01008|ANT3_HUMAN', name='sp|P01008|ANT3_HUMAN', description='sp|P01008|ANT3_HUMAN Antithrombin-III OS=Homo sapiens OX=9606 GN=SERPINC1 PE=1 SV=1', dbxrefs=[]),\n",
       " 'sp|P01012|OVAL_CHICK': SeqRecord(seq=Seq('MGSIGAASMEFCFDVFKELKVHHANENIFYCPIAIMSALAMVYLGAKDSTRTQI...VSP'), id='sp|P01012|OVAL_CHICK', name='sp|P01012|OVAL_CHICK', description='sp|P01012|OVAL_CHICK Ovalbumin OS=Gallus gallus OX=9031 GN=SERPINB14 PE=1 SV=2', dbxrefs=[]),\n",
       " 'sp|P01031|CO5_HUMAN': SeqRecord(seq=Seq('MGLLGILCFLIFLGKTWGQEQTYVISAPKIFRVGASENIVIQVYGYTEAFDATI...NGC'), id='sp|P01031|CO5_HUMAN', name='sp|P01031|CO5_HUMAN', description='sp|P01031|CO5_HUMAN Complement C5 OS=Homo sapiens OX=9606 GN=C5 PE=1 SV=4', dbxrefs=[]),\n",
       " 'sp|P01112|RASH_HUMAN': SeqRecord(seq=Seq('MTEYKLVVVGAGGVGKSALTIQLIQNHFVDEYDPTIEDSYRKQVVIDGETCLLD...VLS'), id='sp|P01112|RASH_HUMAN', name='sp|P01112|RASH_HUMAN', description='sp|P01112|RASH_HUMAN GTPase HRas OS=Homo sapiens OX=9606 GN=HRAS PE=1 SV=1', dbxrefs=[]),\n",
       " 'sp|P01127|PDGFB_HUMAN': SeqRecord(seq=Seq('MNRCWALFLSLCCYLRLVSAEGDPIPEELYEMLSDHSIRSFDDLQRLLHGDPGE...LGA'), id='sp|P01127|PDGFB_HUMAN', name='sp|P01127|PDGFB_HUMAN', description='sp|P01127|PDGFB_HUMAN Platelet-derived growth factor subunit B OS=Homo sapiens OX=9606 GN=PDGFB PE=1 SV=1', dbxrefs=[]),\n",
       " 'sp|P01133|EGF_HUMAN': SeqRecord(seq=Seq('MLLTLIILLPVVSKFSFVSLSAPQHWSCPEGTLAGNGNSTCVGPAPFLIFSHGN...LTQ'), id='sp|P01133|EGF_HUMAN', name='sp|P01133|EGF_HUMAN', description='sp|P01133|EGF_HUMAN Pro-epidermal growth factor OS=Homo sapiens OX=9606 GN=EGF PE=1 SV=2', dbxrefs=[]),\n",
       " 'sp|P01344|IGF2_HUMAN': SeqRecord(seq=Seq('MGIPMGKSMLVLLTFLAFASCCIAAYRPSETLCGGELVDTLQFVCGDRGFYFSR...NRK'), id='sp|P01344|IGF2_HUMAN', name='sp|P01344|IGF2_HUMAN', description='sp|P01344|IGF2_HUMAN Insulin-like growth factor II OS=Homo sapiens OX=9606 GN=IGF2 PE=1 SV=1', dbxrefs=[]),\n",
       " 'sp|P01375|TNFA_HUMAN': SeqRecord(seq=Seq('MSTESMIRDVELAEEALPKKTGGPQGSRRCLFLSLFSFLIVAGATTLFCLLHFG...IAL'), id='sp|P01375|TNFA_HUMAN', name='sp|P01375|TNFA_HUMAN', description='sp|P01375|TNFA_HUMAN Tumor necrosis factor OS=Homo sapiens OX=9606 GN=TNF PE=1 SV=1', dbxrefs=[]),\n",
       " 'sp|P02144|MYG_HUMAN': SeqRecord(seq=Seq('MGLSDGEWQLVLNVWGKVEADIPGHGQEVLIRLFKGHPETLEKFDKFKHLKSED...FQG'), id='sp|P02144|MYG_HUMAN', name='sp|P02144|MYG_HUMAN', description='sp|P02144|MYG_HUMAN Myoglobin OS=Homo sapiens OX=9606 GN=MB PE=1 SV=2', dbxrefs=[]),\n",
       " 'sp|P02438|KRB2A_SHEEP': SeqRecord(seq=Seq('MACCSTSFCGFPICSTGGTCGSSPCQPTCCQTSCCQPTSIQTSCCQPISIQTSC...PTC'), id='sp|P02438|KRB2A_SHEEP', name='sp|P02438|KRB2A_SHEEP', description='sp|P02438|KRB2A_SHEEP Keratin, high-sulfur matrix protein, B2A OS=Ovis aries OX=9940 PE=1 SV=2', dbxrefs=[]),\n",
       " 'sp|P02439|KRB2B_SHEEP': SeqRecord(seq=Seq('ACCSTSFCGFPICSSVGTCGSSCGQPTCSQTSCCQPTSIQTSCCQPISIQTSCC...PTC'), id='sp|P02439|KRB2B_SHEEP', name='sp|P02439|KRB2B_SHEEP', description='sp|P02439|KRB2B_SHEEP Keratin, high-sulfur matrix protein, B2B OS=Ovis aries OX=9940 PE=1 SV=1', dbxrefs=[]),\n",
       " 'sp|P02440|KRB2C_SHEEP': SeqRecord(seq=Seq('MACCSTSFCGFPICSTAGTCGSSCCRSTCSQTSCCQPTSIQTSCCQPTCLQTSG...PIC'), id='sp|P02440|KRB2C_SHEEP', name='sp|P02440|KRB2C_SHEEP', description='sp|P02440|KRB2C_SHEEP Keratin, high-sulfur matrix protein, B2C OS=Ovis aries OX=9940 PE=1 SV=2', dbxrefs=[]),\n",
       " 'sp|P02441|KRA3_SHEEP': SeqRecord(seq=Seq('TGSCCGPTFSSLSCGGGCLQPRYYRDPCCCRPVSCQTVSRPVTFVPRCTRPICE...PCC'), id='sp|P02441|KRA3_SHEEP', name='sp|P02441|KRA3_SHEEP', description='sp|P02441|KRA3_SHEEP Keratin, high-sulfur matrix protein, IIIA3 OS=Ovis aries OX=9940 PE=1 SV=1', dbxrefs=[]),\n",
       " 'sp|P02443|KRA3A_SHEEP': SeqRecord(seq=Seq('TGSCCGPTFSSLSCGGGCLQPCCYRDPCCCRPVSSTQTVSRPVTFVSRCTRPIC...PCC'), id='sp|P02443|KRA3A_SHEEP', name='sp|P02443|KRA3A_SHEEP', description='sp|P02443|KRA3A_SHEEP Keratin, high-sulfur matrix protein, IIIA3A OS=Ovis aries OX=9940 PE=1 SV=1', dbxrefs=[]),\n",
       " 'sp|P02444|KRA33_SHEEP': SeqRecord(seq=Seq('ACCARLCCSVPTSPATTICSSDKFCRCGVCLPSTCPHTVWLLQPTCCCDNRPPP...SCC'), id='sp|P02444|KRA33_SHEEP', name='sp|P02444|KRA33_SHEEP', description='sp|P02444|KRA33_SHEEP Keratin, high sulfur matrix protein, IIIB3 OS=Ovis aries OX=9940 PE=1 SV=1', dbxrefs=[]),\n",
       " 'sp|P02445|KRA34_SHEEP': SeqRecord(seq=Seq('ACCARLCCSVPTSPATTICSSDKFCRCGVCLPSTCPHTVWFLQPTCCCDNRPPP...SCC'), id='sp|P02445|KRA34_SHEEP', name='sp|P02445|KRA34_SHEEP', description='sp|P02445|KRA34_SHEEP Keratin, high sulfur matrix protein, IIIB4 OS=Ovis aries OX=9940 PE=1 SV=1', dbxrefs=[]),\n",
       " 'sp|P02534|K1M1_SHEEP': SeqRecord(seq=Seq('SFNFCLPNLSFRSSCSSRPCVPSSCCGTTLPGACNIPANVGSCNWFCEGSFDGN...YVR'), id='sp|P02534|K1M1_SHEEP', name='sp|P02534|K1M1_SHEEP', description='sp|P02534|K1M1_SHEEP Keratin, type I microfibrillar 48 kDa, component 8C-1 OS=Ovis aries OX=9940 PE=1 SV=2', dbxrefs=[]),\n",
       " 'sp|P02539|K2M1_SHEEP': SeqRecord(seq=Seq('QNRQCCESNLEPLFSGYIETLRREAECAEADSGRLSSELNSLQEVLEGYKRRYE...RVL'), id='sp|P02539|K2M1_SHEEP', name='sp|P02539|K2M1_SHEEP', description='sp|P02539|K2M1_SHEEP Keratin, type II microfibrillar (Fragment) OS=Ovis aries OX=9940 PE=1 SV=1', dbxrefs=[]),\n",
       " 'sp|P02662|CASA1_BOVIN': SeqRecord(seq=Seq('MKLLILTCLVAVALARPKHPIKHQGLPQEVLNENLLRFFVAPFPEVFGKEKVNE...PLW'), id='sp|P02662|CASA1_BOVIN', name='sp|P02662|CASA1_BOVIN', description='sp|P02662|CASA1_BOVIN Alpha-S1-casein OS=Bos taurus OX=9913 GN=CSN1S1 PE=1 SV=2', dbxrefs=[]),\n",
       " 'sp|P02663|CASA2_BOVIN': SeqRecord(seq=Seq('MKFFIFTCLLAVALAKNTMEHVSSSEESIISQETYKQEKNMAINPSKENLCSTF...RYL'), id='sp|P02663|CASA2_BOVIN', name='sp|P02663|CASA2_BOVIN', description='sp|P02663|CASA2_BOVIN Alpha-S2-casein OS=Bos taurus OX=9913 GN=CSN1S2 PE=1 SV=2', dbxrefs=[]),\n",
       " 'sp|P02666|CASB_BOVIN': SeqRecord(seq=Seq('MKVLILACLVALALARELEELNVPGEIVESLSSSEESITRINKKIEKFQSEEQQ...IIV'), id='sp|P02666|CASB_BOVIN', name='sp|P02666|CASB_BOVIN', description='sp|P02666|CASB_BOVIN Beta-casein OS=Bos taurus OX=9913 GN=CSN2 PE=1 SV=2', dbxrefs=[]),\n",
       " 'sp|P02668|CASK_BOVIN': SeqRecord(seq=Seq('MMKSFFLVVTILALTLPFLGAQEQNQEQPIRCEKDERFFSDKIAKYIPIQYVLS...TAV'), id='sp|P02668|CASK_BOVIN', name='sp|P02668|CASK_BOVIN', description='sp|P02668|CASK_BOVIN Kappa-casein OS=Bos taurus OX=9913 GN=CSN3 PE=1 SV=1', dbxrefs=[]),\n",
       " 'sp|P02741|CRP_HUMAN': SeqRecord(seq=Seq('MEKLLCFLVLTSLSHAFGQTDMSRKAFVFPKESDTSYVSLKAPLTKPLKAFTVC...LWP'), id='sp|P02741|CRP_HUMAN', name='sp|P02741|CRP_HUMAN', description='sp|P02741|CRP_HUMAN C-reactive protein OS=Homo sapiens OX=9606 GN=CRP PE=1 SV=1', dbxrefs=[]),\n",
       " 'sp|P02753|RET4_HUMAN': SeqRecord(seq=Seq('MKWVWALLLLAALGSGRAERDCRVSSFRVKENFDKARFSGTWYAMAKKDPEGLF...NLL'), id='sp|P02753|RET4_HUMAN', name='sp|P02753|RET4_HUMAN', description='sp|P02753|RET4_HUMAN Retinol-binding protein 4 OS=Homo sapiens OX=9606 GN=RBP4 PE=1 SV=3', dbxrefs=[]),\n",
       " 'sp|P02768|ALBU_HUMAN': SeqRecord(seq=Seq('MKWVTFISLLFLFSSAYSRGVFRRDAHKSEVAHRFKDLGEENFKALVLIAFAQY...LGL'), id='sp|P02768|ALBU_HUMAN', name='sp|P02768|ALBU_HUMAN', description='sp|P02768|ALBU_HUMAN Albumin OS=Homo sapiens OX=9606 GN=ALB PE=1 SV=2', dbxrefs=[]),\n",
       " 'sp|P02769|ALBU_BOVIN': SeqRecord(seq=Seq('MKWVTFISLLLLFSSAYSRGVFRRDTHKSEIAHRFKDLGEEHFKGLVLIAFSQY...ALA'), id='sp|P02769|ALBU_BOVIN', name='sp|P02769|ALBU_BOVIN', description='sp|P02769|ALBU_BOVIN Albumin OS=Bos taurus OX=9913 GN=ALB PE=1 SV=4', dbxrefs=[]),\n",
       " 'sp|P02787|TRFE_HUMAN': SeqRecord(seq=Seq('MRLAVGALLVCAVLGLCLAVPDKTVRWCAVSEHEATKCQSFRDHMKSVIPSDGP...RRP'), id='sp|P02787|TRFE_HUMAN', name='sp|P02787|TRFE_HUMAN', description='sp|P02787|TRFE_HUMAN Serotransferrin OS=Homo sapiens OX=9606 GN=TF PE=1 SV=3', dbxrefs=[]),\n",
       " 'sp|P02788|TRFL_HUMAN': SeqRecord(seq=Seq('MKLVFLVLLFLGALGLCLAGRRRSVQWCAVSQPEATKCFQWQRNMRKVRGPPVS...LRK'), id='sp|P02788|TRFL_HUMAN', name='sp|P02788|TRFL_HUMAN', description='sp|P02788|TRFL_HUMAN Lactotransferrin OS=Homo sapiens OX=9606 GN=LTF PE=1 SV=6', dbxrefs=[]),\n",
       " 'sp|P04040|CATA_HUMAN': SeqRecord(seq=Seq('MADSRDPASDQMQHWKEQRAAQKADVLTTGAGNPVGDKLNVITVGPRGPLLVQD...ANL'), id='sp|P04040|CATA_HUMAN', name='sp|P04040|CATA_HUMAN', description='sp|P04040|CATA_HUMAN Catalase OS=Homo sapiens OX=9606 GN=CAT PE=1 SV=3', dbxrefs=[]),\n",
       " 'sp|P04264|K2C1_HUMAN': SeqRecord(seq=Seq('MSRQFSSRSGYRSGGGFSSGSAGIINYQRRTTSSSTRRSGGGGGRFSSCGGGGG...VTR'), id='sp|P04264|K2C1_HUMAN', name='sp|P04264|K2C1_HUMAN', description='sp|P04264|K2C1_HUMAN Keratin, type II cytoskeletal 1 OS=Homo sapiens OX=9606 GN=KRT1 PE=1 SV=6', dbxrefs=[]),\n",
       " 'sp|P05413|FABPH_HUMAN': SeqRecord(seq=Seq('MVDAFLGTWKLVDSKNFDDYMKSLGVGFATRQVASMTKPTTIIEKNGDILTLKT...KEA'), id='sp|P05413|FABPH_HUMAN', name='sp|P05413|FABPH_HUMAN', description='sp|P05413|FABPH_HUMAN Fatty acid-binding protein, heart OS=Homo sapiens OX=9606 GN=FABP3 PE=1 SV=4', dbxrefs=[]),\n",
       " 'sp|P06396|GELS_HUMAN': SeqRecord(seq=Seq('MAPHRPAPALLCALSLALCALSLPVRAATASRGASQAGAPQGRVPEARPNSMVV...LAA'), id='sp|P06396|GELS_HUMAN', name='sp|P06396|GELS_HUMAN', description='sp|P06396|GELS_HUMAN Gelsolin OS=Homo sapiens OX=9606 GN=GSN PE=1 SV=1', dbxrefs=[]),\n",
       " 'sp|P06732|KCRM_HUMAN': SeqRecord(seq=Seq('MPFGNTHNKFKLNYKPEEEYPDLSKHNNHMAKVLTLELYKKLRDKETPSGFTVD...AQK'), id='sp|P06732|KCRM_HUMAN', name='sp|P06732|KCRM_HUMAN', description='sp|P06732|KCRM_HUMAN Creatine kinase M-type OS=Homo sapiens OX=9606 GN=CKM PE=1 SV=2', dbxrefs=[]),\n",
       " 'sp|P07339|CATD_HUMAN': SeqRecord(seq=Seq('MQPSSLLPLALCLLAAPASALVRIPLHKFTSIRRTMSEVGGSVEDLIAKGPVSK...ARL'), id='sp|P07339|CATD_HUMAN', name='sp|P07339|CATD_HUMAN', description='sp|P07339|CATD_HUMAN Cathepsin D OS=Homo sapiens OX=9606 GN=CTSD PE=1 SV=1', dbxrefs=[]),\n",
       " 'sp|P08131|KRB2D_SHEEP': SeqRecord(seq=Seq('MACCSTSFCGFPTCSTGGTCGSNFCQPTCCQTSCCQPTSIQTSCCQPTSIQTSC...PTC'), id='sp|P08131|KRB2D_SHEEP', name='sp|P08131|KRB2D_SHEEP', description='sp|P08131|KRB2D_SHEEP Keratin, high-sulfur matrix protein, B2D OS=Ovis aries OX=9940 PE=4 SV=2', dbxrefs=[]),\n",
       " 'sp|P08263|GSTA1_HUMAN': SeqRecord(seq=Seq('MAEKPKLHYFNARGRMESTRWLLAAAGVEFEEKFIKSAEDLDKLRNDGYLMFQQ...FRF'), id='sp|P08263|GSTA1_HUMAN', name='sp|P08263|GSTA1_HUMAN', description='sp|P08263|GSTA1_HUMAN Glutathione S-transferase A1 OS=Homo sapiens OX=9606 GN=GSTA1 PE=1 SV=3', dbxrefs=[]),\n",
       " 'sp|P08311|CATG_HUMAN': SeqRecord(seq=Seq('MQPLLLLLAFLLPTGAEAGEIIGGRESRPHSRPYMAYLQIQSPAGQSRCGGFLV...TPL'), id='sp|P08311|CATG_HUMAN', name='sp|P08311|CATG_HUMAN', description='sp|P08311|CATG_HUMAN Cathepsin G OS=Homo sapiens OX=9606 GN=CTSG PE=1 SV=2', dbxrefs=[]),\n",
       " 'sp|P08758|ANXA5_HUMAN': SeqRecord(seq=Seq('MAQVLRGTVTDFPGFDERADAETLRKAMKGLGTDEESILTLLTSRSNAQRQEIS...EDD'), id='sp|P08758|ANXA5_HUMAN', name='sp|P08758|ANXA5_HUMAN', description='sp|P08758|ANXA5_HUMAN Annexin A5 OS=Homo sapiens OX=9606 GN=ANXA5 PE=1 SV=2', dbxrefs=[]),\n",
       " 'sp|P09211|GSTP1_HUMAN': SeqRecord(seq=Seq('MPPYTVVYFPVRGRCAALRMLLADQGQSWKEEVVTVETWQEGSLKASCLYGQLP...GKQ'), id='sp|P09211|GSTP1_HUMAN', name='sp|P09211|GSTP1_HUMAN', description='sp|P09211|GSTP1_HUMAN Glutathione S-transferase P OS=Homo sapiens OX=9606 GN=GSTP1 PE=1 SV=2', dbxrefs=[]),\n",
       " 'sp|P0C1U8|SSPA_STAAU': SeqRecord(seq=Seq('MKGKFLKVSSLFVATLTTATLVSSPAANALSSKAMDNHPQQTQSSKQQTPKIQK...DAA'), id='sp|P0C1U8|SSPA_STAAU', name='sp|P0C1U8|SSPA_STAAU', description='sp|P0C1U8|SSPA_STAAU Glutamyl endopeptidase OS=Staphylococcus aureus OX=1280 GN=sspA PE=1 SV=1', dbxrefs=[]),\n",
       " 'sp|P0DTE7|AMY1B_HUMAN': SeqRecord(seq=Seq('MKLFWLLFTIGFCWAQYSSNTQQGRTSIVHLFEWRWVDIALECERYLAPKGFGG...SKL'), id='sp|P0DTE7|AMY1B_HUMAN', name='sp|P0DTE7|AMY1B_HUMAN', description='sp|P0DTE7|AMY1B_HUMAN Alpha-amylase 1B OS=Homo sapiens OX=9606 GN=AMY1B PE=1 SV=1', dbxrefs=[]),\n",
       " 'sp|P0DTE8|AMY1C_HUMAN': SeqRecord(seq=Seq('MKLFWLLFTIGFCWAQYSSNTQQGRTSIVHLFEWRWVDIALECERYLAPKGFGG...SKL'), id='sp|P0DTE8|AMY1C_HUMAN', name='sp|P0DTE8|AMY1C_HUMAN', description='sp|P0DTE8|AMY1C_HUMAN Alpha-amylase 1C OS=Homo sapiens OX=9606 GN=AMY1C PE=1 SV=1', dbxrefs=[]),\n",
       " 'sp|P0DUB6|AMY1A_HUMAN': SeqRecord(seq=Seq('MKLFWLLFTIGFCWAQYSSNTQQGRTSIVHLFEWRWVDIALECERYLAPKGFGG...SKL'), id='sp|P0DUB6|AMY1A_HUMAN', name='sp|P0DUB6|AMY1A_HUMAN', description='sp|P0DUB6|AMY1A_HUMAN Alpha-amylase 1A OS=Homo sapiens OX=9606 GN=AMY1A PE=1 SV=1', dbxrefs=[]),\n",
       " 'sp|P10145|IL8_HUMAN': SeqRecord(seq=Seq('MTSKLAVALLAAFLISAALCEGAVLPRSAKELRCQCIKTYSKPFHPKFIKELRV...ENS'), id='sp|P10145|IL8_HUMAN', name='sp|P10145|IL8_HUMAN', description='sp|P10145|IL8_HUMAN Interleukin-8 OS=Homo sapiens OX=9606 GN=CXCL8 PE=1 SV=1', dbxrefs=[]),\n",
       " 'sp|P10599|THIO_HUMAN': SeqRecord(seq=Seq('MVKQIESKTAFQEALDAAGDKLVVVDFSATWCGPCKMIKPFFHSLSEKYSNVIF...ELV'), id='sp|P10599|THIO_HUMAN', name='sp|P10599|THIO_HUMAN', description='sp|P10599|THIO_HUMAN Thioredoxin OS=Homo sapiens OX=9606 GN=TXN PE=1 SV=3', dbxrefs=[]),\n",
       " 'sp|P10636|TAU_HUMAN': SeqRecord(seq=Seq('MAEPRQEFEVMEDHAGTYGLGDRKDQGGYTMHQDQEGDTDAGLKESPLQTPTED...QGL'), id='sp|P10636|TAU_HUMAN', name='sp|P10636|TAU_HUMAN', description='sp|P10636|TAU_HUMAN Microtubule-associated protein tau OS=Homo sapiens OX=9606 GN=MAPT PE=1 SV=5', dbxrefs=[]),\n",
       " 'sp|P12081|HARS1_HUMAN': SeqRecord(seq=Seq('MAERAALEELVKLQGERVRGLKQQKASAELIEEEVAKLLKLKAQLGPDESKQKF...CIC'), id='sp|P12081|HARS1_HUMAN', name='sp|P12081|HARS1_HUMAN', description='sp|P12081|HARS1_HUMAN Histidine--tRNA ligase, cytoplasmic OS=Homo sapiens OX=9606 GN=HARS1 PE=1 SV=2', dbxrefs=[]),\n",
       " 'sp|P13645|K1C10_HUMAN': SeqRecord(seq=Seq('MSVRYSSSKHYSSSRSGGGGGGGGCGGGGGVSSLRISSSKGSLGGGFSSGGFSG...PRY'), id='sp|P13645|K1C10_HUMAN', name='sp|P13645|K1C10_HUMAN', description='sp|P13645|K1C10_HUMAN Keratin, type I cytoskeletal 10 OS=Homo sapiens OX=9606 GN=KRT10 PE=1 SV=6', dbxrefs=[]),\n",
       " 'sp|P15241|K2M2_SHEEP': SeqRecord(seq=Seq('CGFSTVGSGFGSRAFSCVSACGPRPGRCCITAAPYRGISCYRGLTGGFGSRSVC...GRC'), id='sp|P15241|K2M2_SHEEP', name='sp|P15241|K2M2_SHEEP', description='sp|P15241|K2M2_SHEEP Keratin, type II microfibrillar, component 7C OS=Ovis aries OX=9940 PE=1 SV=1', dbxrefs=[]),\n",
       " 'sp|P15252|REF_HEVBR': SeqRecord(seq=Seq('MAEDEDNQQGQGEGLKYLGFVQDAATYAVTTFSNVYLFAKDKSGPLQPGVDIIE...GEN'), id='sp|P15252|REF_HEVBR', name='sp|P15252|REF_HEVBR', description='sp|P15252|REF_HEVBR Rubber elongation factor protein OS=Hevea brasiliensis OX=3981 PE=1 SV=2', dbxrefs=[]),\n",
       " 'sp|P15559|NQO1_HUMAN': SeqRecord(seq=Seq('MVGRRALIVLAHSERTSFNYAMKEAAAAALKKKGWEVVESDLYAMNFNPIISRK...ARK'), id='sp|P15559|NQO1_HUMAN', name='sp|P15559|NQO1_HUMAN', description='sp|P15559|NQO1_HUMAN NAD(P)H dehydrogenase [quinone] 1 OS=Homo sapiens OX=9606 GN=NQO1 PE=1 SV=1', dbxrefs=[]),\n",
       " 'sp|P16083|NQO2_HUMAN': SeqRecord(seq=Seq('MAGKKVLIVYAHQEPKSFNGSLKNVAVDELSRQGCTVTVSDLYAMNLEPRATDK...FGQ'), id='sp|P16083|NQO2_HUMAN', name='sp|P16083|NQO2_HUMAN', description='sp|P16083|NQO2_HUMAN Ribosyldihydronicotinamide dehydrogenase [quinone] OS=Homo sapiens OX=9606 GN=NQO2 PE=1 SV=5', dbxrefs=[]),\n",
       " 'sp|P25690|K1M2_SHEEP': SeqRecord(seq=Seq('MSFNFCLPNLSFRSSCSSRPCVPSSCCGTTLPGACNIPASVGSCNWFCEGSFNG...FVH'), id='sp|P25690|K1M2_SHEEP', name='sp|P25690|K1M2_SHEEP', description='sp|P25690|K1M2_SHEEP Keratin, type I microfibrillar, 47.6 kDa OS=Ovis aries OX=9940 PE=3 SV=2', dbxrefs=[]),\n",
       " 'sp|P25691|K2M3_SHEEP': SeqRecord(seq=Seq('SCRSYRISPGYSVTRTFSSCSAVAPKTGSRCCISAAPYRGVSCYRGLTGFGSRS...RFA'), id='sp|P25691|K2M3_SHEEP', name='sp|P25691|K2M3_SHEEP', description='sp|P25691|K2M3_SHEEP Keratin, type II microfibrillar, component 5 OS=Ovis aries OX=9940 PE=1 SV=1', dbxrefs=[]),\n",
       " 'sp|P26372|KRUC_SHEEP': SeqRecord(seq=Seq('MGCSGCSGGCGSSCGGCGSRCGGCSSSCCVPVCCCKPVCCCVPACSCSSCGKGG...RKI'), id='sp|P26372|KRUC_SHEEP', name='sp|P26372|KRUC_SHEEP', description='sp|P26372|KRUC_SHEEP Keratin, ultra high-sulfur matrix protein OS=Ovis aries OX=9940 PE=2 SV=1', dbxrefs=[]),\n",
       " 'sp|P30879|PEPC_PIG': SeqRecord(seq=Seq('SVIKVPLKKLKSIRQAMKEKGLLEEFLKTHKYDPAQRYRIGDISVALEPMAYLE...LVL'), id='sp|P30879|PEPC_PIG', name='sp|P30879|PEPC_PIG', description='sp|P30879|PEPC_PIG Gastricsin (Fragment) OS=Sus scrofa OX=9823 GN=PGC PE=1 SV=1', dbxrefs=[]),\n",
       " 'sp|P32503|GAG_SCVLA': SeqRecord(seq=Seq('MLRFVTKNSQDKSSDLFSICSDRGTFVAHNRVRTDFKFDNLVFNRVYGVSQKFT...LVE'), id='sp|P32503|GAG_SCVLA', name='sp|P32503|GAG_SCVLA', description='sp|P32503|GAG_SCVLA Major capsid protein OS=Saccharomyces cerevisiae virus L-A OX=11008 GN=gag PE=1 SV=1', dbxrefs=[]),\n",
       " 'sp|P35527|K1C9_HUMAN': SeqRecord(seq=Seq('MSCRQFSSSYLSRSGGGGGGGLGSGGSIRSSYSRFSSSGGGGGGGRFSSSSGYG...SHS'), id='sp|P35527|K1C9_HUMAN', name='sp|P35527|K1C9_HUMAN', description='sp|P35527|K1C9_HUMAN Keratin, type I cytoskeletal 9 OS=Homo sapiens OX=9606 GN=KRT9 PE=1 SV=3', dbxrefs=[]),\n",
       " 'sp|P35908|K22E_HUMAN': SeqRecord(seq=Seq('MSCQISCKSRGRGGGGGGFRGFSSGSAVVSGGSRRSTSSFSCLSRHGGGGGGFG...SFR'), id='sp|P35908|K22E_HUMAN', name='sp|P35908|K22E_HUMAN', description='sp|P35908|K22E_HUMAN Keratin, type II cytoskeletal 2 epidermal OS=Homo sapiens OX=9606 GN=KRT2 PE=1 SV=2', dbxrefs=[]),\n",
       " 'sp|P41159|LEP_HUMAN': SeqRecord(seq=Seq('MHWGTLCGFLWLWPYLFYVQAVPIQKVQDDTKTLIKTIVTRINDISHTQSVSSK...PGC'), id='sp|P41159|LEP_HUMAN', name='sp|P41159|LEP_HUMAN', description='sp|P41159|LEP_HUMAN Leptin OS=Homo sapiens OX=9606 GN=LEP PE=1 SV=1', dbxrefs=[]),\n",
       " 'sp|P42212|GFP_AEQVI': SeqRecord(seq=Seq('MSKGEELFTGVVPILVELDGDVNGHKFSVSGEGEGDATYGKLTLKFICTTGKLP...LYK'), id='sp|P42212|GFP_AEQVI', name='sp|P42212|GFP_AEQVI', description='sp|P42212|GFP_AEQVI Green fluorescent protein OS=Aequorea victoria OX=6100 GN=GFP PE=1 SV=1', dbxrefs=[]),\n",
       " 'sp|P51965|UB2E1_HUMAN': SeqRecord(seq=Seq('MSDDDSRASTSSSSSSSSNQQTEKETNTPKKKESKVSMSKNSKLLSTSAKRIQK...YAT'), id='sp|P51965|UB2E1_HUMAN', name='sp|P51965|UB2E1_HUMAN', description='sp|P51965|UB2E1_HUMAN Ubiquitin-conjugating enzyme E2 E1 OS=Homo sapiens OX=9606 GN=UBE2E1 PE=1 SV=1', dbxrefs=[]),\n",
       " 'sp|P55957|BID_HUMAN': SeqRecord(seq=Seq('MDCEVNNGSSLRDECITNLLVFGFLQSCSDNSFRRELDALGHELPVLAPQWEGY...GMD'), id='sp|P55957|BID_HUMAN', name='sp|P55957|BID_HUMAN', description='sp|P55957|BID_HUMAN BH3-interacting domain death agonist OS=Homo sapiens OX=9606 GN=BID PE=1 SV=1', dbxrefs=[]),\n",
       " 'sp|P61626|LYSC_HUMAN': SeqRecord(seq=Seq('MKALIVLGLVLLSVTVQGKVFERCELARTLKRLGMDGYRGISLANWMCLAKWES...CGV'), id='sp|P61626|LYSC_HUMAN', name='sp|P61626|LYSC_HUMAN', description='sp|P61626|LYSC_HUMAN Lysozyme C OS=Homo sapiens OX=9606 GN=LYZ PE=1 SV=1', dbxrefs=[]),\n",
       " 'sp|P61769|B2MG_HUMAN': SeqRecord(seq=Seq('MSRSVALAVLALLSLSGLEAIQRTPKIQVYSRHPAENGKSNFLNCYVSGFHPSD...RDM'), id='sp|P61769|B2MG_HUMAN', name='sp|P61769|B2MG_HUMAN', description='sp|P61769|B2MG_HUMAN Beta-2-microglobulin OS=Homo sapiens OX=9606 GN=B2M PE=1 SV=1', dbxrefs=[]),\n",
       " 'sp|P62937|PPIA_HUMAN': SeqRecord(seq=Seq('MVNPTVFFDIAVDGEPLGRVSFELFADKVPKTAENFRALSTGEKGFGYKGSCFH...QLE'), id='sp|P62937|PPIA_HUMAN', name='sp|P62937|PPIA_HUMAN', description='sp|P62937|PPIA_HUMAN Peptidyl-prolyl cis-trans isomerase A OS=Homo sapiens OX=9606 GN=PPIA PE=1 SV=2', dbxrefs=[]),\n",
       " 'sp|P62979|RS27A_HUMAN': SeqRecord(seq=Seq('MQIFVKTLTGKTITLEVEPSDTIENVKAKIQDKEGIPPDQQRLIFAGKQLEDGR...EDK'), id='sp|P62979|RS27A_HUMAN', name='sp|P62979|RS27A_HUMAN', description='sp|P62979|RS27A_HUMAN Ubiquitin-40S ribosomal protein S27a OS=Homo sapiens OX=9606 GN=RPS27A PE=1 SV=2', dbxrefs=[]),\n",
       " 'sp|P63165|SUMO1_HUMAN': SeqRecord(seq=Seq('MSDQEAKPSTEDLGDKKEGEYIKLKVIGQDSSEIHFKVKMTTHLKKLKESYCQR...STV'), id='sp|P63165|SUMO1_HUMAN', name='sp|P63165|SUMO1_HUMAN', description='sp|P63165|SUMO1_HUMAN Small ubiquitin-related modifier 1 OS=Homo sapiens OX=9606 GN=SUMO1 PE=1 SV=1', dbxrefs=[]),\n",
       " 'sp|P63279|UBC9_HUMAN': SeqRecord(seq=Seq('MSGIALSRLAQERKAWRKDHPFGFVAVPTKNPDGTMNLMNWECAIPGKKGTPWE...APS'), id='sp|P63279|UBC9_HUMAN', name='sp|P63279|UBC9_HUMAN', description='sp|P63279|UBC9_HUMAN SUMO-conjugating enzyme UBC9 OS=Homo sapiens OX=9606 GN=UBE2I PE=1 SV=1', dbxrefs=[]),\n",
       " 'sp|P68082|MYG_HORSE': SeqRecord(seq=Seq('MGLSDGEWQQVLNVWGKVEADIAGHGQEVLIRLFTGHPETLEKFDKFKHLKTEA...FQG'), id='sp|P68082|MYG_HORSE', name='sp|P68082|MYG_HORSE', description='sp|P68082|MYG_HORSE Myoglobin OS=Equus caballus OX=9796 GN=MB PE=1 SV=2', dbxrefs=[]),\n",
       " 'sp|P68871|HBB_HUMAN': SeqRecord(seq=Seq('MVHLTPEEKSAVTALWGKVNVDEVGGEALGRLLVVYPWTQRFFESFGDLSTPDA...KYH'), id='sp|P68871|HBB_HUMAN', name='sp|P68871|HBB_HUMAN', description='sp|P68871|HBB_HUMAN Hemoglobin subunit beta OS=Homo sapiens OX=9606 GN=HBB PE=1 SV=2', dbxrefs=[]),\n",
       " 'sp|P69905|HBA_HUMAN': SeqRecord(seq=Seq('MVLSPADKTNVKAAWGKVGAHAGEYGAEALERMFLSFPTTKTYFPHFDLSHGSA...KYR'), id='sp|P69905|HBA_HUMAN', name='sp|P69905|HBA_HUMAN', description='sp|P69905|HBA_HUMAN Hemoglobin subunit alpha OS=Homo sapiens OX=9606 GN=HBA2 PE=1 SV=2', dbxrefs=[]),\n",
       " 'sp|P78385|KRT83_HUMAN': SeqRecord(seq=Seq('MTCGFNSIGCGFRPGNFSCVSACGPRPSRCCITAAPYRGISCYRGLTGGFGSHS...GRH'), id='sp|P78385|KRT83_HUMAN', name='sp|P78385|KRT83_HUMAN', description='sp|P78385|KRT83_HUMAN Keratin, type II cuticular Hb3 OS=Homo sapiens OX=9606 GN=KRT83 PE=1 SV=2', dbxrefs=[]),\n",
       " 'sp|P78386|KRT85_HUMAN': SeqRecord(seq=Seq('MSCRSYRISSGCGVTRNFSSCSAVAPKTGNRCCISAAPYRGVSCYRGLTGFGSR...RFA'), id='sp|P78386|KRT85_HUMAN', name='sp|P78386|KRT85_HUMAN', description='sp|P78386|KRT85_HUMAN Keratin, type II cuticular Hb5 OS=Homo sapiens OX=9606 GN=KRT85 PE=1 SV=1', dbxrefs=[]),\n",
       " 'sp|P81054|PLMP_GRIFR': SeqRecord(seq=Seq('MFSSVMVALVSLAVAVSANPGLSLKVSGPEAVDGVNNLKVVTTITNTGDETLKL...AQS'), id='sp|P81054|PLMP_GRIFR', name='sp|P81054|PLMP_GRIFR', description='sp|P81054|PLMP_GRIFR Peptidyl-Lys metalloendopeptidase OS=Grifola frondosa OX=5627 GN=MEP PE=1 SV=2', dbxrefs=[]),\n",
       " 'sp|P99999|CYC_HUMAN': SeqRecord(seq=Seq('MGDVEKGKKIFIMKCSQCHTVEKGGKHKTGPNLHGLFGRKTGQAPGYSYTAANK...TNE'), id='sp|P99999|CYC_HUMAN', name='sp|P99999|CYC_HUMAN', description='sp|P99999|CYC_HUMAN Cytochrome c OS=Homo sapiens OX=9606 GN=CYCS PE=1 SV=2', dbxrefs=[]),\n",
       " 'sp|Q02958|KRA61_SHEEP': SeqRecord(seq=Seq('MCGYYGNYYGGLGCGSYSYGGLGCGYGSCYGSGFRRLGCGYGCGYGYGSRSLCG...YYY'), id='sp|Q02958|KRA61_SHEEP', name='sp|Q02958|KRA61_SHEEP', description='sp|Q02958|KRA61_SHEEP Keratin-associated protein 6-1 OS=Ovis aries OX=9940 GN=KRTAP6-1 PE=1 SV=2', dbxrefs=[]),\n",
       " 'sp|Q06830|PRDX1_HUMAN': SeqRecord(seq=Seq('MSSGNAKIGHPAPNFKATAVMPDGQFKDISLSDYKGKYVVFFFYPLDFTFVCPT...KQK'), id='sp|Q06830|PRDX1_HUMAN', name='sp|Q06830|PRDX1_HUMAN', description='sp|Q06830|PRDX1_HUMAN Peroxiredoxin-1 OS=Homo sapiens OX=9606 GN=PRDX1 PE=1 SV=1', dbxrefs=[]),\n",
       " 'sp|Q10735|PEPB_PIG': SeqRecord(seq=Seq('MERIILRKGKSIREAMEEQGVLEKFLKNRPKIDPAAKYHFNNDAVAYEPFTNYL...GTP'), id='sp|Q10735|PEPB_PIG', name='sp|Q10735|PEPB_PIG', description='sp|Q10735|PEPB_PIG Pepsin B (Fragment) OS=Sus scrofa OX=9823 GN=PGB PE=1 SV=1', dbxrefs=[]),\n",
       " 'sp|Q14525|KT33B_HUMAN': SeqRecord(seq=Seq('MPYNFCLPSLSCRTSCSSRPCVPPSCHGYTLPGACNIPANVSNCNWFCEGSFNG...FGY'), id='sp|Q14525|KT33B_HUMAN', name='sp|Q14525|KT33B_HUMAN', description='sp|Q14525|KT33B_HUMAN Keratin, type I cuticular Ha3-II OS=Homo sapiens OX=9606 GN=KRT33B PE=1 SV=3', dbxrefs=[]),\n",
       " 'sp|Q14532|K1H2_HUMAN': SeqRecord(seq=Seq('MTSSCCVTNNLQASLKSCPRPASVCSSGVNCRPELCLGYVCQPMACLPSVCLPT...GRY'), id='sp|Q14532|K1H2_HUMAN', name='sp|Q14532|K1H2_HUMAN', description='sp|Q14532|K1H2_HUMAN Keratin, type I cuticular Ha2 OS=Homo sapiens OX=9606 GN=KRT32 PE=1 SV=3', dbxrefs=[]),\n",
       " 'sp|Q14533|KRT81_HUMAN': SeqRecord(seq=Seq('MTCGSGFGGRAFSCISACGPRPGRCCITAAPYRGISCYRGLTGGFGSHSVCGGF...RKC'), id='sp|Q14533|KRT81_HUMAN', name='sp|Q14533|KRT81_HUMAN', description='sp|Q14533|KRT81_HUMAN Keratin, type II cuticular Hb1 OS=Homo sapiens OX=9606 GN=KRT81 PE=1 SV=3', dbxrefs=[]),\n",
       " 'sp|Q15323|K1H1_HUMAN': SeqRecord(seq=Seq('MPYNFCLPSLSCRTSCSSRPCVPPSCHSCTLPGACNIPANVSNCNWFCEGSFNG...FVR'), id='sp|Q15323|K1H1_HUMAN', name='sp|Q15323|K1H1_HUMAN', description='sp|Q15323|K1H1_HUMAN Keratin, type I cuticular Ha1 OS=Homo sapiens OX=9606 GN=KRT31 PE=1 SV=3', dbxrefs=[]),\n",
       " 'sp|Q15843|NEDD8_HUMAN': SeqRecord(seq=Seq('MLIKVKTLTGKEIEIDIEPTDKVERIKERVEEKEGIPPQQQRLIYSGKQMNDEK...LRQ'), id='sp|Q15843|NEDD8_HUMAN', name='sp|Q15843|NEDD8_HUMAN', description='sp|Q15843|NEDD8_HUMAN NEDD8 OS=Homo sapiens OX=9606 GN=NEDD8 PE=1 SV=1', dbxrefs=[]),\n",
       " 'sp|Q29463|TRY2_BOVIN': SeqRecord(seq=Seq('MHPLLILAFVGAAVAFPSDDDDKIVGGYTCAENSVPYQVSLNAGYHFCGGSLIN...ANS'), id='sp|Q29463|TRY2_BOVIN', name='sp|Q29463|TRY2_BOVIN', description='sp|Q29463|TRY2_BOVIN Anionic trypsin OS=Bos taurus OX=9913 PE=2 SV=1', dbxrefs=[]),\n",
       " 'sp|Q7M135|LYSC_LYSEN': SeqRecord(seq=Seq('GVSGSCNIDVVCPEGNGHRDVIRSVAAYSKQGTMWCTGSLVNNSANDKKMYFLT...PPV'), id='sp|Q7M135|LYSC_LYSEN', name='sp|Q7M135|LYSC_LYSEN', description='sp|Q7M135|LYSC_LYSEN Lysyl endopeptidase OS=Lysobacter enzymogenes OX=69 PE=1 SV=1', dbxrefs=[]),\n",
       " 'sp|Q92764|KRT35_HUMAN': SeqRecord(seq=Seq('MASKCLKAGFSSGSLKSPGGASGGSTRVSAMYSSSSCKLPSLSPVARSFSACSV...GRF'), id='sp|Q92764|KRT35_HUMAN', name='sp|Q92764|KRT35_HUMAN', description='sp|Q92764|KRT35_HUMAN Keratin, type I cuticular Ha5 OS=Homo sapiens OX=9606 GN=KRT35 PE=1 SV=5', dbxrefs=[]),\n",
       " 'sp|Q9NSB2|KRT84_HUMAN': SeqRecord(seq=Seq('MSCRSYRVSSGHRVGNFSSCSAMTPQNLNRFRANSVSCWSGPGFRGLGSFGSRS...TKY'), id='sp|Q9NSB2|KRT84_HUMAN', name='sp|Q9NSB2|KRT84_HUMAN', description='sp|Q9NSB2|KRT84_HUMAN Keratin, type II cuticular Hb4 OS=Homo sapiens OX=9606 GN=KRT84 PE=2 SV=2', dbxrefs=[]),\n",
       " 'sp|Q9NSB4|KRT82_HUMAN': SeqRecord(seq=Seq('MSYHSFQPGSRCGSQSFSSYSAVMPRMVTHYAVSKGPCRPGGGRGLRALGCLGS...HKH'), id='sp|Q9NSB4|KRT82_HUMAN', name='sp|Q9NSB4|KRT82_HUMAN', description='sp|Q9NSB4|KRT82_HUMAN Keratin, type II cuticular Hb2 OS=Homo sapiens OX=9606 GN=KRT82 PE=1 SV=3', dbxrefs=[])}"
      ]
     },
     "execution_count": 22,
     "metadata": {},
     "output_type": "execute_result"
    }
   ],
   "execution_count": 22
  },
  {
   "metadata": {
    "ExecuteTime": {
     "end_time": "2024-04-25T13:56:54.676085Z",
     "start_time": "2024-04-25T13:56:54.361665Z"
    }
   },
   "cell_type": "code",
   "source": [
    "milk_st = FragPipeRun(\n",
    "    path='../fp_results/milk_st_db1_test',\n",
    "    db=record_dict,\n",
    "    run_id='milk_st_db1',\n",
    "    contams=contams_dict,\n",
    "    format='pepXML',\n",
    "    decoy_tag='rev_',\n",
    "    n_scans_path='../mzml_data_milk/n_scans.csv'\n",
    ")"
   ],
   "id": "373548914912719c",
   "outputs": [
    {
     "name": "stdout",
     "output_type": "stream",
     "text": [
      "Reading # of scans from ../mzml_data_milk/n_scans.csv\n"
     ]
    }
   ],
   "execution_count": 3
  },
  {
   "cell_type": "code",
   "source": [
    "exp_design = pd.read_csv('../briquettes_exp_design.csv')\n",
    "exp_design = exp_design.merge(milk_st.n_scans, on='sample')"
   ],
   "metadata": {
    "collapsed": false,
    "ExecuteTime": {
     "end_time": "2024-04-25T13:56:54.684387Z",
     "start_time": "2024-04-25T13:56:54.677687Z"
    }
   },
   "id": "3ecd52eae4a396e1",
   "outputs": [],
   "execution_count": 4
  },
  {
   "cell_type": "code",
   "source": [
    "exp_design = exp_design.sort_values(['cooking', 'sample' ,'firing'])"
   ],
   "metadata": {
    "collapsed": false,
    "ExecuteTime": {
     "end_time": "2024-04-25T13:56:54.704486Z",
     "start_time": "2024-04-25T13:56:54.685504Z"
    }
   },
   "id": "5e21adfc15c72591",
   "outputs": [],
   "execution_count": 5
  },
  {
   "cell_type": "code",
   "source": [
    "p1 = sns.catplot(exp_design, x='sample', y='n_ms2scans', col='cooking', hue='firing', kind='bar', sharex=False)\n",
    "p1.set_xlabels(\"Sample\", size=12)\n",
    "p1.set_ylabels(\"# of MS2 spectra\", size=12)\n",
    "p1.fig.set_figwidth(8,10)\n",
    "\n",
    "p1.axes[0,0].set_xticklabels(p1.axes[0,0].get_xticklabels(), rotation=40, ha='right', rotation_mode=\"anchor\")\n",
    "p1.axes[0,1].set_xticklabels(p1.axes[0,1].get_xticklabels(), rotation=40, ha='right', rotation_mode=\"anchor\")\n"
   ],
   "metadata": {
    "collapsed": false,
    "ExecuteTime": {
     "end_time": "2024-04-25T13:56:55.782868Z",
     "start_time": "2024-04-25T13:56:54.705446Z"
    }
   },
   "id": "6a1efa6e3473c29b",
   "outputs": [
    {
     "name": "stderr",
     "output_type": "stream",
     "text": [
      "/tmp/ipykernel_183997/4000036423.py:6: UserWarning: set_ticklabels() should only be used with a fixed number of ticks, i.e. after set_ticks() or using a FixedLocator.\n",
      "  p1.axes[0,0].set_xticklabels(p1.axes[0,0].get_xticklabels(), rotation=40, ha='right', rotation_mode=\"anchor\")\n",
      "/tmp/ipykernel_183997/4000036423.py:7: UserWarning: set_ticklabels() should only be used with a fixed number of ticks, i.e. after set_ticks() or using a FixedLocator.\n",
      "  p1.axes[0,1].set_xticklabels(p1.axes[0,1].get_xticklabels(), rotation=40, ha='right', rotation_mode=\"anchor\")\n"
     ]
    },
    {
     "data": {
      "text/plain": [
       "[Text(0, 0, 'milk_1A'),\n",
       " Text(1, 0, 'milk_1B'),\n",
       " Text(2, 0, 'milk_2A'),\n",
       " Text(3, 0, 'milk_2B'),\n",
       " Text(4, 0, 'milk_3A'),\n",
       " Text(5, 0, 'milk_3B'),\n",
       " Text(6, 0, 'milk_5A'),\n",
       " Text(7, 0, 'milk_6A'),\n",
       " Text(8, 0, 'milk_7A'),\n",
       " Text(9, 0, 'milk_8A'),\n",
       " Text(10, 0, 'milk_8B')]"
      ]
     },
     "execution_count": 6,
     "metadata": {},
     "output_type": "execute_result"
    },
    {
     "data": {
      "text/plain": [
       "<Figure size 800x500 with 2 Axes>"
      ],
      "image/png": "[encoded data removed]"
     },
     "metadata": {},
     "output_type": "display_data"
    }
   ],
   "execution_count": 6
  },
  {
   "cell_type": "code",
   "source": "psm_data = milk_st.read(n_procs=1, save_path=None, remove_contams=True, remove_decoy=True)\n",
   "metadata": {
    "collapsed": false,
    "ExecuteTime": {
     "end_time": "2024-04-25T13:57:19.574408Z",
     "start_time": "2024-04-25T13:56:55.783989Z"
    }
   },
   "id": "9f0f90239dbb411c",
   "outputs": [
    {
     "name": "stdout",
     "output_type": "stream",
     "text": [
      "Collecting PSMs from pepXML files\n",
      "\tReading sample milk_1B ... Done\n",
      "\tReading sample milk_1A ... Done\n",
      "\tReading sample milk_2B ... Done\n",
      "\tReading sample milk_2A ... Done\n"
     ]
    }
   ],
   "execution_count": 7
  },
  {
   "metadata": {
    "ExecuteTime": {
     "end_time": "2024-04-25T13:57:19.610225Z",
     "start_time": "2024-04-25T13:57:19.575797Z"
    }
   },
   "cell_type": "code",
   "source": "psm_data",
   "id": "193a68aac6817a5f",
   "outputs": [
    {
     "data": {
      "text/plain": [
       "      Scan_No       RTsec                        Seq   calc_mass  delta_mass  \\\n",
       "1159     2517   404.52063                TPEVDDEALEK  1244.57710    0.000000   \n",
       "1233     2656   418.11703                TPEVDDEALEK  1244.57710    0.000000   \n",
       "1253     2694   421.98390                TPEVDDEALEK  1244.57710    0.000000   \n",
       "1265     2715   423.79877                 ALKALPMHIR  1164.68000   58.006470   \n",
       "1271     2734   426.05524                TPEVDDEALEK  1244.57708  101.047850   \n",
       "...       ...         ...                        ...         ...         ...   \n",
       "2375     6798  1089.43690             LSFNPTQLEEQCHI  1714.79850  -57.020264   \n",
       "2324     6670  1071.41770        YVEELKPTPEGDLEILLQK  2213.18290  423.178960   \n",
       "2191     6264  1014.68317              KADAVTLDGGMVF  1338.64880   59.145874   \n",
       "1541     4160   730.85510       KSCHTGLGRSAGWIIPMGIL  2169.11870   25.947510   \n",
       "2659     7590  1201.13650  AGTWYSLAMAASDISLLDAQSAPLR  2623.29500  100.090576   \n",
       "\n",
       "       score  probability                prot_id  start  \\\n",
       "1159  30.448       1.0000  sp|P02754A|LACB_BOVIN    140   \n",
       "1233  34.577       1.0000  sp|P02754A|LACB_BOVIN    140   \n",
       "1253  34.830       1.0000  sp|P02754A|LACB_BOVIN    140   \n",
       "1265  23.249       1.0000  sp|P02754A|LACB_BOVIN    154   \n",
       "1271  34.293       1.0000  sp|P02754A|LACB_BOVIN    140   \n",
       "...      ...          ...                    ...    ...   \n",
       "2375  14.384       0.9870  sp|P02754A|LACB_BOVIN    164   \n",
       "2324  14.549       0.9537  sp|P02754A|LACB_BOVIN     57   \n",
       "2191   7.264       0.9303   sp|P24627|TRFL_BOVIN     71   \n",
       "1541   9.584       0.1411   sp|P24627|TRFL_BOVIN    131   \n",
       "2659  11.731       0.0853  sp|P02754A|LACB_BOVIN     31   \n",
       "\n",
       "                                         other_prot_ids  \\\n",
       "1159  [sp|P02754B|LACB_BOVIN, sp|P02754C|LACB_BOVIN,...   \n",
       "1233  [sp|P02754B|LACB_BOVIN, sp|P02754C|LACB_BOVIN,...   \n",
       "1253  [sp|P02754B|LACB_BOVIN, sp|P02754C|LACB_BOVIN,...   \n",
       "1265  [sp|P02754B|LACB_BOVIN, sp|P02754C|LACB_BOVIN,...   \n",
       "1271  [sp|P02754B|LACB_BOVIN, sp|P02754C|LACB_BOVIN,...   \n",
       "...                                                 ...   \n",
       "2375  [sp|P02754B|LACB_BOVIN, sp|P02754C|LACB_BOVIN,...   \n",
       "2324                            [sp|P02754B|LACB_BOVIN]   \n",
       "2191                                                 []   \n",
       "1541                                                 []   \n",
       "2659  [sp|P02754B|LACB_BOVIN, sp|P02754C|LACB_BOVIN,...   \n",
       "\n",
       "                                           var_mods_pos  \\\n",
       "1159                  [0, 0, 0, 0, 0, 0, 0, 0, 0, 0, 0]   \n",
       "1233                  [0, 0, 0, 0, 0, 0, 0, 0, 0, 0, 0]   \n",
       "1253                  [0, 0, 0, 0, 0, 0, 0, 0, 0, 0, 0]   \n",
       "1265                [0, 0, 0, 0, 0, 0, 15.995, 0, 0, 0]   \n",
       "1271                  [0, 0, 0, 0, 0, 0, 0, 0, 0, 0, 0]   \n",
       "...                                                 ...   \n",
       "2375    [0, 0, 0, 0, 0, 0, 0, 0, 0, 0, 0, 57.021, 0, 0]   \n",
       "2324  [0, 0, 0, 0, 0, 0, 0, 0, 0, 0, 0, 0, 0, 0, 0, ...   \n",
       "2191       [0, 0, 0, 0, 0, 0, 0, 0, 0, 0, 15.995, 0, 0]   \n",
       "1541  [0, 0, 57.021, 0, 0, 0, 0, 0, 0, 0, 0, 0, 0, 0...   \n",
       "2659  [0, 0, 0, 0, 0, 0, 0, 0, 15.995, 0, 0, 0, 0, 0...   \n",
       "\n",
       "                                    delta_mass_mods_pos  is_decoy  \\\n",
       "1159                  [0, 0, 0, 0, 0, 0, 0, 0, 0, 0, 0]     False   \n",
       "1233                  [0, 0, 0, 0, 0, 0, 0, 0, 0, 0, 0]     False   \n",
       "1253                  [0, 0, 0, 0, 0, 0, 0, 0, 0, 0, 0]     False   \n",
       "1265  [0.0, 0.0, 58.00647, 0.0, 0.0, 0.0, 0.0, 0.0, ...     False   \n",
       "1271                  [0, 0, 0, 0, 0, 0, 0, 0, 0, 0, 0]     False   \n",
       "...                                                 ...       ...   \n",
       "2375  [0.0, 0.0, 0.0, 0.0, 0.0, 0.0, 0.0, 0.0, 0.0, ...     False   \n",
       "2324  [0.0, 0.0, 0.0, 0.0, 423.17896, 423.17896, 0.0...     False   \n",
       "2191  [0.0, 0.0, 0.0, 0.0, 0.0, 0.0, 0.0, 0.0, 59.14...     False   \n",
       "1541  [0.0, 25.94751, 25.94751, 25.94751, 25.94751, ...     False   \n",
       "2659  [100.090576, 100.090576, 100.090576, 100.09057...     False   \n",
       "\n",
       "           Run_id   Sample         q  \n",
       "1159  milk_st_db1  milk_1B  0.000000  \n",
       "1233  milk_st_db1  milk_1B  0.000000  \n",
       "1253  milk_st_db1  milk_1B  0.000000  \n",
       "1265  milk_st_db1  milk_1B  0.000000  \n",
       "1271  milk_st_db1  milk_1B  0.000000  \n",
       "...           ...      ...       ...  \n",
       "2375  milk_st_db1  milk_2A  0.001607  \n",
       "2324  milk_st_db1  milk_2A  0.001607  \n",
       "2191  milk_st_db1  milk_2A  0.002388  \n",
       "1541  milk_st_db1  milk_2A  0.011372  \n",
       "2659  milk_st_db1  milk_2A  0.013575  \n",
       "\n",
       "[1759 rows x 16 columns]"
      ],
      "text/html": [
       "<div>\n",
       "<style scoped>\n",
       "    .dataframe tbody tr th:only-of-type {\n",
       "        vertical-align: middle;\n",
       "    }\n",
       "\n",
       "    .dataframe tbody tr th {\n",
       "        vertical-align: top;\n",
       "    }\n",
       "\n",
       "    .dataframe thead th {\n",
       "        text-align: right;\n",
       "    }\n",
       "</style>\n",
       "<table border=\"1\" class=\"dataframe\">\n",
       "  <thead>\n",
       "    <tr style=\"text-align: right;\">\n",
       "      <th></th>\n",
       "      <th>Scan_No</th>\n",
       "      <th>RTsec</th>\n",
       "      <th>Seq</th>\n",
       "      <th>calc_mass</th>\n",
       "      <th>delta_mass</th>\n",
       "      <th>score</th>\n",
       "      <th>probability</th>\n",
       "      <th>prot_id</th>\n",
       "      <th>start</th>\n",
       "      <th>other_prot_ids</th>\n",
       "      <th>var_mods_pos</th>\n",
       "      <th>delta_mass_mods_pos</th>\n",
       "      <th>is_decoy</th>\n",
       "      <th>Run_id</th>\n",
       "      <th>Sample</th>\n",
       "      <th>q</th>\n",
       "    </tr>\n",
       "  </thead>\n",
       "  <tbody>\n",
       "    <tr>\n",
       "      <th>1159</th>\n",
       "      <td>2517</td>\n",
       "      <td>404.52063</td>\n",
       "      <td>TPEVDDEALEK</td>\n",
       "      <td>1244.57710</td>\n",
       "      <td>0.000000</td>\n",
       "      <td>30.448</td>\n",
       "      <td>1.0000</td>\n",
       "      <td>sp|P02754A|LACB_BOVIN</td>\n",
       "      <td>140</td>\n",
       "      <td>[sp|P02754B|LACB_BOVIN, sp|P02754C|LACB_BOVIN,...</td>\n",
       "      <td>[0, 0, 0, 0, 0, 0, 0, 0, 0, 0, 0]</td>\n",
       "      <td>[0, 0, 0, 0, 0, 0, 0, 0, 0, 0, 0]</td>\n",
       "      <td>False</td>\n",
       "      <td>milk_st_db1</td>\n",
       "      <td>milk_1B</td>\n",
       "      <td>0.000000</td>\n",
       "    </tr>\n",
       "    <tr>\n",
       "      <th>1233</th>\n",
       "      <td>2656</td>\n",
       "      <td>418.11703</td>\n",
       "      <td>TPEVDDEALEK</td>\n",
       "      <td>1244.57710</td>\n",
       "      <td>0.000000</td>\n",
       "      <td>34.577</td>\n",
       "      <td>1.0000</td>\n",
       "      <td>sp|P02754A|LACB_BOVIN</td>\n",
       "      <td>140</td>\n",
       "      <td>[sp|P02754B|LACB_BOVIN, sp|P02754C|LACB_BOVIN,...</td>\n",
       "      <td>[0, 0, 0, 0, 0, 0, 0, 0, 0, 0, 0]</td>\n",
       "      <td>[0, 0, 0, 0, 0, 0, 0, 0, 0, 0, 0]</td>\n",
       "      <td>False</td>\n",
       "      <td>milk_st_db1</td>\n",
       "      <td>milk_1B</td>\n",
       "      <td>0.000000</td>\n",
       "    </tr>\n",
       "    <tr>\n",
       "      <th>1253</th>\n",
       "      <td>2694</td>\n",
       "      <td>421.98390</td>\n",
       "      <td>TPEVDDEALEK</td>\n",
       "      <td>1244.57710</td>\n",
       "      <td>0.000000</td>\n",
       "      <td>34.830</td>\n",
       "      <td>1.0000</td>\n",
       "      <td>sp|P02754A|LACB_BOVIN</td>\n",
       "      <td>140</td>\n",
       "      <td>[sp|P02754B|LACB_BOVIN, sp|P02754C|LACB_BOVIN,...</td>\n",
       "      <td>[0, 0, 0, 0, 0, 0, 0, 0, 0, 0, 0]</td>\n",
       "      <td>[0, 0, 0, 0, 0, 0, 0, 0, 0, 0, 0]</td>\n",
       "      <td>False</td>\n",
       "      <td>milk_st_db1</td>\n",
       "      <td>milk_1B</td>\n",
       "      <td>0.000000</td>\n",
       "    </tr>\n",
       "    <tr>\n",
       "      <th>1265</th>\n",
       "      <td>2715</td>\n",
       "      <td>423.79877</td>\n",
       "      <td>ALKALPMHIR</td>\n",
       "      <td>1164.68000</td>\n",
       "      <td>58.006470</td>\n",
       "      <td>23.249</td>\n",
       "      <td>1.0000</td>\n",
       "      <td>sp|P02754A|LACB_BOVIN</td>\n",
       "      <td>154</td>\n",
       "      <td>[sp|P02754B|LACB_BOVIN, sp|P02754C|LACB_BOVIN,...</td>\n",
       "      <td>[0, 0, 0, 0, 0, 0, 15.995, 0, 0, 0]</td>\n",
       "      <td>[0.0, 0.0, 58.00647, 0.0, 0.0, 0.0, 0.0, 0.0, ...</td>\n",
       "      <td>False</td>\n",
       "      <td>milk_st_db1</td>\n",
       "      <td>milk_1B</td>\n",
       "      <td>0.000000</td>\n",
       "    </tr>\n",
       "    <tr>\n",
       "      <th>1271</th>\n",
       "      <td>2734</td>\n",
       "      <td>426.05524</td>\n",
       "      <td>TPEVDDEALEK</td>\n",
       "      <td>1244.57708</td>\n",
       "      <td>101.047850</td>\n",
       "      <td>34.293</td>\n",
       "      <td>1.0000</td>\n",
       "      <td>sp|P02754A|LACB_BOVIN</td>\n",
       "      <td>140</td>\n",
       "      <td>[sp|P02754B|LACB_BOVIN, sp|P02754C|LACB_BOVIN,...</td>\n",
       "      <td>[0, 0, 0, 0, 0, 0, 0, 0, 0, 0, 0]</td>\n",
       "      <td>[0, 0, 0, 0, 0, 0, 0, 0, 0, 0, 0]</td>\n",
       "      <td>False</td>\n",
       "      <td>milk_st_db1</td>\n",
       "      <td>milk_1B</td>\n",
       "      <td>0.000000</td>\n",
       "    </tr>\n",
       "    <tr>\n",
       "      <th>...</th>\n",
       "      <td>...</td>\n",
       "      <td>...</td>\n",
       "      <td>...</td>\n",
       "      <td>...</td>\n",
       "      <td>...</td>\n",
       "      <td>...</td>\n",
       "      <td>...</td>\n",
       "      <td>...</td>\n",
       "      <td>...</td>\n",
       "      <td>...</td>\n",
       "      <td>...</td>\n",
       "      <td>...</td>\n",
       "      <td>...</td>\n",
       "      <td>...</td>\n",
       "      <td>...</td>\n",
       "      <td>...</td>\n",
       "    </tr>\n",
       "    <tr>\n",
       "      <th>2375</th>\n",
       "      <td>6798</td>\n",
       "      <td>1089.43690</td>\n",
       "      <td>LSFNPTQLEEQCHI</td>\n",
       "      <td>1714.79850</td>\n",
       "      <td>-57.020264</td>\n",
       "      <td>14.384</td>\n",
       "      <td>0.9870</td>\n",
       "      <td>sp|P02754A|LACB_BOVIN</td>\n",
       "      <td>164</td>\n",
       "      <td>[sp|P02754B|LACB_BOVIN, sp|P02754C|LACB_BOVIN,...</td>\n",
       "      <td>[0, 0, 0, 0, 0, 0, 0, 0, 0, 0, 0, 57.021, 0, 0]</td>\n",
       "      <td>[0.0, 0.0, 0.0, 0.0, 0.0, 0.0, 0.0, 0.0, 0.0, ...</td>\n",
       "      <td>False</td>\n",
       "      <td>milk_st_db1</td>\n",
       "      <td>milk_2A</td>\n",
       "      <td>0.001607</td>\n",
       "    </tr>\n",
       "    <tr>\n",
       "      <th>2324</th>\n",
       "      <td>6670</td>\n",
       "      <td>1071.41770</td>\n",
       "      <td>YVEELKPTPEGDLEILLQK</td>\n",
       "      <td>2213.18290</td>\n",
       "      <td>423.178960</td>\n",
       "      <td>14.549</td>\n",
       "      <td>0.9537</td>\n",
       "      <td>sp|P02754A|LACB_BOVIN</td>\n",
       "      <td>57</td>\n",
       "      <td>[sp|P02754B|LACB_BOVIN]</td>\n",
       "      <td>[0, 0, 0, 0, 0, 0, 0, 0, 0, 0, 0, 0, 0, 0, 0, ...</td>\n",
       "      <td>[0.0, 0.0, 0.0, 0.0, 423.17896, 423.17896, 0.0...</td>\n",
       "      <td>False</td>\n",
       "      <td>milk_st_db1</td>\n",
       "      <td>milk_2A</td>\n",
       "      <td>0.001607</td>\n",
       "    </tr>\n",
       "    <tr>\n",
       "      <th>2191</th>\n",
       "      <td>6264</td>\n",
       "      <td>1014.68317</td>\n",
       "      <td>KADAVTLDGGMVF</td>\n",
       "      <td>1338.64880</td>\n",
       "      <td>59.145874</td>\n",
       "      <td>7.264</td>\n",
       "      <td>0.9303</td>\n",
       "      <td>sp|P24627|TRFL_BOVIN</td>\n",
       "      <td>71</td>\n",
       "      <td>[]</td>\n",
       "      <td>[0, 0, 0, 0, 0, 0, 0, 0, 0, 0, 15.995, 0, 0]</td>\n",
       "      <td>[0.0, 0.0, 0.0, 0.0, 0.0, 0.0, 0.0, 0.0, 59.14...</td>\n",
       "      <td>False</td>\n",
       "      <td>milk_st_db1</td>\n",
       "      <td>milk_2A</td>\n",
       "      <td>0.002388</td>\n",
       "    </tr>\n",
       "    <tr>\n",
       "      <th>1541</th>\n",
       "      <td>4160</td>\n",
       "      <td>730.85510</td>\n",
       "      <td>KSCHTGLGRSAGWIIPMGIL</td>\n",
       "      <td>2169.11870</td>\n",
       "      <td>25.947510</td>\n",
       "      <td>9.584</td>\n",
       "      <td>0.1411</td>\n",
       "      <td>sp|P24627|TRFL_BOVIN</td>\n",
       "      <td>131</td>\n",
       "      <td>[]</td>\n",
       "      <td>[0, 0, 57.021, 0, 0, 0, 0, 0, 0, 0, 0, 0, 0, 0...</td>\n",
       "      <td>[0.0, 25.94751, 25.94751, 25.94751, 25.94751, ...</td>\n",
       "      <td>False</td>\n",
       "      <td>milk_st_db1</td>\n",
       "      <td>milk_2A</td>\n",
       "      <td>0.011372</td>\n",
       "    </tr>\n",
       "    <tr>\n",
       "      <th>2659</th>\n",
       "      <td>7590</td>\n",
       "      <td>1201.13650</td>\n",
       "      <td>AGTWYSLAMAASDISLLDAQSAPLR</td>\n",
       "      <td>2623.29500</td>\n",
       "      <td>100.090576</td>\n",
       "      <td>11.731</td>\n",
       "      <td>0.0853</td>\n",
       "      <td>sp|P02754A|LACB_BOVIN</td>\n",
       "      <td>31</td>\n",
       "      <td>[sp|P02754B|LACB_BOVIN, sp|P02754C|LACB_BOVIN,...</td>\n",
       "      <td>[0, 0, 0, 0, 0, 0, 0, 0, 15.995, 0, 0, 0, 0, 0...</td>\n",
       "      <td>[100.090576, 100.090576, 100.090576, 100.09057...</td>\n",
       "      <td>False</td>\n",
       "      <td>milk_st_db1</td>\n",
       "      <td>milk_2A</td>\n",
       "      <td>0.013575</td>\n",
       "    </tr>\n",
       "  </tbody>\n",
       "</table>\n",
       "<p>1759 rows × 16 columns</p>\n",
       "</div>"
      ]
     },
     "execution_count": 8,
     "metadata": {},
     "output_type": "execute_result"
    }
   ],
   "execution_count": 8
  },
  {
   "metadata": {
    "ExecuteTime": {
     "end_time": "2024-04-25T13:57:19.614359Z",
     "start_time": "2024-04-25T13:57:19.611122Z"
    }
   },
   "cell_type": "code",
   "source": [
    "# Rejoin LACB variants\n",
    "psm_data.loc[psm_data['prot_id'].isin(lacb), 'prot_id'] = 'sp|P02754|LACB_BOVIN'"
   ],
   "id": "1e9445245a260b02",
   "outputs": [],
   "execution_count": 9
  },
  {
   "cell_type": "code",
   "source": [
    "def get_weights(m):\n",
    "    w = m > 0.5\n",
    "    tot = np.sum(w)\n",
    "    if tot == 0:\n",
    "        return np.zeros(m.shape[0])\n",
    "    else:\n",
    "        return w / tot\n",
    "def get_psm_delta_mass(m):\n",
    "    m = m[m>0.5]\n",
    "    if len(m) == 0:\n",
    "        return 0\n",
    "    else:\n",
    "        return m[0]\n",
    "\n",
    "psm_data['delta_mass_mods_weights'] = psm_data['delta_mass_mods_pos'].apply(get_weights)\n",
    "psm_data['delta_mass'] = psm_data['delta_mass_mods_pos'].apply(get_psm_delta_mass)\n"
   ],
   "metadata": {
    "collapsed": false,
    "ExecuteTime": {
     "end_time": "2024-04-25T13:59:42.548411Z",
     "start_time": "2024-04-25T13:59:42.514836Z"
    }
   },
   "id": "82f08540e34d65ef",
   "outputs": [],
   "execution_count": 14
  },
  {
   "metadata": {
    "ExecuteTime": {
     "end_time": "2024-04-25T13:59:44.362150Z",
     "start_time": "2024-04-25T13:59:44.292355Z"
    }
   },
   "cell_type": "code",
   "source": "psm_data",
   "id": "94f0fe150f56a62c",
   "outputs": [
    {
     "data": {
      "text/plain": [
       "      Scan_No       RTsec                        Seq   calc_mass  delta_mass  \\\n",
       "1159     2517   404.52063                TPEVDDEALEK  1244.57710    0.000000   \n",
       "1233     2656   418.11703                TPEVDDEALEK  1244.57710    0.000000   \n",
       "1253     2694   421.98390                TPEVDDEALEK  1244.57710    0.000000   \n",
       "1265     2715   423.79877                 ALKALPMHIR  1164.68000   58.006470   \n",
       "1271     2734   426.05524                TPEVDDEALEK  1244.57708    0.000000   \n",
       "...       ...         ...                        ...         ...         ...   \n",
       "2375     6798  1089.43690             LSFNPTQLEEQCHI  1714.79850    0.000000   \n",
       "2324     6670  1071.41770        YVEELKPTPEGDLEILLQK  2213.18290  423.178960   \n",
       "2191     6264  1014.68317              KADAVTLDGGMVF  1338.64880   59.145874   \n",
       "1541     4160   730.85510       KSCHTGLGRSAGWIIPMGIL  2169.11870   25.947510   \n",
       "2659     7590  1201.13650  AGTWYSLAMAASDISLLDAQSAPLR  2623.29500  100.090576   \n",
       "\n",
       "       score  probability               prot_id  start  \\\n",
       "1159  30.448       1.0000  sp|P02754|LACB_BOVIN    140   \n",
       "1233  34.577       1.0000  sp|P02754|LACB_BOVIN    140   \n",
       "1253  34.830       1.0000  sp|P02754|LACB_BOVIN    140   \n",
       "1265  23.249       1.0000  sp|P02754|LACB_BOVIN    154   \n",
       "1271  34.293       1.0000  sp|P02754|LACB_BOVIN    140   \n",
       "...      ...          ...                   ...    ...   \n",
       "2375  14.384       0.9870  sp|P02754|LACB_BOVIN    164   \n",
       "2324  14.549       0.9537  sp|P02754|LACB_BOVIN     57   \n",
       "2191   7.264       0.9303  sp|P24627|TRFL_BOVIN     71   \n",
       "1541   9.584       0.1411  sp|P24627|TRFL_BOVIN    131   \n",
       "2659  11.731       0.0853  sp|P02754|LACB_BOVIN     31   \n",
       "\n",
       "                                         other_prot_ids  \\\n",
       "1159  [sp|P02754B|LACB_BOVIN, sp|P02754C|LACB_BOVIN,...   \n",
       "1233  [sp|P02754B|LACB_BOVIN, sp|P02754C|LACB_BOVIN,...   \n",
       "1253  [sp|P02754B|LACB_BOVIN, sp|P02754C|LACB_BOVIN,...   \n",
       "1265  [sp|P02754B|LACB_BOVIN, sp|P02754C|LACB_BOVIN,...   \n",
       "1271  [sp|P02754B|LACB_BOVIN, sp|P02754C|LACB_BOVIN,...   \n",
       "...                                                 ...   \n",
       "2375  [sp|P02754B|LACB_BOVIN, sp|P02754C|LACB_BOVIN,...   \n",
       "2324                            [sp|P02754B|LACB_BOVIN]   \n",
       "2191                                                 []   \n",
       "1541                                                 []   \n",
       "2659  [sp|P02754B|LACB_BOVIN, sp|P02754C|LACB_BOVIN,...   \n",
       "\n",
       "                                           var_mods_pos  \\\n",
       "1159                  [0, 0, 0, 0, 0, 0, 0, 0, 0, 0, 0]   \n",
       "1233                  [0, 0, 0, 0, 0, 0, 0, 0, 0, 0, 0]   \n",
       "1253                  [0, 0, 0, 0, 0, 0, 0, 0, 0, 0, 0]   \n",
       "1265                [0, 0, 0, 0, 0, 0, 15.995, 0, 0, 0]   \n",
       "1271                  [0, 0, 0, 0, 0, 0, 0, 0, 0, 0, 0]   \n",
       "...                                                 ...   \n",
       "2375    [0, 0, 0, 0, 0, 0, 0, 0, 0, 0, 0, 57.021, 0, 0]   \n",
       "2324  [0, 0, 0, 0, 0, 0, 0, 0, 0, 0, 0, 0, 0, 0, 0, ...   \n",
       "2191       [0, 0, 0, 0, 0, 0, 0, 0, 0, 0, 15.995, 0, 0]   \n",
       "1541  [0, 0, 57.021, 0, 0, 0, 0, 0, 0, 0, 0, 0, 0, 0...   \n",
       "2659  [0, 0, 0, 0, 0, 0, 0, 0, 15.995, 0, 0, 0, 0, 0...   \n",
       "\n",
       "                                    delta_mass_mods_pos  is_decoy  \\\n",
       "1159                  [0, 0, 0, 0, 0, 0, 0, 0, 0, 0, 0]     False   \n",
       "1233                  [0, 0, 0, 0, 0, 0, 0, 0, 0, 0, 0]     False   \n",
       "1253                  [0, 0, 0, 0, 0, 0, 0, 0, 0, 0, 0]     False   \n",
       "1265  [0.0, 0.0, 58.00647, 0.0, 0.0, 0.0, 0.0, 0.0, ...     False   \n",
       "1271                  [0, 0, 0, 0, 0, 0, 0, 0, 0, 0, 0]     False   \n",
       "...                                                 ...       ...   \n",
       "2375  [0.0, 0.0, 0.0, 0.0, 0.0, 0.0, 0.0, 0.0, 0.0, ...     False   \n",
       "2324  [0.0, 0.0, 0.0, 0.0, 423.17896, 423.17896, 0.0...     False   \n",
       "2191  [0.0, 0.0, 0.0, 0.0, 0.0, 0.0, 0.0, 0.0, 59.14...     False   \n",
       "1541  [0.0, 25.94751, 25.94751, 25.94751, 25.94751, ...     False   \n",
       "2659  [100.090576, 100.090576, 100.090576, 100.09057...     False   \n",
       "\n",
       "           Run_id   Sample         q  \\\n",
       "1159  milk_st_db1  milk_1B  0.000000   \n",
       "1233  milk_st_db1  milk_1B  0.000000   \n",
       "1253  milk_st_db1  milk_1B  0.000000   \n",
       "1265  milk_st_db1  milk_1B  0.000000   \n",
       "1271  milk_st_db1  milk_1B  0.000000   \n",
       "...           ...      ...       ...   \n",
       "2375  milk_st_db1  milk_2A  0.001607   \n",
       "2324  milk_st_db1  milk_2A  0.001607   \n",
       "2191  milk_st_db1  milk_2A  0.002388   \n",
       "1541  milk_st_db1  milk_2A  0.011372   \n",
       "2659  milk_st_db1  milk_2A  0.013575   \n",
       "\n",
       "                                delta_mass_mods_weights  \\\n",
       "1159  [0.0, 0.0, 0.0, 0.0, 0.0, 0.0, 0.0, 0.0, 0.0, ...   \n",
       "1233  [0.0, 0.0, 0.0, 0.0, 0.0, 0.0, 0.0, 0.0, 0.0, ...   \n",
       "1253  [0.0, 0.0, 0.0, 0.0, 0.0, 0.0, 0.0, 0.0, 0.0, ...   \n",
       "1265  [0.0, 0.0, 1.0, 0.0, 0.0, 0.0, 0.0, 0.0, 0.0, ...   \n",
       "1271  [0.0, 0.0, 0.0, 0.0, 0.0, 0.0, 0.0, 0.0, 0.0, ...   \n",
       "...                                                 ...   \n",
       "2375  [0.0, 0.0, 0.0, 0.0, 0.0, 0.0, 0.0, 0.0, 0.0, ...   \n",
       "2324  [0.0, 0.0, 0.0, 0.0, 0.5, 0.5, 0.0, 0.0, 0.0, ...   \n",
       "2191  [0.0, 0.0, 0.0, 0.0, 0.0, 0.0, 0.0, 0.0, 0.333...   \n",
       "1541  [0.0, 0.08333333333333333, 0.08333333333333333...   \n",
       "2659  [0.07142857142857142, 0.07142857142857142, 0.0...   \n",
       "\n",
       "                                          pep_positions  \\\n",
       "1159  [141, 142, 143, 144, 145, 146, 147, 148, 149, ...   \n",
       "1233  [141, 142, 143, 144, 145, 146, 147, 148, 149, ...   \n",
       "1253  [141, 142, 143, 144, 145, 146, 147, 148, 149, ...   \n",
       "1265  [155, 156, 157, 158, 159, 160, 161, 162, 163, ...   \n",
       "1271  [141, 142, 143, 144, 145, 146, 147, 148, 149, ...   \n",
       "...                                                 ...   \n",
       "2375  [165, 166, 167, 168, 169, 170, 171, 172, 173, ...   \n",
       "2324  [58, 59, 60, 61, 62, 63, 64, 65, 66, 67, 68, 6...   \n",
       "2191  [72, 73, 74, 75, 76, 77, 78, 79, 80, 81, 82, 8...   \n",
       "1541  [132, 133, 134, 135, 136, 137, 138, 139, 140, ...   \n",
       "2659  [32, 33, 34, 35, 36, 37, 38, 39, 40, 41, 42, 4...   \n",
       "\n",
       "                                            pep_letters  gt_005fdr  \n",
       "1159                  [T, P, E, V, D, D, E, A, L, E, K]      False  \n",
       "1233                  [T, P, E, V, D, D, E, A, L, E, K]      False  \n",
       "1253                  [T, P, E, V, D, D, E, A, L, E, K]      False  \n",
       "1265                     [A, L, K, A, L, P, M, H, I, R]      False  \n",
       "1271                  [T, P, E, V, D, D, E, A, L, E, K]      False  \n",
       "...                                                 ...        ...  \n",
       "2375         [L, S, F, N, P, T, Q, L, E, E, Q, C, H, I]      False  \n",
       "2324  [Y, V, E, E, L, K, P, T, P, E, G, D, L, E, I, ...      False  \n",
       "2191            [K, A, D, A, V, T, L, D, G, G, M, V, F]      False  \n",
       "1541  [K, S, C, H, T, G, L, G, R, S, A, G, W, I, I, ...      False  \n",
       "2659  [A, G, T, W, Y, S, L, A, M, A, A, S, D, I, S, ...      False  \n",
       "\n",
       "[1759 rows x 20 columns]"
      ],
      "text/html": [
       "<div>\n",
       "<style scoped>\n",
       "    .dataframe tbody tr th:only-of-type {\n",
       "        vertical-align: middle;\n",
       "    }\n",
       "\n",
       "    .dataframe tbody tr th {\n",
       "        vertical-align: top;\n",
       "    }\n",
       "\n",
       "    .dataframe thead th {\n",
       "        text-align: right;\n",
       "    }\n",
       "</style>\n",
       "<table border=\"1\" class=\"dataframe\">\n",
       "  <thead>\n",
       "    <tr style=\"text-align: right;\">\n",
       "      <th></th>\n",
       "      <th>Scan_No</th>\n",
       "      <th>RTsec</th>\n",
       "      <th>Seq</th>\n",
       "      <th>calc_mass</th>\n",
       "      <th>delta_mass</th>\n",
       "      <th>score</th>\n",
       "      <th>probability</th>\n",
       "      <th>prot_id</th>\n",
       "      <th>start</th>\n",
       "      <th>other_prot_ids</th>\n",
       "      <th>var_mods_pos</th>\n",
       "      <th>delta_mass_mods_pos</th>\n",
       "      <th>is_decoy</th>\n",
       "      <th>Run_id</th>\n",
       "      <th>Sample</th>\n",
       "      <th>q</th>\n",
       "      <th>delta_mass_mods_weights</th>\n",
       "      <th>pep_positions</th>\n",
       "      <th>pep_letters</th>\n",
       "      <th>gt_005fdr</th>\n",
       "    </tr>\n",
       "  </thead>\n",
       "  <tbody>\n",
       "    <tr>\n",
       "      <th>1159</th>\n",
       "      <td>2517</td>\n",
       "      <td>404.52063</td>\n",
       "      <td>TPEVDDEALEK</td>\n",
       "      <td>1244.57710</td>\n",
       "      <td>0.000000</td>\n",
       "      <td>30.448</td>\n",
       "      <td>1.0000</td>\n",
       "      <td>sp|P02754|LACB_BOVIN</td>\n",
       "      <td>140</td>\n",
       "      <td>[sp|P02754B|LACB_BOVIN, sp|P02754C|LACB_BOVIN,...</td>\n",
       "      <td>[0, 0, 0, 0, 0, 0, 0, 0, 0, 0, 0]</td>\n",
       "      <td>[0, 0, 0, 0, 0, 0, 0, 0, 0, 0, 0]</td>\n",
       "      <td>False</td>\n",
       "      <td>milk_st_db1</td>\n",
       "      <td>milk_1B</td>\n",
       "      <td>0.000000</td>\n",
       "      <td>[0.0, 0.0, 0.0, 0.0, 0.0, 0.0, 0.0, 0.0, 0.0, ...</td>\n",
       "      <td>[141, 142, 143, 144, 145, 146, 147, 148, 149, ...</td>\n",
       "      <td>[T, P, E, V, D, D, E, A, L, E, K]</td>\n",
       "      <td>False</td>\n",
       "    </tr>\n",
       "    <tr>\n",
       "      <th>1233</th>\n",
       "      <td>2656</td>\n",
       "      <td>418.11703</td>\n",
       "      <td>TPEVDDEALEK</td>\n",
       "      <td>1244.57710</td>\n",
       "      <td>0.000000</td>\n",
       "      <td>34.577</td>\n",
       "      <td>1.0000</td>\n",
       "      <td>sp|P02754|LACB_BOVIN</td>\n",
       "      <td>140</td>\n",
       "      <td>[sp|P02754B|LACB_BOVIN, sp|P02754C|LACB_BOVIN,...</td>\n",
       "      <td>[0, 0, 0, 0, 0, 0, 0, 0, 0, 0, 0]</td>\n",
       "      <td>[0, 0, 0, 0, 0, 0, 0, 0, 0, 0, 0]</td>\n",
       "      <td>False</td>\n",
       "      <td>milk_st_db1</td>\n",
       "      <td>milk_1B</td>\n",
       "      <td>0.000000</td>\n",
       "      <td>[0.0, 0.0, 0.0, 0.0, 0.0, 0.0, 0.0, 0.0, 0.0, ...</td>\n",
       "      <td>[141, 142, 143, 144, 145, 146, 147, 148, 149, ...</td>\n",
       "      <td>[T, P, E, V, D, D, E, A, L, E, K]</td>\n",
       "      <td>False</td>\n",
       "    </tr>\n",
       "    <tr>\n",
       "      <th>1253</th>\n",
       "      <td>2694</td>\n",
       "      <td>421.98390</td>\n",
       "      <td>TPEVDDEALEK</td>\n",
       "      <td>1244.57710</td>\n",
       "      <td>0.000000</td>\n",
       "      <td>34.830</td>\n",
       "      <td>1.0000</td>\n",
       "      <td>sp|P02754|LACB_BOVIN</td>\n",
       "      <td>140</td>\n",
       "      <td>[sp|P02754B|LACB_BOVIN, sp|P02754C|LACB_BOVIN,...</td>\n",
       "      <td>[0, 0, 0, 0, 0, 0, 0, 0, 0, 0, 0]</td>\n",
       "      <td>[0, 0, 0, 0, 0, 0, 0, 0, 0, 0, 0]</td>\n",
       "      <td>False</td>\n",
       "      <td>milk_st_db1</td>\n",
       "      <td>milk_1B</td>\n",
       "      <td>0.000000</td>\n",
       "      <td>[0.0, 0.0, 0.0, 0.0, 0.0, 0.0, 0.0, 0.0, 0.0, ...</td>\n",
       "      <td>[141, 142, 143, 144, 145, 146, 147, 148, 149, ...</td>\n",
       "      <td>[T, P, E, V, D, D, E, A, L, E, K]</td>\n",
       "      <td>False</td>\n",
       "    </tr>\n",
       "    <tr>\n",
       "      <th>1265</th>\n",
       "      <td>2715</td>\n",
       "      <td>423.79877</td>\n",
       "      <td>ALKALPMHIR</td>\n",
       "      <td>1164.68000</td>\n",
       "      <td>58.006470</td>\n",
       "      <td>23.249</td>\n",
       "      <td>1.0000</td>\n",
       "      <td>sp|P02754|LACB_BOVIN</td>\n",
       "      <td>154</td>\n",
       "      <td>[sp|P02754B|LACB_BOVIN, sp|P02754C|LACB_BOVIN,...</td>\n",
       "      <td>[0, 0, 0, 0, 0, 0, 15.995, 0, 0, 0]</td>\n",
       "      <td>[0.0, 0.0, 58.00647, 0.0, 0.0, 0.0, 0.0, 0.0, ...</td>\n",
       "      <td>False</td>\n",
       "      <td>milk_st_db1</td>\n",
       "      <td>milk_1B</td>\n",
       "      <td>0.000000</td>\n",
       "      <td>[0.0, 0.0, 1.0, 0.0, 0.0, 0.0, 0.0, 0.0, 0.0, ...</td>\n",
       "      <td>[155, 156, 157, 158, 159, 160, 161, 162, 163, ...</td>\n",
       "      <td>[A, L, K, A, L, P, M, H, I, R]</td>\n",
       "      <td>False</td>\n",
       "    </tr>\n",
       "    <tr>\n",
       "      <th>1271</th>\n",
       "      <td>2734</td>\n",
       "      <td>426.05524</td>\n",
       "      <td>TPEVDDEALEK</td>\n",
       "      <td>1244.57708</td>\n",
       "      <td>0.000000</td>\n",
       "      <td>34.293</td>\n",
       "      <td>1.0000</td>\n",
       "      <td>sp|P02754|LACB_BOVIN</td>\n",
       "      <td>140</td>\n",
       "      <td>[sp|P02754B|LACB_BOVIN, sp|P02754C|LACB_BOVIN,...</td>\n",
       "      <td>[0, 0, 0, 0, 0, 0, 0, 0, 0, 0, 0]</td>\n",
       "      <td>[0, 0, 0, 0, 0, 0, 0, 0, 0, 0, 0]</td>\n",
       "      <td>False</td>\n",
       "      <td>milk_st_db1</td>\n",
       "      <td>milk_1B</td>\n",
       "      <td>0.000000</td>\n",
       "      <td>[0.0, 0.0, 0.0, 0.0, 0.0, 0.0, 0.0, 0.0, 0.0, ...</td>\n",
       "      <td>[141, 142, 143, 144, 145, 146, 147, 148, 149, ...</td>\n",
       "      <td>[T, P, E, V, D, D, E, A, L, E, K]</td>\n",
       "      <td>False</td>\n",
       "    </tr>\n",
       "    <tr>\n",
       "      <th>...</th>\n",
       "      <td>...</td>\n",
       "      <td>...</td>\n",
       "      <td>...</td>\n",
       "      <td>...</td>\n",
       "      <td>...</td>\n",
       "      <td>...</td>\n",
       "      <td>...</td>\n",
       "      <td>...</td>\n",
       "      <td>...</td>\n",
       "      <td>...</td>\n",
       "      <td>...</td>\n",
       "      <td>...</td>\n",
       "      <td>...</td>\n",
       "      <td>...</td>\n",
       "      <td>...</td>\n",
       "      <td>...</td>\n",
       "      <td>...</td>\n",
       "      <td>...</td>\n",
       "      <td>...</td>\n",
       "      <td>...</td>\n",
       "    </tr>\n",
       "    <tr>\n",
       "      <th>2375</th>\n",
       "      <td>6798</td>\n",
       "      <td>1089.43690</td>\n",
       "      <td>LSFNPTQLEEQCHI</td>\n",
       "      <td>1714.79850</td>\n",
       "      <td>0.000000</td>\n",
       "      <td>14.384</td>\n",
       "      <td>0.9870</td>\n",
       "      <td>sp|P02754|LACB_BOVIN</td>\n",
       "      <td>164</td>\n",
       "      <td>[sp|P02754B|LACB_BOVIN, sp|P02754C|LACB_BOVIN,...</td>\n",
       "      <td>[0, 0, 0, 0, 0, 0, 0, 0, 0, 0, 0, 57.021, 0, 0]</td>\n",
       "      <td>[0.0, 0.0, 0.0, 0.0, 0.0, 0.0, 0.0, 0.0, 0.0, ...</td>\n",
       "      <td>False</td>\n",
       "      <td>milk_st_db1</td>\n",
       "      <td>milk_2A</td>\n",
       "      <td>0.001607</td>\n",
       "      <td>[0.0, 0.0, 0.0, 0.0, 0.0, 0.0, 0.0, 0.0, 0.0, ...</td>\n",
       "      <td>[165, 166, 167, 168, 169, 170, 171, 172, 173, ...</td>\n",
       "      <td>[L, S, F, N, P, T, Q, L, E, E, Q, C, H, I]</td>\n",
       "      <td>False</td>\n",
       "    </tr>\n",
       "    <tr>\n",
       "      <th>2324</th>\n",
       "      <td>6670</td>\n",
       "      <td>1071.41770</td>\n",
       "      <td>YVEELKPTPEGDLEILLQK</td>\n",
       "      <td>2213.18290</td>\n",
       "      <td>423.178960</td>\n",
       "      <td>14.549</td>\n",
       "      <td>0.9537</td>\n",
       "      <td>sp|P02754|LACB_BOVIN</td>\n",
       "      <td>57</td>\n",
       "      <td>[sp|P02754B|LACB_BOVIN]</td>\n",
       "      <td>[0, 0, 0, 0, 0, 0, 0, 0, 0, 0, 0, 0, 0, 0, 0, ...</td>\n",
       "      <td>[0.0, 0.0, 0.0, 0.0, 423.17896, 423.17896, 0.0...</td>\n",
       "      <td>False</td>\n",
       "      <td>milk_st_db1</td>\n",
       "      <td>milk_2A</td>\n",
       "      <td>0.001607</td>\n",
       "      <td>[0.0, 0.0, 0.0, 0.0, 0.5, 0.5, 0.0, 0.0, 0.0, ...</td>\n",
       "      <td>[58, 59, 60, 61, 62, 63, 64, 65, 66, 67, 68, 6...</td>\n",
       "      <td>[Y, V, E, E, L, K, P, T, P, E, G, D, L, E, I, ...</td>\n",
       "      <td>False</td>\n",
       "    </tr>\n",
       "    <tr>\n",
       "      <th>2191</th>\n",
       "      <td>6264</td>\n",
       "      <td>1014.68317</td>\n",
       "      <td>KADAVTLDGGMVF</td>\n",
       "      <td>1338.64880</td>\n",
       "      <td>59.145874</td>\n",
       "      <td>7.264</td>\n",
       "      <td>0.9303</td>\n",
       "      <td>sp|P24627|TRFL_BOVIN</td>\n",
       "      <td>71</td>\n",
       "      <td>[]</td>\n",
       "      <td>[0, 0, 0, 0, 0, 0, 0, 0, 0, 0, 15.995, 0, 0]</td>\n",
       "      <td>[0.0, 0.0, 0.0, 0.0, 0.0, 0.0, 0.0, 0.0, 59.14...</td>\n",
       "      <td>False</td>\n",
       "      <td>milk_st_db1</td>\n",
       "      <td>milk_2A</td>\n",
       "      <td>0.002388</td>\n",
       "      <td>[0.0, 0.0, 0.0, 0.0, 0.0, 0.0, 0.0, 0.0, 0.333...</td>\n",
       "      <td>[72, 73, 74, 75, 76, 77, 78, 79, 80, 81, 82, 8...</td>\n",
       "      <td>[K, A, D, A, V, T, L, D, G, G, M, V, F]</td>\n",
       "      <td>False</td>\n",
       "    </tr>\n",
       "    <tr>\n",
       "      <th>1541</th>\n",
       "      <td>4160</td>\n",
       "      <td>730.85510</td>\n",
       "      <td>KSCHTGLGRSAGWIIPMGIL</td>\n",
       "      <td>2169.11870</td>\n",
       "      <td>25.947510</td>\n",
       "      <td>9.584</td>\n",
       "      <td>0.1411</td>\n",
       "      <td>sp|P24627|TRFL_BOVIN</td>\n",
       "      <td>131</td>\n",
       "      <td>[]</td>\n",
       "      <td>[0, 0, 57.021, 0, 0, 0, 0, 0, 0, 0, 0, 0, 0, 0...</td>\n",
       "      <td>[0.0, 25.94751, 25.94751, 25.94751, 25.94751, ...</td>\n",
       "      <td>False</td>\n",
       "      <td>milk_st_db1</td>\n",
       "      <td>milk_2A</td>\n",
       "      <td>0.011372</td>\n",
       "      <td>[0.0, 0.08333333333333333, 0.08333333333333333...</td>\n",
       "      <td>[132, 133, 134, 135, 136, 137, 138, 139, 140, ...</td>\n",
       "      <td>[K, S, C, H, T, G, L, G, R, S, A, G, W, I, I, ...</td>\n",
       "      <td>False</td>\n",
       "    </tr>\n",
       "    <tr>\n",
       "      <th>2659</th>\n",
       "      <td>7590</td>\n",
       "      <td>1201.13650</td>\n",
       "      <td>AGTWYSLAMAASDISLLDAQSAPLR</td>\n",
       "      <td>2623.29500</td>\n",
       "      <td>100.090576</td>\n",
       "      <td>11.731</td>\n",
       "      <td>0.0853</td>\n",
       "      <td>sp|P02754|LACB_BOVIN</td>\n",
       "      <td>31</td>\n",
       "      <td>[sp|P02754B|LACB_BOVIN, sp|P02754C|LACB_BOVIN,...</td>\n",
       "      <td>[0, 0, 0, 0, 0, 0, 0, 0, 15.995, 0, 0, 0, 0, 0...</td>\n",
       "      <td>[100.090576, 100.090576, 100.090576, 100.09057...</td>\n",
       "      <td>False</td>\n",
       "      <td>milk_st_db1</td>\n",
       "      <td>milk_2A</td>\n",
       "      <td>0.013575</td>\n",
       "      <td>[0.07142857142857142, 0.07142857142857142, 0.0...</td>\n",
       "      <td>[32, 33, 34, 35, 36, 37, 38, 39, 40, 41, 42, 4...</td>\n",
       "      <td>[A, G, T, W, Y, S, L, A, M, A, A, S, D, I, S, ...</td>\n",
       "      <td>False</td>\n",
       "    </tr>\n",
       "  </tbody>\n",
       "</table>\n",
       "<p>1759 rows × 20 columns</p>\n",
       "</div>"
      ]
     },
     "execution_count": 15,
     "metadata": {},
     "output_type": "execute_result"
    }
   ],
   "execution_count": 15
  },
  {
   "metadata": {
    "ExecuteTime": {
     "end_time": "2024-04-25T13:57:21.081576Z",
     "start_time": "2024-04-25T13:57:19.645340Z"
    }
   },
   "cell_type": "code",
   "source": [
    "p2 = sns.displot(psm_data, x='delta_mass', col='Sample', col_wrap=2)\n",
    "p2.fig.set_figwidth(10, 8)"
   ],
   "id": "9752f50837dc9692",
   "outputs": [
    {
     "data": {
      "text/plain": [
       "<Figure size 1000x1000 with 4 Axes>"
      ],
      "image/png": "[encoded data removed]"
     },
     "metadata": {},
     "output_type": "display_data"
    }
   ],
   "execution_count": 11
  },
  {
   "metadata": {
    "ExecuteTime": {
     "end_time": "2024-04-25T14:00:03.460403Z",
     "start_time": "2024-04-25T14:00:03.410282Z"
    }
   },
   "cell_type": "code",
   "source": "psm_long = psm_to_long(psm_data)",
   "id": "7db201e88e498278",
   "outputs": [],
   "execution_count": 16
  },
  {
   "metadata": {
    "ExecuteTime": {
     "end_time": "2024-04-25T14:00:05.252950Z",
     "start_time": "2024-04-25T14:00:05.236915Z"
    }
   },
   "cell_type": "code",
   "source": "psm_long",
   "id": "ab826412f59945c1",
   "outputs": [
    {
     "data": {
      "text/plain": [
       "           Run_id   Sample               prot_id  gt_005fdr  pep_positions  \\\n",
       "0     milk_st_db1  milk_1A  sp|P02754|LACB_BOVIN      False             16   \n",
       "1     milk_st_db1  milk_1A  sp|P02754|LACB_BOVIN      False             17   \n",
       "2     milk_st_db1  milk_1A  sp|P02754|LACB_BOVIN      False             18   \n",
       "3     milk_st_db1  milk_1A  sp|P02754|LACB_BOVIN      False             19   \n",
       "4     milk_st_db1  milk_1A  sp|P02754|LACB_BOVIN      False             20   \n",
       "...           ...      ...                   ...        ...            ...   \n",
       "998   milk_st_db1  milk_2B  sp|P24627|TRFL_BOVIN      False            448   \n",
       "999   milk_st_db1  milk_2B  sp|P24627|TRFL_BOVIN      False            449   \n",
       "1000  milk_st_db1  milk_2B  sp|P24627|TRFL_BOVIN      False            450   \n",
       "1001  milk_st_db1  milk_2B  sp|P24627|TRFL_BOVIN      False            451   \n",
       "1002  milk_st_db1  milk_2B  sp|P24627|TRFL_BOVIN      False            452   \n",
       "\n",
       "     pep_letters  count  total_counts  rel_count  \n",
       "0              A     16            16        1.0  \n",
       "1              L    120           120        1.0  \n",
       "2              I    120           120        1.0  \n",
       "3              V    120           120        1.0  \n",
       "4              T    120           120        1.0  \n",
       "...          ...    ...           ...        ...  \n",
       "998            P      1             1        1.0  \n",
       "999            T      1             1        1.0  \n",
       "1000           E      1             1        1.0  \n",
       "1001           G      1             1        1.0  \n",
       "1002           Y      1             1        1.0  \n",
       "\n",
       "[1003 rows x 9 columns]"
      ],
      "text/html": [
       "<div>\n",
       "<style scoped>\n",
       "    .dataframe tbody tr th:only-of-type {\n",
       "        vertical-align: middle;\n",
       "    }\n",
       "\n",
       "    .dataframe tbody tr th {\n",
       "        vertical-align: top;\n",
       "    }\n",
       "\n",
       "    .dataframe thead th {\n",
       "        text-align: right;\n",
       "    }\n",
       "</style>\n",
       "<table border=\"1\" class=\"dataframe\">\n",
       "  <thead>\n",
       "    <tr style=\"text-align: right;\">\n",
       "      <th></th>\n",
       "      <th>Run_id</th>\n",
       "      <th>Sample</th>\n",
       "      <th>prot_id</th>\n",
       "      <th>gt_005fdr</th>\n",
       "      <th>pep_positions</th>\n",
       "      <th>pep_letters</th>\n",
       "      <th>count</th>\n",
       "      <th>total_counts</th>\n",
       "      <th>rel_count</th>\n",
       "    </tr>\n",
       "  </thead>\n",
       "  <tbody>\n",
       "    <tr>\n",
       "      <th>0</th>\n",
       "      <td>milk_st_db1</td>\n",
       "      <td>milk_1A</td>\n",
       "      <td>sp|P02754|LACB_BOVIN</td>\n",
       "      <td>False</td>\n",
       "      <td>16</td>\n",
       "      <td>A</td>\n",
       "      <td>16</td>\n",
       "      <td>16</td>\n",
       "      <td>1.0</td>\n",
       "    </tr>\n",
       "    <tr>\n",
       "      <th>1</th>\n",
       "      <td>milk_st_db1</td>\n",
       "      <td>milk_1A</td>\n",
       "      <td>sp|P02754|LACB_BOVIN</td>\n",
       "      <td>False</td>\n",
       "      <td>17</td>\n",
       "      <td>L</td>\n",
       "      <td>120</td>\n",
       "      <td>120</td>\n",
       "      <td>1.0</td>\n",
       "    </tr>\n",
       "    <tr>\n",
       "      <th>2</th>\n",
       "      <td>milk_st_db1</td>\n",
       "      <td>milk_1A</td>\n",
       "      <td>sp|P02754|LACB_BOVIN</td>\n",
       "      <td>False</td>\n",
       "      <td>18</td>\n",
       "      <td>I</td>\n",
       "      <td>120</td>\n",
       "      <td>120</td>\n",
       "      <td>1.0</td>\n",
       "    </tr>\n",
       "    <tr>\n",
       "      <th>3</th>\n",
       "      <td>milk_st_db1</td>\n",
       "      <td>milk_1A</td>\n",
       "      <td>sp|P02754|LACB_BOVIN</td>\n",
       "      <td>False</td>\n",
       "      <td>19</td>\n",
       "      <td>V</td>\n",
       "      <td>120</td>\n",
       "      <td>120</td>\n",
       "      <td>1.0</td>\n",
       "    </tr>\n",
       "    <tr>\n",
       "      <th>4</th>\n",
       "      <td>milk_st_db1</td>\n",
       "      <td>milk_1A</td>\n",
       "      <td>sp|P02754|LACB_BOVIN</td>\n",
       "      <td>False</td>\n",
       "      <td>20</td>\n",
       "      <td>T</td>\n",
       "      <td>120</td>\n",
       "      <td>120</td>\n",
       "      <td>1.0</td>\n",
       "    </tr>\n",
       "    <tr>\n",
       "      <th>...</th>\n",
       "      <td>...</td>\n",
       "      <td>...</td>\n",
       "      <td>...</td>\n",
       "      <td>...</td>\n",
       "      <td>...</td>\n",
       "      <td>...</td>\n",
       "      <td>...</td>\n",
       "      <td>...</td>\n",
       "      <td>...</td>\n",
       "    </tr>\n",
       "    <tr>\n",
       "      <th>998</th>\n",
       "      <td>milk_st_db1</td>\n",
       "      <td>milk_2B</td>\n",
       "      <td>sp|P24627|TRFL_BOVIN</td>\n",
       "      <td>False</td>\n",
       "      <td>448</td>\n",
       "      <td>P</td>\n",
       "      <td>1</td>\n",
       "      <td>1</td>\n",
       "      <td>1.0</td>\n",
       "    </tr>\n",
       "    <tr>\n",
       "      <th>999</th>\n",
       "      <td>milk_st_db1</td>\n",
       "      <td>milk_2B</td>\n",
       "      <td>sp|P24627|TRFL_BOVIN</td>\n",
       "      <td>False</td>\n",
       "      <td>449</td>\n",
       "      <td>T</td>\n",
       "      <td>1</td>\n",
       "      <td>1</td>\n",
       "      <td>1.0</td>\n",
       "    </tr>\n",
       "    <tr>\n",
       "      <th>1000</th>\n",
       "      <td>milk_st_db1</td>\n",
       "      <td>milk_2B</td>\n",
       "      <td>sp|P24627|TRFL_BOVIN</td>\n",
       "      <td>False</td>\n",
       "      <td>450</td>\n",
       "      <td>E</td>\n",
       "      <td>1</td>\n",
       "      <td>1</td>\n",
       "      <td>1.0</td>\n",
       "    </tr>\n",
       "    <tr>\n",
       "      <th>1001</th>\n",
       "      <td>milk_st_db1</td>\n",
       "      <td>milk_2B</td>\n",
       "      <td>sp|P24627|TRFL_BOVIN</td>\n",
       "      <td>False</td>\n",
       "      <td>451</td>\n",
       "      <td>G</td>\n",
       "      <td>1</td>\n",
       "      <td>1</td>\n",
       "      <td>1.0</td>\n",
       "    </tr>\n",
       "    <tr>\n",
       "      <th>1002</th>\n",
       "      <td>milk_st_db1</td>\n",
       "      <td>milk_2B</td>\n",
       "      <td>sp|P24627|TRFL_BOVIN</td>\n",
       "      <td>False</td>\n",
       "      <td>452</td>\n",
       "      <td>Y</td>\n",
       "      <td>1</td>\n",
       "      <td>1</td>\n",
       "      <td>1.0</td>\n",
       "    </tr>\n",
       "  </tbody>\n",
       "</table>\n",
       "<p>1003 rows × 9 columns</p>\n",
       "</div>"
      ]
     },
     "execution_count": 17,
     "metadata": {},
     "output_type": "execute_result"
    }
   ],
   "execution_count": 17
  },
  {
   "metadata": {
    "ExecuteTime": {
     "end_time": "2024-04-25T18:47:09.147612Z",
     "start_time": "2024-04-25T18:47:08.804754Z"
    }
   },
   "cell_type": "code",
   "source": [
    "fig = px.bar(\n",
    "    psm_long.query('prot_id == \"sp|P02754|LACB_BOVIN\"'),\n",
    "    x=\"pep_positions\", y=\"count\", color=\"pep_letters\", title=\"Long-Form Input\",\n",
    "    facet_row='Sample', width=1500, height=800\n",
    ")\n",
    "fig.show()"
   ],
   "id": "8c58960eea42cecb",
   "outputs": [
    {
     "data": {
      "application/vnd.plotly.v1+json": {
       "data": [
        {
         "alignmentgroup": "True",
         "hovertemplate": "pep_letters=A<br>Sample=milk_1A<br>pep_positions=%{x}<br>count=%{y}<extra></extra>",
         "legendgroup": "A",
         "marker": {
          "color": "#636efa",
          "pattern": {
           "shape": ""
          }
         },
         "name": "A",
         "offsetgroup": "A",
         "orientation": "v",
         "showlegend": true,
         "textposition": "auto",
         "x": [
          16,
          32,
          39,
          41,
          42,
          50,
          53,
          96,
          102,
          127,
          134,
          148,
          155,
          158
         ],
         "xaxis": "x4",
         "y": [
          16,
          5,
          8,
          11,
          11,
          10,
          10,
          8,
          31,
          4,
          3,
          61,
          12,
          68
         ],
         "yaxis": "y4",
         "type": "bar"
        },
        {
         "alignmentgroup": "True",
         "hovertemplate": "pep_letters=A<br>Sample=milk_1B<br>pep_positions=%{x}<br>count=%{y}<extra></extra>",
         "legendgroup": "A",
         "marker": {
          "color": "#636efa",
          "pattern": {
           "shape": ""
          }
         },
         "name": "A",
         "offsetgroup": "A",
         "orientation": "v",
         "showlegend": false,
         "textposition": "auto",
         "x": [
          14,
          16,
          32,
          39,
          41,
          42,
          50,
          53,
          89,
          96,
          102,
          127,
          134,
          148,
          155,
          158
         ],
         "xaxis": "x3",
         "y": [
          7,
          47,
          27,
          58,
          64,
          64,
          69,
          70,
          9,
          95,
          130,
          16,
          7,
          170,
          75,
          105
         ],
         "yaxis": "y3",
         "type": "bar"
        },
        {
         "alignmentgroup": "True",
         "hovertemplate": "pep_letters=A<br>Sample=milk_2A<br>pep_positions=%{x}<br>count=%{y}<extra></extra>",
         "legendgroup": "A",
         "marker": {
          "color": "#636efa",
          "pattern": {
           "shape": ""
          }
         },
         "name": "A",
         "offsetgroup": "A",
         "orientation": "v",
         "showlegend": false,
         "textposition": "auto",
         "x": [
          32,
          39,
          41,
          42,
          50,
          53,
          127,
          148
         ],
         "xaxis": "x2",
         "y": [
          7,
          9,
          9,
          9,
          9,
          9,
          1,
          3
         ],
         "yaxis": "y2",
         "type": "bar"
        },
        {
         "alignmentgroup": "True",
         "hovertemplate": "pep_letters=A<br>Sample=milk_2B<br>pep_positions=%{x}<br>count=%{y}<extra></extra>",
         "legendgroup": "A",
         "marker": {
          "color": "#636efa",
          "pattern": {
           "shape": ""
          }
         },
         "name": "A",
         "offsetgroup": "A",
         "orientation": "v",
         "showlegend": false,
         "textposition": "auto",
         "x": [
          16,
          32,
          39,
          41,
          42,
          50,
          53,
          96,
          102,
          148,
          155,
          158
         ],
         "xaxis": "x",
         "y": [
          11,
          3,
          10,
          13,
          13,
          13,
          13,
          9,
          7,
          10,
          3,
          9
         ],
         "yaxis": "y",
         "type": "bar"
        },
        {
         "alignmentgroup": "True",
         "hovertemplate": "pep_letters=L<br>Sample=milk_1A<br>pep_positions=%{x}<br>count=%{y}<extra></extra>",
         "legendgroup": "L",
         "marker": {
          "color": "#EF553B",
          "pattern": {
           "shape": ""
          }
         },
         "name": "L",
         "offsetgroup": "L",
         "orientation": "v",
         "showlegend": true,
         "textposition": "auto",
         "x": [
          17,
          26,
          38,
          47,
          48,
          55,
          62,
          70,
          73,
          74,
          103,
          109,
          111,
          119,
          120,
          133,
          138,
          149,
          156,
          159,
          165,
          172
         ],
         "xaxis": "x4",
         "y": [
          120,
          12,
          8,
          10,
          10,
          10,
          23,
          23,
          23,
          23,
          31,
          46,
          46,
          5,
          5,
          13,
          14,
          61,
          12,
          68,
          50,
          53
         ],
         "yaxis": "y4",
         "type": "bar"
        },
        {
         "alignmentgroup": "True",
         "hovertemplate": "pep_letters=L<br>Sample=milk_1B<br>pep_positions=%{x}<br>count=%{y}<extra></extra>",
         "legendgroup": "L",
         "marker": {
          "color": "#EF553B",
          "pattern": {
           "shape": ""
          }
         },
         "name": "L",
         "offsetgroup": "L",
         "orientation": "v",
         "showlegend": false,
         "textposition": "auto",
         "x": [
          10,
          17,
          26,
          38,
          47,
          48,
          55,
          62,
          70,
          73,
          74,
          103,
          109,
          111,
          119,
          120,
          133,
          138,
          149,
          156,
          159,
          165,
          172
         ],
         "xaxis": "x3",
         "y": [
          1,
          193,
          45,
          53,
          69,
          69,
          71,
          88,
          88,
          88,
          88,
          130,
          160,
          163,
          16,
          16,
          17,
          17,
          170,
          75,
          107,
          91,
          91
         ],
         "yaxis": "y3",
         "type": "bar"
        },
        {
         "alignmentgroup": "True",
         "hovertemplate": "pep_letters=L<br>Sample=milk_2A<br>pep_positions=%{x}<br>count=%{y}<extra></extra>",
         "legendgroup": "L",
         "marker": {
          "color": "#EF553B",
          "pattern": {
           "shape": ""
          }
         },
         "name": "L",
         "offsetgroup": "L",
         "orientation": "v",
         "showlegend": false,
         "textposition": "auto",
         "x": [
          38,
          47,
          48,
          55,
          62,
          70,
          73,
          74,
          119,
          120,
          133,
          138,
          149,
          165,
          172
         ],
         "xaxis": "x2",
         "y": [
          9,
          9,
          9,
          9,
          12,
          12,
          12,
          12,
          1,
          1,
          1,
          1,
          3,
          11,
          11
         ],
         "yaxis": "y2",
         "type": "bar"
        },
        {
         "alignmentgroup": "True",
         "hovertemplate": "pep_letters=L<br>Sample=milk_2B<br>pep_positions=%{x}<br>count=%{y}<extra></extra>",
         "legendgroup": "L",
         "marker": {
          "color": "#EF553B",
          "pattern": {
           "shape": ""
          }
         },
         "name": "L",
         "offsetgroup": "L",
         "orientation": "v",
         "showlegend": false,
         "textposition": "auto",
         "x": [
          17,
          26,
          38,
          47,
          48,
          55,
          62,
          70,
          73,
          74,
          103,
          109,
          111,
          149,
          156,
          159,
          165,
          172
         ],
         "xaxis": "x",
         "y": [
          74,
          2,
          9,
          13,
          13,
          13,
          20,
          20,
          20,
          20,
          7,
          22,
          23,
          10,
          3,
          9,
          23,
          23
         ],
         "yaxis": "y",
         "type": "bar"
        },
        {
         "alignmentgroup": "True",
         "hovertemplate": "pep_letters=I<br>Sample=milk_1A<br>pep_positions=%{x}<br>count=%{y}<extra></extra>",
         "legendgroup": "I",
         "marker": {
          "color": "#00cc96",
          "pattern": {
           "shape": ""
          }
         },
         "name": "I",
         "offsetgroup": "I",
         "orientation": "v",
         "showlegend": true,
         "textposition": "auto",
         "x": [
          18,
          28,
          45,
          72,
          94,
          100,
          163,
          178
         ],
         "xaxis": "x4",
         "y": [
          120,
          12,
          10,
          23,
          7,
          31,
          68,
          38
         ],
         "yaxis": "y4",
         "type": "bar"
        },
        {
         "alignmentgroup": "True",
         "hovertemplate": "pep_letters=I<br>Sample=milk_1B<br>pep_positions=%{x}<br>count=%{y}<extra></extra>",
         "legendgroup": "I",
         "marker": {
          "color": "#00cc96",
          "pattern": {
           "shape": ""
          }
         },
         "name": "I",
         "offsetgroup": "I",
         "orientation": "v",
         "showlegend": false,
         "textposition": "auto",
         "x": [
          18,
          28,
          45,
          72,
          87,
          88,
          94,
          100,
          163,
          178
         ],
         "xaxis": "x3",
         "y": [
          193,
          45,
          69,
          88,
          9,
          9,
          80,
          123,
          106,
          84
         ],
         "yaxis": "y3",
         "type": "bar"
        },
        {
         "alignmentgroup": "True",
         "hovertemplate": "pep_letters=I<br>Sample=milk_2A<br>pep_positions=%{x}<br>count=%{y}<extra></extra>",
         "legendgroup": "I",
         "marker": {
          "color": "#00cc96",
          "pattern": {
           "shape": ""
          }
         },
         "name": "I",
         "offsetgroup": "I",
         "orientation": "v",
         "showlegend": false,
         "textposition": "auto",
         "x": [
          45,
          72,
          178
         ],
         "xaxis": "x2",
         "y": [
          9,
          12,
          11
         ],
         "yaxis": "y2",
         "type": "bar"
        },
        {
         "alignmentgroup": "True",
         "hovertemplate": "pep_letters=I<br>Sample=milk_2B<br>pep_positions=%{x}<br>count=%{y}<extra></extra>",
         "legendgroup": "I",
         "marker": {
          "color": "#00cc96",
          "pattern": {
           "shape": ""
          }
         },
         "name": "I",
         "offsetgroup": "I",
         "orientation": "v",
         "showlegend": false,
         "textposition": "auto",
         "x": [
          18,
          28,
          45,
          72,
          94,
          100,
          163,
          178
         ],
         "xaxis": "x",
         "y": [
          74,
          2,
          13,
          20,
          7,
          7,
          9,
          20
         ],
         "yaxis": "y",
         "type": "bar"
        },
        {
         "alignmentgroup": "True",
         "hovertemplate": "pep_letters=V<br>Sample=milk_1A<br>pep_positions=%{x}<br>count=%{y}<extra></extra>",
         "legendgroup": "V",
         "marker": {
          "color": "#ab63fa",
          "pattern": {
           "shape": ""
          }
         },
         "name": "V",
         "offsetgroup": "V",
         "orientation": "v",
         "showlegend": true,
         "textposition": "auto",
         "x": [
          19,
          31,
          57,
          59,
          97,
          108,
          110,
          134,
          139,
          144
         ],
         "xaxis": "x4",
         "y": [
          120,
          5,
          23,
          23,
          8,
          46,
          46,
          10,
          14,
          61
         ],
         "yaxis": "y4",
         "type": "bar"
        },
        {
         "alignmentgroup": "True",
         "hovertemplate": "pep_letters=V<br>Sample=milk_1B<br>pep_positions=%{x}<br>count=%{y}<extra></extra>",
         "legendgroup": "V",
         "marker": {
          "color": "#ab63fa",
          "pattern": {
           "shape": ""
          }
         },
         "name": "V",
         "offsetgroup": "V",
         "orientation": "v",
         "showlegend": false,
         "textposition": "auto",
         "x": [
          19,
          31,
          57,
          59,
          97,
          108,
          110,
          134,
          139,
          144
         ],
         "xaxis": "x3",
         "y": [
          193,
          21,
          86,
          88,
          95,
          160,
          162,
          10,
          17,
          170
         ],
         "yaxis": "y3",
         "type": "bar"
        },
        {
         "alignmentgroup": "True",
         "hovertemplate": "pep_letters=V<br>Sample=milk_2A<br>pep_positions=%{x}<br>count=%{y}<extra></extra>",
         "legendgroup": "V",
         "marker": {
          "color": "#ab63fa",
          "pattern": {
           "shape": ""
          }
         },
         "name": "V",
         "offsetgroup": "V",
         "orientation": "v",
         "showlegend": false,
         "textposition": "auto",
         "x": [
          31,
          57,
          59,
          134,
          139,
          144
         ],
         "xaxis": "x2",
         "y": [
          5,
          11,
          12,
          1,
          1,
          3
         ],
         "yaxis": "y2",
         "type": "bar"
        },
        {
         "alignmentgroup": "True",
         "hovertemplate": "pep_letters=V<br>Sample=milk_2B<br>pep_positions=%{x}<br>count=%{y}<extra></extra>",
         "legendgroup": "V",
         "marker": {
          "color": "#ab63fa",
          "pattern": {
           "shape": ""
          }
         },
         "name": "V",
         "offsetgroup": "V",
         "orientation": "v",
         "showlegend": false,
         "textposition": "auto",
         "x": [
          19,
          31,
          57,
          59,
          97,
          108,
          110,
          144
         ],
         "xaxis": "x",
         "y": [
          74,
          1,
          19,
          20,
          9,
          22,
          22,
          10
         ],
         "yaxis": "y",
         "type": "bar"
        },
        {
         "alignmentgroup": "True",
         "hovertemplate": "pep_letters=T<br>Sample=milk_1A<br>pep_positions=%{x}<br>count=%{y}<extra></extra>",
         "legendgroup": "T",
         "marker": {
          "color": "#FFA15A",
          "pattern": {
           "shape": ""
          }
         },
         "name": "T",
         "offsetgroup": "T",
         "orientation": "v",
         "showlegend": true,
         "textposition": "auto",
         "x": [
          20,
          22,
          34,
          65,
          92,
          113,
          141,
          170
         ],
         "xaxis": "x4",
         "y": [
          120,
          120,
          5,
          23,
          5,
          46,
          61,
          53
         ],
         "yaxis": "y4",
         "type": "bar"
        },
        {
         "alignmentgroup": "True",
         "hovertemplate": "pep_letters=T<br>Sample=milk_1B<br>pep_positions=%{x}<br>count=%{y}<extra></extra>",
         "legendgroup": "T",
         "marker": {
          "color": "#FFA15A",
          "pattern": {
           "shape": ""
          }
         },
         "name": "T",
         "offsetgroup": "T",
         "orientation": "v",
         "showlegend": false,
         "textposition": "auto",
         "x": [
          11,
          20,
          22,
          34,
          65,
          92,
          113,
          141,
          170
         ],
         "xaxis": "x3",
         "y": [
          2,
          193,
          193,
          33,
          88,
          54,
          163,
          166,
          91
         ],
         "yaxis": "y3",
         "type": "bar"
        },
        {
         "alignmentgroup": "True",
         "hovertemplate": "pep_letters=T<br>Sample=milk_2A<br>pep_positions=%{x}<br>count=%{y}<extra></extra>",
         "legendgroup": "T",
         "marker": {
          "color": "#FFA15A",
          "pattern": {
           "shape": ""
          }
         },
         "name": "T",
         "offsetgroup": "T",
         "orientation": "v",
         "showlegend": false,
         "textposition": "auto",
         "x": [
          34,
          65,
          141,
          170
         ],
         "xaxis": "x2",
         "y": [
          7,
          12,
          3,
          11
         ],
         "yaxis": "y2",
         "type": "bar"
        },
        {
         "alignmentgroup": "True",
         "hovertemplate": "pep_letters=T<br>Sample=milk_2B<br>pep_positions=%{x}<br>count=%{y}<extra></extra>",
         "legendgroup": "T",
         "marker": {
          "color": "#FFA15A",
          "pattern": {
           "shape": ""
          }
         },
         "name": "T",
         "offsetgroup": "T",
         "orientation": "v",
         "showlegend": false,
         "textposition": "auto",
         "x": [
          20,
          22,
          34,
          65,
          92,
          113,
          141,
          170
         ],
         "xaxis": "x",
         "y": [
          74,
          74,
          4,
          20,
          6,
          23,
          10,
          23
         ],
         "yaxis": "y",
         "type": "bar"
        },
        {
         "alignmentgroup": "True",
         "hovertemplate": "pep_letters=Q<br>Sample=milk_1A<br>pep_positions=%{x}<br>count=%{y}<extra></extra>",
         "legendgroup": "Q",
         "marker": {
          "color": "#19d3f3",
          "pattern": {
           "shape": ""
          }
         },
         "name": "Q",
         "offsetgroup": "Q",
         "orientation": "v",
         "showlegend": true,
         "textposition": "auto",
         "x": [
          21,
          29,
          51,
          75,
          131,
          136,
          171,
          175
         ],
         "xaxis": "x4",
         "y": [
          120,
          12,
          10,
          23,
          12,
          14,
          53,
          53
         ],
         "yaxis": "y4",
         "type": "bar"
        },
        {
         "alignmentgroup": "True",
         "hovertemplate": "pep_letters=Q<br>Sample=milk_1B<br>pep_positions=%{x}<br>count=%{y}<extra></extra>",
         "legendgroup": "Q",
         "marker": {
          "color": "#19d3f3",
          "pattern": {
           "shape": ""
          }
         },
         "name": "Q",
         "offsetgroup": "Q",
         "orientation": "v",
         "showlegend": false,
         "textposition": "auto",
         "x": [
          15,
          21,
          29,
          51,
          61,
          75,
          131,
          136,
          171,
          175
         ],
         "xaxis": "x3",
         "y": [
          10,
          193,
          45,
          69,
          3,
          87,
          17,
          17,
          91,
          90
         ],
         "yaxis": "y3",
         "type": "bar"
        },
        {
         "alignmentgroup": "True",
         "hovertemplate": "pep_letters=Q<br>Sample=milk_2A<br>pep_positions=%{x}<br>count=%{y}<extra></extra>",
         "legendgroup": "Q",
         "marker": {
          "color": "#19d3f3",
          "pattern": {
           "shape": ""
          }
         },
         "name": "Q",
         "offsetgroup": "Q",
         "orientation": "v",
         "showlegend": false,
         "textposition": "auto",
         "x": [
          51,
          75,
          131,
          136,
          171,
          175
         ],
         "xaxis": "x2",
         "y": [
          9,
          12,
          1,
          1,
          11,
          11
         ],
         "yaxis": "y2",
         "type": "bar"
        },
        {
         "alignmentgroup": "True",
         "hovertemplate": "pep_letters=Q<br>Sample=milk_2B<br>pep_positions=%{x}<br>count=%{y}<extra></extra>",
         "legendgroup": "Q",
         "marker": {
          "color": "#19d3f3",
          "pattern": {
           "shape": ""
          }
         },
         "name": "Q",
         "offsetgroup": "Q",
         "orientation": "v",
         "showlegend": false,
         "textposition": "auto",
         "x": [
          21,
          29,
          51,
          61,
          75,
          171,
          175
         ],
         "xaxis": "x",
         "y": [
          74,
          2,
          13,
          1,
          20,
          23,
          23
         ],
         "yaxis": "y",
         "type": "bar"
        },
        {
         "alignmentgroup": "True",
         "hovertemplate": "pep_letters=M<br>Sample=milk_1A<br>pep_positions=%{x}<br>count=%{y}<extra></extra>",
         "legendgroup": "M",
         "marker": {
          "color": "#FF6692",
          "pattern": {
           "shape": ""
          }
         },
         "name": "M",
         "offsetgroup": "M",
         "orientation": "v",
         "showlegend": true,
         "textposition": "auto",
         "x": [
          23,
          40,
          123,
          161
         ],
         "xaxis": "x4",
         "y": [
          120,
          8,
          5,
          68
         ],
         "yaxis": "y4",
         "type": "bar"
        },
        {
         "alignmentgroup": "True",
         "hovertemplate": "pep_letters=M<br>Sample=milk_1B<br>pep_positions=%{x}<br>count=%{y}<extra></extra>",
         "legendgroup": "M",
         "marker": {
          "color": "#FF6692",
          "pattern": {
           "shape": ""
          }
         },
         "name": "M",
         "offsetgroup": "M",
         "orientation": "v",
         "showlegend": false,
         "textposition": "auto",
         "x": [
          23,
          40,
          123,
          161
         ],
         "xaxis": "x3",
         "y": [
          193,
          58,
          16,
          107
         ],
         "yaxis": "y3",
         "type": "bar"
        },
        {
         "alignmentgroup": "True",
         "hovertemplate": "pep_letters=M<br>Sample=milk_2A<br>pep_positions=%{x}<br>count=%{y}<extra></extra>",
         "legendgroup": "M",
         "marker": {
          "color": "#FF6692",
          "pattern": {
           "shape": ""
          }
         },
         "name": "M",
         "offsetgroup": "M",
         "orientation": "v",
         "showlegend": false,
         "textposition": "auto",
         "x": [
          40,
          123
         ],
         "xaxis": "x2",
         "y": [
          9,
          1
         ],
         "yaxis": "y2",
         "type": "bar"
        },
        {
         "alignmentgroup": "True",
         "hovertemplate": "pep_letters=M<br>Sample=milk_2B<br>pep_positions=%{x}<br>count=%{y}<extra></extra>",
         "legendgroup": "M",
         "marker": {
          "color": "#FF6692",
          "pattern": {
           "shape": ""
          }
         },
         "name": "M",
         "offsetgroup": "M",
         "orientation": "v",
         "showlegend": false,
         "textposition": "auto",
         "x": [
          23,
          40,
          161
         ],
         "xaxis": "x",
         "y": [
          74,
          10,
          9
         ],
         "yaxis": "y",
         "type": "bar"
        },
        {
         "alignmentgroup": "True",
         "hovertemplate": "pep_letters=K<br>Sample=milk_1A<br>pep_positions=%{x}<br>count=%{y}<extra></extra>",
         "legendgroup": "K",
         "marker": {
          "color": "#B6E880",
          "pattern": {
           "shape": ""
          }
         },
         "name": "K",
         "offsetgroup": "K",
         "orientation": "v",
         "showlegend": true,
         "textposition": "auto",
         "x": [
          24,
          30,
          63,
          76,
          93,
          99,
          107,
          116,
          117,
          151,
          154,
          157
         ],
         "xaxis": "x4",
         "y": [
          120,
          12,
          23,
          23,
          6,
          8,
          35,
          46,
          27,
          61,
          41,
          13
         ],
         "yaxis": "y4",
         "type": "bar"
        },
        {
         "alignmentgroup": "True",
         "hovertemplate": "pep_letters=K<br>Sample=milk_1B<br>pep_positions=%{x}<br>count=%{y}<extra></extra>",
         "legendgroup": "K",
         "marker": {
          "color": "#B6E880",
          "pattern": {
           "shape": ""
          }
         },
         "name": "K",
         "offsetgroup": "K",
         "orientation": "v",
         "showlegend": false,
         "textposition": "auto",
         "x": [
          24,
          30,
          63,
          76,
          86,
          91,
          93,
          99,
          107,
          116,
          117,
          151,
          154,
          157
         ],
         "xaxis": "x3",
         "y": [
          193,
          45,
          88,
          88,
          5,
          11,
          71,
          92,
          132,
          163,
          114,
          170,
          161,
          76
         ],
         "yaxis": "y3",
         "type": "bar"
        },
        {
         "alignmentgroup": "True",
         "hovertemplate": "pep_letters=K<br>Sample=milk_2A<br>pep_positions=%{x}<br>count=%{y}<extra></extra>",
         "legendgroup": "K",
         "marker": {
          "color": "#B6E880",
          "pattern": {
           "shape": ""
          }
         },
         "name": "K",
         "offsetgroup": "K",
         "orientation": "v",
         "showlegend": false,
         "textposition": "auto",
         "x": [
          63,
          76,
          151,
          154
         ],
         "xaxis": "x2",
         "y": [
          12,
          12,
          3,
          3
         ],
         "yaxis": "y2",
         "type": "bar"
        },
        {
         "alignmentgroup": "True",
         "hovertemplate": "pep_letters=K<br>Sample=milk_2B<br>pep_positions=%{x}<br>count=%{y}<extra></extra>",
         "legendgroup": "K",
         "marker": {
          "color": "#B6E880",
          "pattern": {
           "shape": ""
          }
         },
         "name": "K",
         "offsetgroup": "K",
         "orientation": "v",
         "showlegend": false,
         "textposition": "auto",
         "x": [
          24,
          30,
          63,
          76,
          93,
          99,
          107,
          116,
          117,
          151,
          154,
          157
         ],
         "xaxis": "x",
         "y": [
          74,
          2,
          20,
          20,
          7,
          9,
          7,
          23,
          12,
          10,
          10,
          7
         ],
         "yaxis": "y",
         "type": "bar"
        },
        {
         "alignmentgroup": "True",
         "hovertemplate": "pep_letters=G<br>Sample=milk_1A<br>pep_positions=%{x}<br>count=%{y}<extra></extra>",
         "legendgroup": "G",
         "marker": {
          "color": "#FF97FF",
          "pattern": {
           "shape": ""
          }
         },
         "name": "G",
         "offsetgroup": "G",
         "orientation": "v",
         "showlegend": true,
         "textposition": "auto",
         "x": [
          25,
          33,
          68
         ],
         "xaxis": "x4",
         "y": [
          12,
          5,
          23
         ],
         "yaxis": "y4",
         "type": "bar"
        },
        {
         "alignmentgroup": "True",
         "hovertemplate": "pep_letters=G<br>Sample=milk_1B<br>pep_positions=%{x}<br>count=%{y}<extra></extra>",
         "legendgroup": "G",
         "marker": {
          "color": "#FF97FF",
          "pattern": {
           "shape": ""
          }
         },
         "name": "G",
         "offsetgroup": "G",
         "orientation": "v",
         "showlegend": false,
         "textposition": "auto",
         "x": [
          13,
          25,
          33,
          68
         ],
         "xaxis": "x3",
         "y": [
          7,
          45,
          33,
          88
         ],
         "yaxis": "y3",
         "type": "bar"
        },
        {
         "alignmentgroup": "True",
         "hovertemplate": "pep_letters=G<br>Sample=milk_2A<br>pep_positions=%{x}<br>count=%{y}<extra></extra>",
         "legendgroup": "G",
         "marker": {
          "color": "#FF97FF",
          "pattern": {
           "shape": ""
          }
         },
         "name": "G",
         "offsetgroup": "G",
         "orientation": "v",
         "showlegend": false,
         "textposition": "auto",
         "x": [
          33,
          68
         ],
         "xaxis": "x2",
         "y": [
          7,
          12
         ],
         "yaxis": "y2",
         "type": "bar"
        },
        {
         "alignmentgroup": "True",
         "hovertemplate": "pep_letters=G<br>Sample=milk_2B<br>pep_positions=%{x}<br>count=%{y}<extra></extra>",
         "legendgroup": "G",
         "marker": {
          "color": "#FF97FF",
          "pattern": {
           "shape": ""
          }
         },
         "name": "G",
         "offsetgroup": "G",
         "orientation": "v",
         "showlegend": false,
         "textposition": "auto",
         "x": [
          25,
          33,
          68
         ],
         "xaxis": "x",
         "y": [
          2,
          4,
          20
         ],
         "yaxis": "y",
         "type": "bar"
        },
        {
         "alignmentgroup": "True",
         "hovertemplate": "pep_letters=D<br>Sample=milk_1A<br>pep_positions=%{x}<br>count=%{y}<extra></extra>",
         "legendgroup": "D",
         "marker": {
          "color": "#FECB52",
          "pattern": {
           "shape": ""
          }
         },
         "name": "D",
         "offsetgroup": "D",
         "orientation": "v",
         "showlegend": true,
         "textposition": "auto",
         "x": [
          27,
          44,
          49,
          69,
          101,
          112,
          114,
          145,
          146,
          153
         ],
         "xaxis": "x4",
         "y": [
          12,
          11,
          10,
          23,
          31,
          46,
          46,
          61,
          61,
          41
         ],
         "yaxis": "y4",
         "type": "bar"
        },
        {
         "alignmentgroup": "True",
         "hovertemplate": "pep_letters=D<br>Sample=milk_1B<br>pep_positions=%{x}<br>count=%{y}<extra></extra>",
         "legendgroup": "D",
         "marker": {
          "color": "#FECB52",
          "pattern": {
           "shape": ""
          }
         },
         "name": "D",
         "offsetgroup": "D",
         "orientation": "v",
         "showlegend": false,
         "textposition": "auto",
         "x": [
          27,
          44,
          49,
          69,
          80,
          101,
          112,
          114,
          145,
          146,
          153
         ],
         "xaxis": "x3",
         "y": [
          45,
          67,
          69,
          88,
          1,
          130,
          163,
          163,
          170,
          170,
          137
         ],
         "yaxis": "y3",
         "type": "bar"
        },
        {
         "alignmentgroup": "True",
         "hovertemplate": "pep_letters=D<br>Sample=milk_2A<br>pep_positions=%{x}<br>count=%{y}<extra></extra>",
         "legendgroup": "D",
         "marker": {
          "color": "#FECB52",
          "pattern": {
           "shape": ""
          }
         },
         "name": "D",
         "offsetgroup": "D",
         "orientation": "v",
         "showlegend": false,
         "textposition": "auto",
         "x": [
          44,
          49,
          69,
          145,
          146,
          153
         ],
         "xaxis": "x2",
         "y": [
          9,
          9,
          12,
          3,
          3,
          3
         ],
         "yaxis": "y2",
         "type": "bar"
        },
        {
         "alignmentgroup": "True",
         "hovertemplate": "pep_letters=D<br>Sample=milk_2B<br>pep_positions=%{x}<br>count=%{y}<extra></extra>",
         "legendgroup": "D",
         "marker": {
          "color": "#FECB52",
          "pattern": {
           "shape": ""
          }
         },
         "name": "D",
         "offsetgroup": "D",
         "orientation": "v",
         "showlegend": false,
         "textposition": "auto",
         "x": [
          27,
          44,
          49,
          69,
          101,
          112,
          114,
          145,
          146,
          153
         ],
         "xaxis": "x",
         "y": [
          2,
          13,
          13,
          20,
          7,
          23,
          23,
          10,
          10,
          10
         ],
         "yaxis": "y",
         "type": "bar"
        },
        {
         "alignmentgroup": "True",
         "hovertemplate": "pep_letters=W<br>Sample=milk_1A<br>pep_positions=%{x}<br>count=%{y}<extra></extra>",
         "legendgroup": "W",
         "marker": {
          "color": "#636efa",
          "pattern": {
           "shape": ""
          }
         },
         "name": "W",
         "offsetgroup": "W",
         "orientation": "v",
         "showlegend": true,
         "textposition": "auto",
         "x": [
          35
         ],
         "xaxis": "x4",
         "y": [
          5
         ],
         "yaxis": "y4",
         "type": "bar"
        },
        {
         "alignmentgroup": "True",
         "hovertemplate": "pep_letters=W<br>Sample=milk_1B<br>pep_positions=%{x}<br>count=%{y}<extra></extra>",
         "legendgroup": "W",
         "marker": {
          "color": "#636efa",
          "pattern": {
           "shape": ""
          }
         },
         "name": "W",
         "offsetgroup": "W",
         "orientation": "v",
         "showlegend": false,
         "textposition": "auto",
         "x": [
          35,
          77
         ],
         "xaxis": "x3",
         "y": [
          33,
          1
         ],
         "yaxis": "y3",
         "type": "bar"
        },
        {
         "alignmentgroup": "True",
         "hovertemplate": "pep_letters=W<br>Sample=milk_2A<br>pep_positions=%{x}<br>count=%{y}<extra></extra>",
         "legendgroup": "W",
         "marker": {
          "color": "#636efa",
          "pattern": {
           "shape": ""
          }
         },
         "name": "W",
         "offsetgroup": "W",
         "orientation": "v",
         "showlegend": false,
         "textposition": "auto",
         "x": [
          35
         ],
         "xaxis": "x2",
         "y": [
          7
         ],
         "yaxis": "y2",
         "type": "bar"
        },
        {
         "alignmentgroup": "True",
         "hovertemplate": "pep_letters=W<br>Sample=milk_2B<br>pep_positions=%{x}<br>count=%{y}<extra></extra>",
         "legendgroup": "W",
         "marker": {
          "color": "#636efa",
          "pattern": {
           "shape": ""
          }
         },
         "name": "W",
         "offsetgroup": "W",
         "orientation": "v",
         "showlegend": false,
         "textposition": "auto",
         "x": [
          35
         ],
         "xaxis": "x",
         "y": [
          5
         ],
         "yaxis": "y",
         "type": "bar"
        },
        {
         "alignmentgroup": "True",
         "hovertemplate": "pep_letters=Y<br>Sample=milk_1A<br>pep_positions=%{x}<br>count=%{y}<extra></extra>",
         "legendgroup": "Y",
         "marker": {
          "color": "#EF553B",
          "pattern": {
           "shape": ""
          }
         },
         "name": "Y",
         "offsetgroup": "Y",
         "orientation": "v",
         "showlegend": true,
         "textposition": "auto",
         "x": [
          36,
          58,
          115,
          118
         ],
         "xaxis": "x4",
         "y": [
          5,
          23,
          46,
          5
         ],
         "yaxis": "y4",
         "type": "bar"
        },
        {
         "alignmentgroup": "True",
         "hovertemplate": "pep_letters=Y<br>Sample=milk_1B<br>pep_positions=%{x}<br>count=%{y}<extra></extra>",
         "legendgroup": "Y",
         "marker": {
          "color": "#EF553B",
          "pattern": {
           "shape": ""
          }
         },
         "name": "Y",
         "offsetgroup": "Y",
         "orientation": "v",
         "showlegend": false,
         "textposition": "auto",
         "x": [
          36,
          58,
          115,
          118
         ],
         "xaxis": "x3",
         "y": [
          33,
          87,
          163,
          16
         ],
         "yaxis": "y3",
         "type": "bar"
        },
        {
         "alignmentgroup": "True",
         "hovertemplate": "pep_letters=Y<br>Sample=milk_2A<br>pep_positions=%{x}<br>count=%{y}<extra></extra>",
         "legendgroup": "Y",
         "marker": {
          "color": "#EF553B",
          "pattern": {
           "shape": ""
          }
         },
         "name": "Y",
         "offsetgroup": "Y",
         "orientation": "v",
         "showlegend": false,
         "textposition": "auto",
         "x": [
          36,
          58,
          118
         ],
         "xaxis": "x2",
         "y": [
          7,
          12,
          1
         ],
         "yaxis": "y2",
         "type": "bar"
        },
        {
         "alignmentgroup": "True",
         "hovertemplate": "pep_letters=Y<br>Sample=milk_2B<br>pep_positions=%{x}<br>count=%{y}<extra></extra>",
         "legendgroup": "Y",
         "marker": {
          "color": "#EF553B",
          "pattern": {
           "shape": ""
          }
         },
         "name": "Y",
         "offsetgroup": "Y",
         "orientation": "v",
         "showlegend": false,
         "textposition": "auto",
         "x": [
          36,
          58,
          115
         ],
         "xaxis": "x",
         "y": [
          5,
          19,
          23
         ],
         "yaxis": "y",
         "type": "bar"
        },
        {
         "alignmentgroup": "True",
         "hovertemplate": "pep_letters=S<br>Sample=milk_1A<br>pep_positions=%{x}<br>count=%{y}<extra></extra>",
         "legendgroup": "S",
         "marker": {
          "color": "#00cc96",
          "pattern": {
           "shape": ""
          }
         },
         "name": "S",
         "offsetgroup": "S",
         "orientation": "v",
         "showlegend": true,
         "textposition": "auto",
         "x": [
          37,
          43,
          46,
          52,
          126,
          132,
          166
         ],
         "xaxis": "x4",
         "y": [
          8,
          11,
          10,
          10,
          4,
          13,
          50
         ],
         "yaxis": "y4",
         "type": "bar"
        },
        {
         "alignmentgroup": "True",
         "hovertemplate": "pep_letters=S<br>Sample=milk_1B<br>pep_positions=%{x}<br>count=%{y}<extra></extra>",
         "legendgroup": "S",
         "marker": {
          "color": "#00cc96",
          "pattern": {
           "shape": ""
          }
         },
         "name": "S",
         "offsetgroup": "S",
         "orientation": "v",
         "showlegend": false,
         "textposition": "auto",
         "x": [
          37,
          43,
          46,
          52,
          126,
          132,
          166
         ],
         "xaxis": "x3",
         "y": [
          53,
          65,
          69,
          70,
          16,
          17,
          91
         ],
         "yaxis": "y3",
         "type": "bar"
        },
        {
         "alignmentgroup": "True",
         "hovertemplate": "pep_letters=S<br>Sample=milk_2A<br>pep_positions=%{x}<br>count=%{y}<extra></extra>",
         "legendgroup": "S",
         "marker": {
          "color": "#00cc96",
          "pattern": {
           "shape": ""
          }
         },
         "name": "S",
         "offsetgroup": "S",
         "orientation": "v",
         "showlegend": false,
         "textposition": "auto",
         "x": [
          37,
          43,
          46,
          52,
          126,
          132,
          166
         ],
         "xaxis": "x2",
         "y": [
          9,
          9,
          9,
          9,
          1,
          1,
          11
         ],
         "yaxis": "y2",
         "type": "bar"
        },
        {
         "alignmentgroup": "True",
         "hovertemplate": "pep_letters=S<br>Sample=milk_2B<br>pep_positions=%{x}<br>count=%{y}<extra></extra>",
         "legendgroup": "S",
         "marker": {
          "color": "#00cc96",
          "pattern": {
           "shape": ""
          }
         },
         "name": "S",
         "offsetgroup": "S",
         "orientation": "v",
         "showlegend": false,
         "textposition": "auto",
         "x": [
          37,
          43,
          46,
          52,
          166
         ],
         "xaxis": "x",
         "y": [
          9,
          13,
          13,
          13,
          23
         ],
         "yaxis": "y",
         "type": "bar"
        },
        {
         "alignmentgroup": "True",
         "hovertemplate": "pep_letters=P<br>Sample=milk_1A<br>pep_positions=%{x}<br>count=%{y}<extra></extra>",
         "legendgroup": "P",
         "marker": {
          "color": "#ab63fa",
          "pattern": {
           "shape": ""
          }
         },
         "name": "P",
         "offsetgroup": "P",
         "orientation": "v",
         "showlegend": true,
         "textposition": "auto",
         "x": [
          54,
          64,
          66,
          95,
          129,
          142,
          160,
          169
         ],
         "xaxis": "x4",
         "y": [
          10,
          23,
          23,
          8,
          12,
          61,
          68,
          53
         ],
         "yaxis": "y4",
         "type": "bar"
        },
        {
         "alignmentgroup": "True",
         "hovertemplate": "pep_letters=P<br>Sample=milk_1B<br>pep_positions=%{x}<br>count=%{y}<extra></extra>",
         "legendgroup": "P",
         "marker": {
          "color": "#ab63fa",
          "pattern": {
           "shape": ""
          }
         },
         "name": "P",
         "offsetgroup": "P",
         "orientation": "v",
         "showlegend": false,
         "textposition": "auto",
         "x": [
          54,
          64,
          66,
          95,
          129,
          142,
          160,
          169
         ],
         "xaxis": "x3",
         "y": [
          71,
          88,
          88,
          95,
          16,
          170,
          107,
          91
         ],
         "yaxis": "y3",
         "type": "bar"
        },
        {
         "alignmentgroup": "True",
         "hovertemplate": "pep_letters=P<br>Sample=milk_2A<br>pep_positions=%{x}<br>count=%{y}<extra></extra>",
         "legendgroup": "P",
         "marker": {
          "color": "#ab63fa",
          "pattern": {
           "shape": ""
          }
         },
         "name": "P",
         "offsetgroup": "P",
         "orientation": "v",
         "showlegend": false,
         "textposition": "auto",
         "x": [
          54,
          64,
          66,
          129,
          142,
          169
         ],
         "xaxis": "x2",
         "y": [
          9,
          12,
          12,
          1,
          3,
          11
         ],
         "yaxis": "y2",
         "type": "bar"
        },
        {
         "alignmentgroup": "True",
         "hovertemplate": "pep_letters=P<br>Sample=milk_2B<br>pep_positions=%{x}<br>count=%{y}<extra></extra>",
         "legendgroup": "P",
         "marker": {
          "color": "#ab63fa",
          "pattern": {
           "shape": ""
          }
         },
         "name": "P",
         "offsetgroup": "P",
         "orientation": "v",
         "showlegend": false,
         "textposition": "auto",
         "x": [
          54,
          64,
          66,
          95,
          142,
          160,
          169
         ],
         "xaxis": "x",
         "y": [
          13,
          20,
          20,
          9,
          10,
          9,
          23
         ],
         "yaxis": "y",
         "type": "bar"
        },
        {
         "alignmentgroup": "True",
         "hovertemplate": "pep_letters=R<br>Sample=milk_1A<br>pep_positions=%{x}<br>count=%{y}<extra></extra>",
         "legendgroup": "R",
         "marker": {
          "color": "#FFA15A",
          "pattern": {
           "shape": ""
          }
         },
         "name": "R",
         "offsetgroup": "R",
         "orientation": "v",
         "showlegend": true,
         "textposition": "auto",
         "x": [
          56,
          140,
          164
         ],
         "xaxis": "x4",
         "y": [
          10,
          14,
          68
         ],
         "yaxis": "y4",
         "type": "bar"
        },
        {
         "alignmentgroup": "True",
         "hovertemplate": "pep_letters=R<br>Sample=milk_1B<br>pep_positions=%{x}<br>count=%{y}<extra></extra>",
         "legendgroup": "R",
         "marker": {
          "color": "#FFA15A",
          "pattern": {
           "shape": ""
          }
         },
         "name": "R",
         "offsetgroup": "R",
         "orientation": "v",
         "showlegend": false,
         "textposition": "auto",
         "x": [
          56,
          140,
          164
         ],
         "xaxis": "x3",
         "y": [
          71,
          17,
          106
         ],
         "yaxis": "y3",
         "type": "bar"
        },
        {
         "alignmentgroup": "True",
         "hovertemplate": "pep_letters=R<br>Sample=milk_2A<br>pep_positions=%{x}<br>count=%{y}<extra></extra>",
         "legendgroup": "R",
         "marker": {
          "color": "#FFA15A",
          "pattern": {
           "shape": ""
          }
         },
         "name": "R",
         "offsetgroup": "R",
         "orientation": "v",
         "showlegend": false,
         "textposition": "auto",
         "x": [
          56,
          140
         ],
         "xaxis": "x2",
         "y": [
          9,
          1
         ],
         "yaxis": "y2",
         "type": "bar"
        },
        {
         "alignmentgroup": "True",
         "hovertemplate": "pep_letters=R<br>Sample=milk_2B<br>pep_positions=%{x}<br>count=%{y}<extra></extra>",
         "legendgroup": "R",
         "marker": {
          "color": "#FFA15A",
          "pattern": {
           "shape": ""
          }
         },
         "name": "R",
         "offsetgroup": "R",
         "orientation": "v",
         "showlegend": false,
         "textposition": "auto",
         "x": [
          56,
          164
         ],
         "xaxis": "x",
         "y": [
          13,
          9
         ],
         "yaxis": "y",
         "type": "bar"
        },
        {
         "alignmentgroup": "True",
         "hovertemplate": "pep_letters=E<br>Sample=milk_1A<br>pep_positions=%{x}<br>count=%{y}<extra></extra>",
         "legendgroup": "E",
         "marker": {
          "color": "#19d3f3",
          "pattern": {
           "shape": ""
          }
         },
         "name": "E",
         "offsetgroup": "E",
         "orientation": "v",
         "showlegend": true,
         "textposition": "auto",
         "x": [
          60,
          61,
          67,
          71,
          105,
          124,
          128,
          130,
          143,
          147,
          150,
          173,
          174
         ],
         "xaxis": "x4",
         "y": [
          23,
          23,
          23,
          23,
          31,
          5,
          4,
          12,
          61,
          61,
          61,
          53,
          53
         ],
         "yaxis": "y4",
         "type": "bar"
        },
        {
         "alignmentgroup": "True",
         "hovertemplate": "pep_letters=E<br>Sample=milk_1B<br>pep_positions=%{x}<br>count=%{y}<extra></extra>",
         "legendgroup": "E",
         "marker": {
          "color": "#19d3f3",
          "pattern": {
           "shape": ""
          }
         },
         "name": "E",
         "offsetgroup": "E",
         "orientation": "v",
         "showlegend": false,
         "textposition": "auto",
         "x": [
          60,
          61,
          67,
          71,
          78,
          81,
          90,
          105,
          124,
          128,
          130,
          143,
          147,
          150,
          173,
          174
         ],
         "xaxis": "x3",
         "y": [
          88,
          85,
          88,
          88,
          1,
          1,
          9,
          130,
          16,
          16,
          16,
          170,
          170,
          170,
          91,
          90
         ],
         "yaxis": "y3",
         "type": "bar"
        },
        {
         "alignmentgroup": "True",
         "hovertemplate": "pep_letters=E<br>Sample=milk_2A<br>pep_positions=%{x}<br>count=%{y}<extra></extra>",
         "legendgroup": "E",
         "marker": {
          "color": "#19d3f3",
          "pattern": {
           "shape": ""
          }
         },
         "name": "E",
         "offsetgroup": "E",
         "orientation": "v",
         "showlegend": false,
         "textposition": "auto",
         "x": [
          60,
          61,
          67,
          71,
          124,
          128,
          130,
          143,
          147,
          150,
          173,
          174
         ],
         "xaxis": "x2",
         "y": [
          12,
          12,
          12,
          12,
          1,
          1,
          1,
          3,
          3,
          3,
          11,
          11
         ],
         "yaxis": "y2",
         "type": "bar"
        },
        {
         "alignmentgroup": "True",
         "hovertemplate": "pep_letters=E<br>Sample=milk_2B<br>pep_positions=%{x}<br>count=%{y}<extra></extra>",
         "legendgroup": "E",
         "marker": {
          "color": "#19d3f3",
          "pattern": {
           "shape": ""
          }
         },
         "name": "E",
         "offsetgroup": "E",
         "orientation": "v",
         "showlegend": false,
         "textposition": "auto",
         "x": [
          60,
          61,
          67,
          71,
          105,
          143,
          147,
          150,
          173,
          174
         ],
         "xaxis": "x",
         "y": [
          20,
          19,
          20,
          20,
          7,
          10,
          10,
          10,
          23,
          23
         ],
         "yaxis": "y",
         "type": "bar"
        },
        {
         "alignmentgroup": "True",
         "hovertemplate": "pep_letters=F<br>Sample=milk_1A<br>pep_positions=%{x}<br>count=%{y}<extra></extra>",
         "legendgroup": "F",
         "marker": {
          "color": "#FF6692",
          "pattern": {
           "shape": ""
          }
         },
         "name": "F",
         "offsetgroup": "F",
         "orientation": "v",
         "showlegend": true,
         "textposition": "auto",
         "x": [
          98,
          121,
          152,
          167
         ],
         "xaxis": "x4",
         "y": [
          8,
          5,
          41,
          50
         ],
         "yaxis": "y4",
         "type": "bar"
        },
        {
         "alignmentgroup": "True",
         "hovertemplate": "pep_letters=F<br>Sample=milk_1B<br>pep_positions=%{x}<br>count=%{y}<extra></extra>",
         "legendgroup": "F",
         "marker": {
          "color": "#FF6692",
          "pattern": {
           "shape": ""
          }
         },
         "name": "F",
         "offsetgroup": "F",
         "orientation": "v",
         "showlegend": false,
         "textposition": "auto",
         "x": [
          98,
          121,
          152,
          167
         ],
         "xaxis": "x3",
         "y": [
          95,
          16,
          137,
          91
         ],
         "yaxis": "y3",
         "type": "bar"
        },
        {
         "alignmentgroup": "True",
         "hovertemplate": "pep_letters=F<br>Sample=milk_2A<br>pep_positions=%{x}<br>count=%{y}<extra></extra>",
         "legendgroup": "F",
         "marker": {
          "color": "#FF6692",
          "pattern": {
           "shape": ""
          }
         },
         "name": "F",
         "offsetgroup": "F",
         "orientation": "v",
         "showlegend": false,
         "textposition": "auto",
         "x": [
          121,
          152,
          167
         ],
         "xaxis": "x2",
         "y": [
          1,
          3,
          11
         ],
         "yaxis": "y2",
         "type": "bar"
        },
        {
         "alignmentgroup": "True",
         "hovertemplate": "pep_letters=F<br>Sample=milk_2B<br>pep_positions=%{x}<br>count=%{y}<extra></extra>",
         "legendgroup": "F",
         "marker": {
          "color": "#FF6692",
          "pattern": {
           "shape": ""
          }
         },
         "name": "F",
         "offsetgroup": "F",
         "orientation": "v",
         "showlegend": false,
         "textposition": "auto",
         "x": [
          98,
          152,
          167
         ],
         "xaxis": "x",
         "y": [
          9,
          10,
          23
         ],
         "yaxis": "y",
         "type": "bar"
        },
        {
         "alignmentgroup": "True",
         "hovertemplate": "pep_letters=N<br>Sample=milk_1A<br>pep_positions=%{x}<br>count=%{y}<extra></extra>",
         "legendgroup": "N",
         "marker": {
          "color": "#B6E880",
          "pattern": {
           "shape": ""
          }
         },
         "name": "N",
         "offsetgroup": "N",
         "orientation": "v",
         "showlegend": true,
         "textposition": "auto",
         "x": [
          104,
          106,
          125,
          168
         ],
         "xaxis": "x4",
         "y": [
          31,
          31,
          5,
          50
         ],
         "yaxis": "y4",
         "type": "bar"
        },
        {
         "alignmentgroup": "True",
         "hovertemplate": "pep_letters=N<br>Sample=milk_1B<br>pep_positions=%{x}<br>count=%{y}<extra></extra>",
         "legendgroup": "N",
         "marker": {
          "color": "#B6E880",
          "pattern": {
           "shape": ""
          }
         },
         "name": "N",
         "offsetgroup": "N",
         "orientation": "v",
         "showlegend": false,
         "textposition": "auto",
         "x": [
          79,
          104,
          106,
          125,
          168
         ],
         "xaxis": "x3",
         "y": [
          1,
          130,
          130,
          16,
          91
         ],
         "yaxis": "y3",
         "type": "bar"
        },
        {
         "alignmentgroup": "True",
         "hovertemplate": "pep_letters=N<br>Sample=milk_2A<br>pep_positions=%{x}<br>count=%{y}<extra></extra>",
         "legendgroup": "N",
         "marker": {
          "color": "#B6E880",
          "pattern": {
           "shape": ""
          }
         },
         "name": "N",
         "offsetgroup": "N",
         "orientation": "v",
         "showlegend": false,
         "textposition": "auto",
         "x": [
          125,
          168
         ],
         "xaxis": "x2",
         "y": [
          1,
          11
         ],
         "yaxis": "y2",
         "type": "bar"
        },
        {
         "alignmentgroup": "True",
         "hovertemplate": "pep_letters=N<br>Sample=milk_2B<br>pep_positions=%{x}<br>count=%{y}<extra></extra>",
         "legendgroup": "N",
         "marker": {
          "color": "#B6E880",
          "pattern": {
           "shape": ""
          }
         },
         "name": "N",
         "offsetgroup": "N",
         "orientation": "v",
         "showlegend": false,
         "textposition": "auto",
         "x": [
          104,
          106,
          168
         ],
         "xaxis": "x",
         "y": [
          7,
          7,
          23
         ],
         "yaxis": "y",
         "type": "bar"
        },
        {
         "alignmentgroup": "True",
         "hovertemplate": "pep_letters=C<br>Sample=milk_1A<br>pep_positions=%{x}<br>count=%{y}<extra></extra>",
         "legendgroup": "C",
         "marker": {
          "color": "#FF97FF",
          "pattern": {
           "shape": ""
          }
         },
         "name": "C",
         "offsetgroup": "C",
         "orientation": "v",
         "showlegend": true,
         "textposition": "auto",
         "x": [
          122,
          135,
          137,
          176
         ],
         "xaxis": "x4",
         "y": [
          5,
          13,
          14,
          38
         ],
         "yaxis": "y4",
         "type": "bar"
        },
        {
         "alignmentgroup": "True",
         "hovertemplate": "pep_letters=C<br>Sample=milk_1B<br>pep_positions=%{x}<br>count=%{y}<extra></extra>",
         "legendgroup": "C",
         "marker": {
          "color": "#FF97FF",
          "pattern": {
           "shape": ""
          }
         },
         "name": "C",
         "offsetgroup": "C",
         "orientation": "v",
         "showlegend": false,
         "textposition": "auto",
         "x": [
          12,
          122,
          135,
          137,
          176
         ],
         "xaxis": "x3",
         "y": [
          2,
          16,
          17,
          17,
          84
         ],
         "yaxis": "y3",
         "type": "bar"
        },
        {
         "alignmentgroup": "True",
         "hovertemplate": "pep_letters=C<br>Sample=milk_2A<br>pep_positions=%{x}<br>count=%{y}<extra></extra>",
         "legendgroup": "C",
         "marker": {
          "color": "#FF97FF",
          "pattern": {
           "shape": ""
          }
         },
         "name": "C",
         "offsetgroup": "C",
         "orientation": "v",
         "showlegend": false,
         "textposition": "auto",
         "x": [
          122,
          135,
          137,
          176
         ],
         "xaxis": "x2",
         "y": [
          1,
          1,
          1,
          11
         ],
         "yaxis": "y2",
         "type": "bar"
        },
        {
         "alignmentgroup": "True",
         "hovertemplate": "pep_letters=C<br>Sample=milk_2B<br>pep_positions=%{x}<br>count=%{y}<extra></extra>",
         "legendgroup": "C",
         "marker": {
          "color": "#FF97FF",
          "pattern": {
           "shape": ""
          }
         },
         "name": "C",
         "offsetgroup": "C",
         "orientation": "v",
         "showlegend": false,
         "textposition": "auto",
         "x": [
          176
         ],
         "xaxis": "x",
         "y": [
          20
         ],
         "yaxis": "y",
         "type": "bar"
        },
        {
         "alignmentgroup": "True",
         "hovertemplate": "pep_letters=H<br>Sample=milk_1A<br>pep_positions=%{x}<br>count=%{y}<extra></extra>",
         "legendgroup": "H",
         "marker": {
          "color": "#FECB52",
          "pattern": {
           "shape": ""
          }
         },
         "name": "H",
         "offsetgroup": "H",
         "orientation": "v",
         "showlegend": true,
         "textposition": "auto",
         "x": [
          162,
          177
         ],
         "xaxis": "x4",
         "y": [
          68,
          38
         ],
         "yaxis": "y4",
         "type": "bar"
        },
        {
         "alignmentgroup": "True",
         "hovertemplate": "pep_letters=H<br>Sample=milk_1B<br>pep_positions=%{x}<br>count=%{y}<extra></extra>",
         "legendgroup": "H",
         "marker": {
          "color": "#FECB52",
          "pattern": {
           "shape": ""
          }
         },
         "name": "H",
         "offsetgroup": "H",
         "orientation": "v",
         "showlegend": false,
         "textposition": "auto",
         "x": [
          75,
          162,
          177
         ],
         "xaxis": "x3",
         "y": [
          1,
          106,
          84
         ],
         "yaxis": "y3",
         "type": "bar"
        },
        {
         "alignmentgroup": "True",
         "hovertemplate": "pep_letters=H<br>Sample=milk_2A<br>pep_positions=%{x}<br>count=%{y}<extra></extra>",
         "legendgroup": "H",
         "marker": {
          "color": "#FECB52",
          "pattern": {
           "shape": ""
          }
         },
         "name": "H",
         "offsetgroup": "H",
         "orientation": "v",
         "showlegend": false,
         "textposition": "auto",
         "x": [
          177
         ],
         "xaxis": "x2",
         "y": [
          11
         ],
         "yaxis": "y2",
         "type": "bar"
        },
        {
         "alignmentgroup": "True",
         "hovertemplate": "pep_letters=H<br>Sample=milk_2B<br>pep_positions=%{x}<br>count=%{y}<extra></extra>",
         "legendgroup": "H",
         "marker": {
          "color": "#FECB52",
          "pattern": {
           "shape": ""
          }
         },
         "name": "H",
         "offsetgroup": "H",
         "orientation": "v",
         "showlegend": false,
         "textposition": "auto",
         "x": [
          162,
          177
         ],
         "xaxis": "x",
         "y": [
          9,
          20
         ],
         "yaxis": "y",
         "type": "bar"
        }
       ],
       "layout": {
        "template": {
         "data": {
          "histogram2dcontour": [
           {
            "type": "histogram2dcontour",
            "colorbar": {
             "outlinewidth": 0,
             "ticks": ""
            },
            "colorscale": [
             [
              0.0,
              "#0d0887"
             ],
             [
              0.1111111111111111,
              "#46039f"
             ],
             [
              0.2222222222222222,
              "#7201a8"
             ],
             [
              0.3333333333333333,
              "#9c179e"
             ],
             [
              0.4444444444444444,
              "#bd3786"
             ],
             [
              0.5555555555555556,
              "#d8576b"
             ],
             [
              0.6666666666666666,
              "#ed7953"
             ],
             [
              0.7777777777777778,
              "#fb9f3a"
             ],
             [
              0.8888888888888888,
              "#fdca26"
             ],
             [
              1.0,
              "#f0f921"
             ]
            ]
           }
          ],
          "choropleth": [
           {
            "type": "choropleth",
            "colorbar": {
             "outlinewidth": 0,
             "ticks": ""
            }
           }
          ],
          "histogram2d": [
           {
            "type": "histogram2d",
            "colorbar": {
             "outlinewidth": 0,
             "ticks": ""
            },
            "colorscale": [
             [
              0.0,
              "#0d0887"
             ],
             [
              0.1111111111111111,
              "#46039f"
             ],
             [
              0.2222222222222222,
              "#7201a8"
             ],
             [
              0.3333333333333333,
              "#9c179e"
             ],
             [
              0.4444444444444444,
              "#bd3786"
             ],
             [
              0.5555555555555556,
              "#d8576b"
             ],
             [
              0.6666666666666666,
              "#ed7953"
             ],
             [
              0.7777777777777778,
              "#fb9f3a"
             ],
             [
              0.8888888888888888,
              "#fdca26"
             ],
             [
              1.0,
              "#f0f921"
             ]
            ]
           }
          ],
          "heatmap": [
           {
            "type": "heatmap",
            "colorbar": {
             "outlinewidth": 0,
             "ticks": ""
            },
            "colorscale": [
             [
              0.0,
              "#0d0887"
             ],
             [
              0.1111111111111111,
              "#46039f"
             ],
             [
              0.2222222222222222,
              "#7201a8"
             ],
             [
              0.3333333333333333,
              "#9c179e"
             ],
             [
              0.4444444444444444,
              "#bd3786"
             ],
             [
              0.5555555555555556,
              "#d8576b"
             ],
             [
              0.6666666666666666,
              "#ed7953"
             ],
             [
              0.7777777777777778,
              "#fb9f3a"
             ],
             [
              0.8888888888888888,
              "#fdca26"
             ],
             [
              1.0,
              "#f0f921"
             ]
            ]
           }
          ],
          "heatmapgl": [
           {
            "type": "heatmapgl",
            "colorbar": {
             "outlinewidth": 0,
             "ticks": ""
            },
            "colorscale": [
             [
              0.0,
              "#0d0887"
             ],
             [
              0.1111111111111111,
              "#46039f"
             ],
             [
              0.2222222222222222,
              "#7201a8"
             ],
             [
              0.3333333333333333,
              "#9c179e"
             ],
             [
              0.4444444444444444,
              "#bd3786"
             ],
             [
              0.5555555555555556,
              "#d8576b"
             ],
             [
              0.6666666666666666,
              "#ed7953"
             ],
             [
              0.7777777777777778,
              "#fb9f3a"
             ],
             [
              0.8888888888888888,
              "#fdca26"
             ],
             [
              1.0,
              "#f0f921"
             ]
            ]
           }
          ],
          "contourcarpet": [
           {
            "type": "contourcarpet",
            "colorbar": {
             "outlinewidth": 0,
             "ticks": ""
            }
           }
          ],
          "contour": [
           {
            "type": "contour",
            "colorbar": {
             "outlinewidth": 0,
             "ticks": ""
            },
            "colorscale": [
             [
              0.0,
              "#0d0887"
             ],
             [
              0.1111111111111111,
              "#46039f"
             ],
             [
              0.2222222222222222,
              "#7201a8"
             ],
             [
              0.3333333333333333,
              "#9c179e"
             ],
             [
              0.4444444444444444,
              "#bd3786"
             ],
             [
              0.5555555555555556,
              "#d8576b"
             ],
             [
              0.6666666666666666,
              "#ed7953"
             ],
             [
              0.7777777777777778,
              "#fb9f3a"
             ],
             [
              0.8888888888888888,
              "#fdca26"
             ],
             [
              1.0,
              "#f0f921"
             ]
            ]
           }
          ],
          "surface": [
           {
            "type": "surface",
            "colorbar": {
             "outlinewidth": 0,
             "ticks": ""
            },
            "colorscale": [
             [
              0.0,
              "#0d0887"
             ],
             [
              0.1111111111111111,
              "#46039f"
             ],
             [
              0.2222222222222222,
              "#7201a8"
             ],
             [
              0.3333333333333333,
              "#9c179e"
             ],
             [
              0.4444444444444444,
              "#bd3786"
             ],
             [
              0.5555555555555556,
              "#d8576b"
             ],
             [
              0.6666666666666666,
              "#ed7953"
             ],
             [
              0.7777777777777778,
              "#fb9f3a"
             ],
             [
              0.8888888888888888,
              "#fdca26"
             ],
             [
              1.0,
              "#f0f921"
             ]
            ]
           }
          ],
          "mesh3d": [
           {
            "type": "mesh3d",
            "colorbar": {
             "outlinewidth": 0,
             "ticks": ""
            }
           }
          ],
          "scatter": [
           {
            "fillpattern": {
             "fillmode": "overlay",
             "size": 10,
             "solidity": 0.2
            },
            "type": "scatter"
           }
          ],
          "parcoords": [
           {
            "type": "parcoords",
            "line": {
             "colorbar": {
              "outlinewidth": 0,
              "ticks": ""
             }
            }
           }
          ],
          "scatterpolargl": [
           {
            "type": "scatterpolargl",
            "marker": {
             "colorbar": {
              "outlinewidth": 0,
              "ticks": ""
             }
            }
           }
          ],
          "bar": [
           {
            "error_x": {
             "color": "#2a3f5f"
            },
            "error_y": {
             "color": "#2a3f5f"
            },
            "marker": {
             "line": {
              "color": "#E5ECF6",
              "width": 0.5
             },
             "pattern": {
              "fillmode": "overlay",
              "size": 10,
              "solidity": 0.2
             }
            },
            "type": "bar"
           }
          ],
          "scattergeo": [
           {
            "type": "scattergeo",
            "marker": {
             "colorbar": {
              "outlinewidth": 0,
              "ticks": ""
             }
            }
           }
          ],
          "scatterpolar": [
           {
            "type": "scatterpolar",
            "marker": {
             "colorbar": {
              "outlinewidth": 0,
              "ticks": ""
             }
            }
           }
          ],
          "histogram": [
           {
            "marker": {
             "pattern": {
              "fillmode": "overlay",
              "size": 10,
              "solidity": 0.2
             }
            },
            "type": "histogram"
           }
          ],
          "scattergl": [
           {
            "type": "scattergl",
            "marker": {
             "colorbar": {
              "outlinewidth": 0,
              "ticks": ""
             }
            }
           }
          ],
          "scatter3d": [
           {
            "type": "scatter3d",
            "line": {
             "colorbar": {
              "outlinewidth": 0,
              "ticks": ""
             }
            },
            "marker": {
             "colorbar": {
              "outlinewidth": 0,
              "ticks": ""
             }
            }
           }
          ],
          "scattermapbox": [
           {
            "type": "scattermapbox",
            "marker": {
             "colorbar": {
              "outlinewidth": 0,
              "ticks": ""
             }
            }
           }
          ],
          "scatterternary": [
           {
            "type": "scatterternary",
            "marker": {
             "colorbar": {
              "outlinewidth": 0,
              "ticks": ""
             }
            }
           }
          ],
          "scattercarpet": [
           {
            "type": "scattercarpet",
            "marker": {
             "colorbar": {
              "outlinewidth": 0,
              "ticks": ""
             }
            }
           }
          ],
          "carpet": [
           {
            "aaxis": {
             "endlinecolor": "#2a3f5f",
             "gridcolor": "white",
             "linecolor": "white",
             "minorgridcolor": "white",
             "startlinecolor": "#2a3f5f"
            },
            "baxis": {
             "endlinecolor": "#2a3f5f",
             "gridcolor": "white",
             "linecolor": "white",
             "minorgridcolor": "white",
             "startlinecolor": "#2a3f5f"
            },
            "type": "carpet"
           }
          ],
          "table": [
           {
            "cells": {
             "fill": {
              "color": "#EBF0F8"
             },
             "line": {
              "color": "white"
             }
            },
            "header": {
             "fill": {
              "color": "#C8D4E3"
             },
             "line": {
              "color": "white"
             }
            },
            "type": "table"
           }
          ],
          "barpolar": [
           {
            "marker": {
             "line": {
              "color": "#E5ECF6",
              "width": 0.5
             },
             "pattern": {
              "fillmode": "overlay",
              "size": 10,
              "solidity": 0.2
             }
            },
            "type": "barpolar"
           }
          ],
          "pie": [
           {
            "automargin": true,
            "type": "pie"
           }
          ]
         },
         "layout": {
          "autotypenumbers": "strict",
          "colorway": [
           "#636efa",
           "#EF553B",
           "#00cc96",
           "#ab63fa",
           "#FFA15A",
           "#19d3f3",
           "#FF6692",
           "#B6E880",
           "#FF97FF",
           "#FECB52"
          ],
          "font": {
           "color": "#2a3f5f"
          },
          "hovermode": "closest",
          "hoverlabel": {
           "align": "left"
          },
          "paper_bgcolor": "white",
          "plot_bgcolor": "#E5ECF6",
          "polar": {
           "bgcolor": "#E5ECF6",
           "angularaxis": {
            "gridcolor": "white",
            "linecolor": "white",
            "ticks": ""
           },
           "radialaxis": {
            "gridcolor": "white",
            "linecolor": "white",
            "ticks": ""
           }
          },
          "ternary": {
           "bgcolor": "#E5ECF6",
           "aaxis": {
            "gridcolor": "white",
            "linecolor": "white",
            "ticks": ""
           },
           "baxis": {
            "gridcolor": "white",
            "linecolor": "white",
            "ticks": ""
           },
           "caxis": {
            "gridcolor": "white",
            "linecolor": "white",
            "ticks": ""
           }
          },
          "coloraxis": {
           "colorbar": {
            "outlinewidth": 0,
            "ticks": ""
           }
          },
          "colorscale": {
           "sequential": [
            [
             0.0,
             "#0d0887"
            ],
            [
             0.1111111111111111,
             "#46039f"
            ],
            [
             0.2222222222222222,
             "#7201a8"
            ],
            [
             0.3333333333333333,
             "#9c179e"
            ],
            [
             0.4444444444444444,
             "#bd3786"
            ],
            [
             0.5555555555555556,
             "#d8576b"
            ],
            [
             0.6666666666666666,
             "#ed7953"
            ],
            [
             0.7777777777777778,
             "#fb9f3a"
            ],
            [
             0.8888888888888888,
             "#fdca26"
            ],
            [
             1.0,
             "#f0f921"
            ]
           ],
           "sequentialminus": [
            [
             0.0,
             "#0d0887"
            ],
            [
             0.1111111111111111,
             "#46039f"
            ],
            [
             0.2222222222222222,
             "#7201a8"
            ],
            [
             0.3333333333333333,
             "#9c179e"
            ],
            [
             0.4444444444444444,
             "#bd3786"
            ],
            [
             0.5555555555555556,
             "#d8576b"
            ],
            [
             0.6666666666666666,
             "#ed7953"
            ],
            [
             0.7777777777777778,
             "#fb9f3a"
            ],
            [
             0.8888888888888888,
             "#fdca26"
            ],
            [
             1.0,
             "#f0f921"
            ]
           ],
           "diverging": [
            [
             0,
             "#8e0152"
            ],
            [
             0.1,
             "#c51b7d"
            ],
            [
             0.2,
             "#de77ae"
            ],
            [
             0.3,
             "#f1b6da"
            ],
            [
             0.4,
             "#fde0ef"
            ],
            [
             0.5,
             "#f7f7f7"
            ],
            [
             0.6,
             "#e6f5d0"
            ],
            [
             0.7,
             "#b8e186"
            ],
            [
             0.8,
             "#7fbc41"
            ],
            [
             0.9,
             "#4d9221"
            ],
            [
             1,
             "#276419"
            ]
           ]
          },
          "xaxis": {
           "gridcolor": "white",
           "linecolor": "white",
           "ticks": "",
           "title": {
            "standoff": 15
           },
           "zerolinecolor": "white",
           "automargin": true,
           "zerolinewidth": 2
          },
          "yaxis": {
           "gridcolor": "white",
           "linecolor": "white",
           "ticks": "",
           "title": {
            "standoff": 15
           },
           "zerolinecolor": "white",
           "automargin": true,
           "zerolinewidth": 2
          },
          "scene": {
           "xaxis": {
            "backgroundcolor": "#E5ECF6",
            "gridcolor": "white",
            "linecolor": "white",
            "showbackground": true,
            "ticks": "",
            "zerolinecolor": "white",
            "gridwidth": 2
           },
           "yaxis": {
            "backgroundcolor": "#E5ECF6",
            "gridcolor": "white",
            "linecolor": "white",
            "showbackground": true,
            "ticks": "",
            "zerolinecolor": "white",
            "gridwidth": 2
           },
           "zaxis": {
            "backgroundcolor": "#E5ECF6",
            "gridcolor": "white",
            "linecolor": "white",
            "showbackground": true,
            "ticks": "",
            "zerolinecolor": "white",
            "gridwidth": 2
           }
          },
          "shapedefaults": {
           "line": {
            "color": "#2a3f5f"
           }
          },
          "annotationdefaults": {
           "arrowcolor": "#2a3f5f",
           "arrowhead": 0,
           "arrowwidth": 1
          },
          "geo": {
           "bgcolor": "white",
           "landcolor": "#E5ECF6",
           "subunitcolor": "white",
           "showland": true,
           "showlakes": true,
           "lakecolor": "white"
          },
          "title": {
           "x": 0.05
          },
          "mapbox": {
           "style": "light"
          }
         }
        },
        "xaxis": {
         "anchor": "y",
         "domain": [
          0.0,
          0.98
         ],
         "title": {
          "text": "pep_positions"
         }
        },
        "yaxis": {
         "anchor": "x",
         "domain": [
          0.0,
          0.2275
         ],
         "title": {
          "text": "count"
         }
        },
        "xaxis2": {
         "anchor": "y2",
         "domain": [
          0.0,
          0.98
         ],
         "matches": "x",
         "showticklabels": false
        },
        "yaxis2": {
         "anchor": "x2",
         "domain": [
          0.2575,
          0.485
         ],
         "matches": "y",
         "title": {
          "text": "count"
         }
        },
        "xaxis3": {
         "anchor": "y3",
         "domain": [
          0.0,
          0.98
         ],
         "matches": "x",
         "showticklabels": false
        },
        "yaxis3": {
         "anchor": "x3",
         "domain": [
          0.515,
          0.7425
         ],
         "matches": "y",
         "title": {
          "text": "count"
         }
        },
        "xaxis4": {
         "anchor": "y4",
         "domain": [
          0.0,
          0.98
         ],
         "matches": "x",
         "showticklabels": false
        },
        "yaxis4": {
         "anchor": "x4",
         "domain": [
          0.7725,
          1.0
         ],
         "matches": "y",
         "title": {
          "text": "count"
         }
        },
        "annotations": [
         {
          "font": {},
          "showarrow": false,
          "text": "Sample=milk_2B",
          "textangle": 90,
          "x": 0.98,
          "xanchor": "left",
          "xref": "paper",
          "y": 0.11375,
          "yanchor": "middle",
          "yref": "paper"
         },
         {
          "font": {},
          "showarrow": false,
          "text": "Sample=milk_2A",
          "textangle": 90,
          "x": 0.98,
          "xanchor": "left",
          "xref": "paper",
          "y": 0.37124999999999997,
          "yanchor": "middle",
          "yref": "paper"
         },
         {
          "font": {},
          "showarrow": false,
          "text": "Sample=milk_1B",
          "textangle": 90,
          "x": 0.98,
          "xanchor": "left",
          "xref": "paper",
          "y": 0.62875,
          "yanchor": "middle",
          "yref": "paper"
         },
         {
          "font": {},
          "showarrow": false,
          "text": "Sample=milk_1A",
          "textangle": 90,
          "x": 0.98,
          "xanchor": "left",
          "xref": "paper",
          "y": 0.88625,
          "yanchor": "middle",
          "yref": "paper"
         }
        ],
        "legend": {
         "title": {
          "text": "pep_letters"
         },
         "tracegroupgap": 0
        },
        "title": {
         "text": "Long-Form Input"
        },
        "barmode": "relative",
        "height": 800,
        "width": 1500
       },
       "config": {
        "plotlyServerURL": "https://plot.ly"
       }
      },
      "text/html": [
       "<div>                            <div id=\"45497d33-8c70-4de2-84ed-f75877627d46\" class=\"plotly-graph-div\" style=\"height:800px; width:1500px;\"></div>            <script type=\"text/javascript\">                require([\"plotly\"], function(Plotly) {                    window.PLOTLYENV=window.PLOTLYENV || {};                                    if (document.getElementById(\"45497d33-8c70-4de2-84ed-f75877627d46\")) {                    Plotly.newPlot(                        \"45497d33-8c70-4de2-84ed-f75877627d46\",                        [{\"alignmentgroup\":\"True\",\"hovertemplate\":\"pep_letters=A\\u003cbr\\u003eSample=milk_1A\\u003cbr\\u003epep_positions=%{x}\\u003cbr\\u003ecount=%{y}\\u003cextra\\u003e\\u003c\\u002fextra\\u003e\",\"legendgroup\":\"A\",\"marker\":{\"color\":\"#636efa\",\"pattern\":{\"shape\":\"\"}},\"name\":\"A\",\"offsetgroup\":\"A\",\"orientation\":\"v\",\"showlegend\":true,\"textposition\":\"auto\",\"x\":[16,32,39,41,42,50,53,96,102,127,134,148,155,158],\"xaxis\":\"x4\",\"y\":[16,5,8,11,11,10,10,8,31,4,3,61,12,68],\"yaxis\":\"y4\",\"type\":\"bar\"},{\"alignmentgroup\":\"True\",\"hovertemplate\":\"pep_letters=A\\u003cbr\\u003eSample=milk_1B\\u003cbr\\u003epep_positions=%{x}\\u003cbr\\u003ecount=%{y}\\u003cextra\\u003e\\u003c\\u002fextra\\u003e\",\"legendgroup\":\"A\",\"marker\":{\"color\":\"#636efa\",\"pattern\":{\"shape\":\"\"}},\"name\":\"A\",\"offsetgroup\":\"A\",\"orientation\":\"v\",\"showlegend\":false,\"textposition\":\"auto\",\"x\":[14,16,32,39,41,42,50,53,89,96,102,127,134,148,155,158],\"xaxis\":\"x3\",\"y\":[7,47,27,58,64,64,69,70,9,95,130,16,7,170,75,105],\"yaxis\":\"y3\",\"type\":\"bar\"},{\"alignmentgroup\":\"True\",\"hovertemplate\":\"pep_letters=A\\u003cbr\\u003eSample=milk_2A\\u003cbr\\u003epep_positions=%{x}\\u003cbr\\u003ecount=%{y}\\u003cextra\\u003e\\u003c\\u002fextra\\u003e\",\"legendgroup\":\"A\",\"marker\":{\"color\":\"#636efa\",\"pattern\":{\"shape\":\"\"}},\"name\":\"A\",\"offsetgroup\":\"A\",\"orientation\":\"v\",\"showlegend\":false,\"textposition\":\"auto\",\"x\":[32,39,41,42,50,53,127,148],\"xaxis\":\"x2\",\"y\":[7,9,9,9,9,9,1,3],\"yaxis\":\"y2\",\"type\":\"bar\"},{\"alignmentgroup\":\"True\",\"hovertemplate\":\"pep_letters=A\\u003cbr\\u003eSample=milk_2B\\u003cbr\\u003epep_positions=%{x}\\u003cbr\\u003ecount=%{y}\\u003cextra\\u003e\\u003c\\u002fextra\\u003e\",\"legendgroup\":\"A\",\"marker\":{\"color\":\"#636efa\",\"pattern\":{\"shape\":\"\"}},\"name\":\"A\",\"offsetgroup\":\"A\",\"orientation\":\"v\",\"showlegend\":false,\"textposition\":\"auto\",\"x\":[16,32,39,41,42,50,53,96,102,148,155,158],\"xaxis\":\"x\",\"y\":[11,3,10,13,13,13,13,9,7,10,3,9],\"yaxis\":\"y\",\"type\":\"bar\"},{\"alignmentgroup\":\"True\",\"hovertemplate\":\"pep_letters=L\\u003cbr\\u003eSample=milk_1A\\u003cbr\\u003epep_positions=%{x}\\u003cbr\\u003ecount=%{y}\\u003cextra\\u003e\\u003c\\u002fextra\\u003e\",\"legendgroup\":\"L\",\"marker\":{\"color\":\"#EF553B\",\"pattern\":{\"shape\":\"\"}},\"name\":\"L\",\"offsetgroup\":\"L\",\"orientation\":\"v\",\"showlegend\":true,\"textposition\":\"auto\",\"x\":[17,26,38,47,48,55,62,70,73,74,103,109,111,119,120,133,138,149,156,159,165,172],\"xaxis\":\"x4\",\"y\":[120,12,8,10,10,10,23,23,23,23,31,46,46,5,5,13,14,61,12,68,50,53],\"yaxis\":\"y4\",\"type\":\"bar\"},{\"alignmentgroup\":\"True\",\"hovertemplate\":\"pep_letters=L\\u003cbr\\u003eSample=milk_1B\\u003cbr\\u003epep_positions=%{x}\\u003cbr\\u003ecount=%{y}\\u003cextra\\u003e\\u003c\\u002fextra\\u003e\",\"legendgroup\":\"L\",\"marker\":{\"color\":\"#EF553B\",\"pattern\":{\"shape\":\"\"}},\"name\":\"L\",\"offsetgroup\":\"L\",\"orientation\":\"v\",\"showlegend\":false,\"textposition\":\"auto\",\"x\":[10,17,26,38,47,48,55,62,70,73,74,103,109,111,119,120,133,138,149,156,159,165,172],\"xaxis\":\"x3\",\"y\":[1,193,45,53,69,69,71,88,88,88,88,130,160,163,16,16,17,17,170,75,107,91,91],\"yaxis\":\"y3\",\"type\":\"bar\"},{\"alignmentgroup\":\"True\",\"hovertemplate\":\"pep_letters=L\\u003cbr\\u003eSample=milk_2A\\u003cbr\\u003epep_positions=%{x}\\u003cbr\\u003ecount=%{y}\\u003cextra\\u003e\\u003c\\u002fextra\\u003e\",\"legendgroup\":\"L\",\"marker\":{\"color\":\"#EF553B\",\"pattern\":{\"shape\":\"\"}},\"name\":\"L\",\"offsetgroup\":\"L\",\"orientation\":\"v\",\"showlegend\":false,\"textposition\":\"auto\",\"x\":[38,47,48,55,62,70,73,74,119,120,133,138,149,165,172],\"xaxis\":\"x2\",\"y\":[9,9,9,9,12,12,12,12,1,1,1,1,3,11,11],\"yaxis\":\"y2\",\"type\":\"bar\"},{\"alignmentgroup\":\"True\",\"hovertemplate\":\"pep_letters=L\\u003cbr\\u003eSample=milk_2B\\u003cbr\\u003epep_positions=%{x}\\u003cbr\\u003ecount=%{y}\\u003cextra\\u003e\\u003c\\u002fextra\\u003e\",\"legendgroup\":\"L\",\"marker\":{\"color\":\"#EF553B\",\"pattern\":{\"shape\":\"\"}},\"name\":\"L\",\"offsetgroup\":\"L\",\"orientation\":\"v\",\"showlegend\":false,\"textposition\":\"auto\",\"x\":[17,26,38,47,48,55,62,70,73,74,103,109,111,149,156,159,165,172],\"xaxis\":\"x\",\"y\":[74,2,9,13,13,13,20,20,20,20,7,22,23,10,3,9,23,23],\"yaxis\":\"y\",\"type\":\"bar\"},{\"alignmentgroup\":\"True\",\"hovertemplate\":\"pep_letters=I\\u003cbr\\u003eSample=milk_1A\\u003cbr\\u003epep_positions=%{x}\\u003cbr\\u003ecount=%{y}\\u003cextra\\u003e\\u003c\\u002fextra\\u003e\",\"legendgroup\":\"I\",\"marker\":{\"color\":\"#00cc96\",\"pattern\":{\"shape\":\"\"}},\"name\":\"I\",\"offsetgroup\":\"I\",\"orientation\":\"v\",\"showlegend\":true,\"textposition\":\"auto\",\"x\":[18,28,45,72,94,100,163,178],\"xaxis\":\"x4\",\"y\":[120,12,10,23,7,31,68,38],\"yaxis\":\"y4\",\"type\":\"bar\"},{\"alignmentgroup\":\"True\",\"hovertemplate\":\"pep_letters=I\\u003cbr\\u003eSample=milk_1B\\u003cbr\\u003epep_positions=%{x}\\u003cbr\\u003ecount=%{y}\\u003cextra\\u003e\\u003c\\u002fextra\\u003e\",\"legendgroup\":\"I\",\"marker\":{\"color\":\"#00cc96\",\"pattern\":{\"shape\":\"\"}},\"name\":\"I\",\"offsetgroup\":\"I\",\"orientation\":\"v\",\"showlegend\":false,\"textposition\":\"auto\",\"x\":[18,28,45,72,87,88,94,100,163,178],\"xaxis\":\"x3\",\"y\":[193,45,69,88,9,9,80,123,106,84],\"yaxis\":\"y3\",\"type\":\"bar\"},{\"alignmentgroup\":\"True\",\"hovertemplate\":\"pep_letters=I\\u003cbr\\u003eSample=milk_2A\\u003cbr\\u003epep_positions=%{x}\\u003cbr\\u003ecount=%{y}\\u003cextra\\u003e\\u003c\\u002fextra\\u003e\",\"legendgroup\":\"I\",\"marker\":{\"color\":\"#00cc96\",\"pattern\":{\"shape\":\"\"}},\"name\":\"I\",\"offsetgroup\":\"I\",\"orientation\":\"v\",\"showlegend\":false,\"textposition\":\"auto\",\"x\":[45,72,178],\"xaxis\":\"x2\",\"y\":[9,12,11],\"yaxis\":\"y2\",\"type\":\"bar\"},{\"alignmentgroup\":\"True\",\"hovertemplate\":\"pep_letters=I\\u003cbr\\u003eSample=milk_2B\\u003cbr\\u003epep_positions=%{x}\\u003cbr\\u003ecount=%{y}\\u003cextra\\u003e\\u003c\\u002fextra\\u003e\",\"legendgroup\":\"I\",\"marker\":{\"color\":\"#00cc96\",\"pattern\":{\"shape\":\"\"}},\"name\":\"I\",\"offsetgroup\":\"I\",\"orientation\":\"v\",\"showlegend\":false,\"textposition\":\"auto\",\"x\":[18,28,45,72,94,100,163,178],\"xaxis\":\"x\",\"y\":[74,2,13,20,7,7,9,20],\"yaxis\":\"y\",\"type\":\"bar\"},{\"alignmentgroup\":\"True\",\"hovertemplate\":\"pep_letters=V\\u003cbr\\u003eSample=milk_1A\\u003cbr\\u003epep_positions=%{x}\\u003cbr\\u003ecount=%{y}\\u003cextra\\u003e\\u003c\\u002fextra\\u003e\",\"legendgroup\":\"V\",\"marker\":{\"color\":\"#ab63fa\",\"pattern\":{\"shape\":\"\"}},\"name\":\"V\",\"offsetgroup\":\"V\",\"orientation\":\"v\",\"showlegend\":true,\"textposition\":\"auto\",\"x\":[19,31,57,59,97,108,110,134,139,144],\"xaxis\":\"x4\",\"y\":[120,5,23,23,8,46,46,10,14,61],\"yaxis\":\"y4\",\"type\":\"bar\"},{\"alignmentgroup\":\"True\",\"hovertemplate\":\"pep_letters=V\\u003cbr\\u003eSample=milk_1B\\u003cbr\\u003epep_positions=%{x}\\u003cbr\\u003ecount=%{y}\\u003cextra\\u003e\\u003c\\u002fextra\\u003e\",\"legendgroup\":\"V\",\"marker\":{\"color\":\"#ab63fa\",\"pattern\":{\"shape\":\"\"}},\"name\":\"V\",\"offsetgroup\":\"V\",\"orientation\":\"v\",\"showlegend\":false,\"textposition\":\"auto\",\"x\":[19,31,57,59,97,108,110,134,139,144],\"xaxis\":\"x3\",\"y\":[193,21,86,88,95,160,162,10,17,170],\"yaxis\":\"y3\",\"type\":\"bar\"},{\"alignmentgroup\":\"True\",\"hovertemplate\":\"pep_letters=V\\u003cbr\\u003eSample=milk_2A\\u003cbr\\u003epep_positions=%{x}\\u003cbr\\u003ecount=%{y}\\u003cextra\\u003e\\u003c\\u002fextra\\u003e\",\"legendgroup\":\"V\",\"marker\":{\"color\":\"#ab63fa\",\"pattern\":{\"shape\":\"\"}},\"name\":\"V\",\"offsetgroup\":\"V\",\"orientation\":\"v\",\"showlegend\":false,\"textposition\":\"auto\",\"x\":[31,57,59,134,139,144],\"xaxis\":\"x2\",\"y\":[5,11,12,1,1,3],\"yaxis\":\"y2\",\"type\":\"bar\"},{\"alignmentgroup\":\"True\",\"hovertemplate\":\"pep_letters=V\\u003cbr\\u003eSample=milk_2B\\u003cbr\\u003epep_positions=%{x}\\u003cbr\\u003ecount=%{y}\\u003cextra\\u003e\\u003c\\u002fextra\\u003e\",\"legendgroup\":\"V\",\"marker\":{\"color\":\"#ab63fa\",\"pattern\":{\"shape\":\"\"}},\"name\":\"V\",\"offsetgroup\":\"V\",\"orientation\":\"v\",\"showlegend\":false,\"textposition\":\"auto\",\"x\":[19,31,57,59,97,108,110,144],\"xaxis\":\"x\",\"y\":[74,1,19,20,9,22,22,10],\"yaxis\":\"y\",\"type\":\"bar\"},{\"alignmentgroup\":\"True\",\"hovertemplate\":\"pep_letters=T\\u003cbr\\u003eSample=milk_1A\\u003cbr\\u003epep_positions=%{x}\\u003cbr\\u003ecount=%{y}\\u003cextra\\u003e\\u003c\\u002fextra\\u003e\",\"legendgroup\":\"T\",\"marker\":{\"color\":\"#FFA15A\",\"pattern\":{\"shape\":\"\"}},\"name\":\"T\",\"offsetgroup\":\"T\",\"orientation\":\"v\",\"showlegend\":true,\"textposition\":\"auto\",\"x\":[20,22,34,65,92,113,141,170],\"xaxis\":\"x4\",\"y\":[120,120,5,23,5,46,61,53],\"yaxis\":\"y4\",\"type\":\"bar\"},{\"alignmentgroup\":\"True\",\"hovertemplate\":\"pep_letters=T\\u003cbr\\u003eSample=milk_1B\\u003cbr\\u003epep_positions=%{x}\\u003cbr\\u003ecount=%{y}\\u003cextra\\u003e\\u003c\\u002fextra\\u003e\",\"legendgroup\":\"T\",\"marker\":{\"color\":\"#FFA15A\",\"pattern\":{\"shape\":\"\"}},\"name\":\"T\",\"offsetgroup\":\"T\",\"orientation\":\"v\",\"showlegend\":false,\"textposition\":\"auto\",\"x\":[11,20,22,34,65,92,113,141,170],\"xaxis\":\"x3\",\"y\":[2,193,193,33,88,54,163,166,91],\"yaxis\":\"y3\",\"type\":\"bar\"},{\"alignmentgroup\":\"True\",\"hovertemplate\":\"pep_letters=T\\u003cbr\\u003eSample=milk_2A\\u003cbr\\u003epep_positions=%{x}\\u003cbr\\u003ecount=%{y}\\u003cextra\\u003e\\u003c\\u002fextra\\u003e\",\"legendgroup\":\"T\",\"marker\":{\"color\":\"#FFA15A\",\"pattern\":{\"shape\":\"\"}},\"name\":\"T\",\"offsetgroup\":\"T\",\"orientation\":\"v\",\"showlegend\":false,\"textposition\":\"auto\",\"x\":[34,65,141,170],\"xaxis\":\"x2\",\"y\":[7,12,3,11],\"yaxis\":\"y2\",\"type\":\"bar\"},{\"alignmentgroup\":\"True\",\"hovertemplate\":\"pep_letters=T\\u003cbr\\u003eSample=milk_2B\\u003cbr\\u003epep_positions=%{x}\\u003cbr\\u003ecount=%{y}\\u003cextra\\u003e\\u003c\\u002fextra\\u003e\",\"legendgroup\":\"T\",\"marker\":{\"color\":\"#FFA15A\",\"pattern\":{\"shape\":\"\"}},\"name\":\"T\",\"offsetgroup\":\"T\",\"orientation\":\"v\",\"showlegend\":false,\"textposition\":\"auto\",\"x\":[20,22,34,65,92,113,141,170],\"xaxis\":\"x\",\"y\":[74,74,4,20,6,23,10,23],\"yaxis\":\"y\",\"type\":\"bar\"},{\"alignmentgroup\":\"True\",\"hovertemplate\":\"pep_letters=Q\\u003cbr\\u003eSample=milk_1A\\u003cbr\\u003epep_positions=%{x}\\u003cbr\\u003ecount=%{y}\\u003cextra\\u003e\\u003c\\u002fextra\\u003e\",\"legendgroup\":\"Q\",\"marker\":{\"color\":\"#19d3f3\",\"pattern\":{\"shape\":\"\"}},\"name\":\"Q\",\"offsetgroup\":\"Q\",\"orientation\":\"v\",\"showlegend\":true,\"textposition\":\"auto\",\"x\":[21,29,51,75,131,136,171,175],\"xaxis\":\"x4\",\"y\":[120,12,10,23,12,14,53,53],\"yaxis\":\"y4\",\"type\":\"bar\"},{\"alignmentgroup\":\"True\",\"hovertemplate\":\"pep_letters=Q\\u003cbr\\u003eSample=milk_1B\\u003cbr\\u003epep_positions=%{x}\\u003cbr\\u003ecount=%{y}\\u003cextra\\u003e\\u003c\\u002fextra\\u003e\",\"legendgroup\":\"Q\",\"marker\":{\"color\":\"#19d3f3\",\"pattern\":{\"shape\":\"\"}},\"name\":\"Q\",\"offsetgroup\":\"Q\",\"orientation\":\"v\",\"showlegend\":false,\"textposition\":\"auto\",\"x\":[15,21,29,51,61,75,131,136,171,175],\"xaxis\":\"x3\",\"y\":[10,193,45,69,3,87,17,17,91,90],\"yaxis\":\"y3\",\"type\":\"bar\"},{\"alignmentgroup\":\"True\",\"hovertemplate\":\"pep_letters=Q\\u003cbr\\u003eSample=milk_2A\\u003cbr\\u003epep_positions=%{x}\\u003cbr\\u003ecount=%{y}\\u003cextra\\u003e\\u003c\\u002fextra\\u003e\",\"legendgroup\":\"Q\",\"marker\":{\"color\":\"#19d3f3\",\"pattern\":{\"shape\":\"\"}},\"name\":\"Q\",\"offsetgroup\":\"Q\",\"orientation\":\"v\",\"showlegend\":false,\"textposition\":\"auto\",\"x\":[51,75,131,136,171,175],\"xaxis\":\"x2\",\"y\":[9,12,1,1,11,11],\"yaxis\":\"y2\",\"type\":\"bar\"},{\"alignmentgroup\":\"True\",\"hovertemplate\":\"pep_letters=Q\\u003cbr\\u003eSample=milk_2B\\u003cbr\\u003epep_positions=%{x}\\u003cbr\\u003ecount=%{y}\\u003cextra\\u003e\\u003c\\u002fextra\\u003e\",\"legendgroup\":\"Q\",\"marker\":{\"color\":\"#19d3f3\",\"pattern\":{\"shape\":\"\"}},\"name\":\"Q\",\"offsetgroup\":\"Q\",\"orientation\":\"v\",\"showlegend\":false,\"textposition\":\"auto\",\"x\":[21,29,51,61,75,171,175],\"xaxis\":\"x\",\"y\":[74,2,13,1,20,23,23],\"yaxis\":\"y\",\"type\":\"bar\"},{\"alignmentgroup\":\"True\",\"hovertemplate\":\"pep_letters=M\\u003cbr\\u003eSample=milk_1A\\u003cbr\\u003epep_positions=%{x}\\u003cbr\\u003ecount=%{y}\\u003cextra\\u003e\\u003c\\u002fextra\\u003e\",\"legendgroup\":\"M\",\"marker\":{\"color\":\"#FF6692\",\"pattern\":{\"shape\":\"\"}},\"name\":\"M\",\"offsetgroup\":\"M\",\"orientation\":\"v\",\"showlegend\":true,\"textposition\":\"auto\",\"x\":[23,40,123,161],\"xaxis\":\"x4\",\"y\":[120,8,5,68],\"yaxis\":\"y4\",\"type\":\"bar\"},{\"alignmentgroup\":\"True\",\"hovertemplate\":\"pep_letters=M\\u003cbr\\u003eSample=milk_1B\\u003cbr\\u003epep_positions=%{x}\\u003cbr\\u003ecount=%{y}\\u003cextra\\u003e\\u003c\\u002fextra\\u003e\",\"legendgroup\":\"M\",\"marker\":{\"color\":\"#FF6692\",\"pattern\":{\"shape\":\"\"}},\"name\":\"M\",\"offsetgroup\":\"M\",\"orientation\":\"v\",\"showlegend\":false,\"textposition\":\"auto\",\"x\":[23,40,123,161],\"xaxis\":\"x3\",\"y\":[193,58,16,107],\"yaxis\":\"y3\",\"type\":\"bar\"},{\"alignmentgroup\":\"True\",\"hovertemplate\":\"pep_letters=M\\u003cbr\\u003eSample=milk_2A\\u003cbr\\u003epep_positions=%{x}\\u003cbr\\u003ecount=%{y}\\u003cextra\\u003e\\u003c\\u002fextra\\u003e\",\"legendgroup\":\"M\",\"marker\":{\"color\":\"#FF6692\",\"pattern\":{\"shape\":\"\"}},\"name\":\"M\",\"offsetgroup\":\"M\",\"orientation\":\"v\",\"showlegend\":false,\"textposition\":\"auto\",\"x\":[40,123],\"xaxis\":\"x2\",\"y\":[9,1],\"yaxis\":\"y2\",\"type\":\"bar\"},{\"alignmentgroup\":\"True\",\"hovertemplate\":\"pep_letters=M\\u003cbr\\u003eSample=milk_2B\\u003cbr\\u003epep_positions=%{x}\\u003cbr\\u003ecount=%{y}\\u003cextra\\u003e\\u003c\\u002fextra\\u003e\",\"legendgroup\":\"M\",\"marker\":{\"color\":\"#FF6692\",\"pattern\":{\"shape\":\"\"}},\"name\":\"M\",\"offsetgroup\":\"M\",\"orientation\":\"v\",\"showlegend\":false,\"textposition\":\"auto\",\"x\":[23,40,161],\"xaxis\":\"x\",\"y\":[74,10,9],\"yaxis\":\"y\",\"type\":\"bar\"},{\"alignmentgroup\":\"True\",\"hovertemplate\":\"pep_letters=K\\u003cbr\\u003eSample=milk_1A\\u003cbr\\u003epep_positions=%{x}\\u003cbr\\u003ecount=%{y}\\u003cextra\\u003e\\u003c\\u002fextra\\u003e\",\"legendgroup\":\"K\",\"marker\":{\"color\":\"#B6E880\",\"pattern\":{\"shape\":\"\"}},\"name\":\"K\",\"offsetgroup\":\"K\",\"orientation\":\"v\",\"showlegend\":true,\"textposition\":\"auto\",\"x\":[24,30,63,76,93,99,107,116,117,151,154,157],\"xaxis\":\"x4\",\"y\":[120,12,23,23,6,8,35,46,27,61,41,13],\"yaxis\":\"y4\",\"type\":\"bar\"},{\"alignmentgroup\":\"True\",\"hovertemplate\":\"pep_letters=K\\u003cbr\\u003eSample=milk_1B\\u003cbr\\u003epep_positions=%{x}\\u003cbr\\u003ecount=%{y}\\u003cextra\\u003e\\u003c\\u002fextra\\u003e\",\"legendgroup\":\"K\",\"marker\":{\"color\":\"#B6E880\",\"pattern\":{\"shape\":\"\"}},\"name\":\"K\",\"offsetgroup\":\"K\",\"orientation\":\"v\",\"showlegend\":false,\"textposition\":\"auto\",\"x\":[24,30,63,76,86,91,93,99,107,116,117,151,154,157],\"xaxis\":\"x3\",\"y\":[193,45,88,88,5,11,71,92,132,163,114,170,161,76],\"yaxis\":\"y3\",\"type\":\"bar\"},{\"alignmentgroup\":\"True\",\"hovertemplate\":\"pep_letters=K\\u003cbr\\u003eSample=milk_2A\\u003cbr\\u003epep_positions=%{x}\\u003cbr\\u003ecount=%{y}\\u003cextra\\u003e\\u003c\\u002fextra\\u003e\",\"legendgroup\":\"K\",\"marker\":{\"color\":\"#B6E880\",\"pattern\":{\"shape\":\"\"}},\"name\":\"K\",\"offsetgroup\":\"K\",\"orientation\":\"v\",\"showlegend\":false,\"textposition\":\"auto\",\"x\":[63,76,151,154],\"xaxis\":\"x2\",\"y\":[12,12,3,3],\"yaxis\":\"y2\",\"type\":\"bar\"},{\"alignmentgroup\":\"True\",\"hovertemplate\":\"pep_letters=K\\u003cbr\\u003eSample=milk_2B\\u003cbr\\u003epep_positions=%{x}\\u003cbr\\u003ecount=%{y}\\u003cextra\\u003e\\u003c\\u002fextra\\u003e\",\"legendgroup\":\"K\",\"marker\":{\"color\":\"#B6E880\",\"pattern\":{\"shape\":\"\"}},\"name\":\"K\",\"offsetgroup\":\"K\",\"orientation\":\"v\",\"showlegend\":false,\"textposition\":\"auto\",\"x\":[24,30,63,76,93,99,107,116,117,151,154,157],\"xaxis\":\"x\",\"y\":[74,2,20,20,7,9,7,23,12,10,10,7],\"yaxis\":\"y\",\"type\":\"bar\"},{\"alignmentgroup\":\"True\",\"hovertemplate\":\"pep_letters=G\\u003cbr\\u003eSample=milk_1A\\u003cbr\\u003epep_positions=%{x}\\u003cbr\\u003ecount=%{y}\\u003cextra\\u003e\\u003c\\u002fextra\\u003e\",\"legendgroup\":\"G\",\"marker\":{\"color\":\"#FF97FF\",\"pattern\":{\"shape\":\"\"}},\"name\":\"G\",\"offsetgroup\":\"G\",\"orientation\":\"v\",\"showlegend\":true,\"textposition\":\"auto\",\"x\":[25,33,68],\"xaxis\":\"x4\",\"y\":[12,5,23],\"yaxis\":\"y4\",\"type\":\"bar\"},{\"alignmentgroup\":\"True\",\"hovertemplate\":\"pep_letters=G\\u003cbr\\u003eSample=milk_1B\\u003cbr\\u003epep_positions=%{x}\\u003cbr\\u003ecount=%{y}\\u003cextra\\u003e\\u003c\\u002fextra\\u003e\",\"legendgroup\":\"G\",\"marker\":{\"color\":\"#FF97FF\",\"pattern\":{\"shape\":\"\"}},\"name\":\"G\",\"offsetgroup\":\"G\",\"orientation\":\"v\",\"showlegend\":false,\"textposition\":\"auto\",\"x\":[13,25,33,68],\"xaxis\":\"x3\",\"y\":[7,45,33,88],\"yaxis\":\"y3\",\"type\":\"bar\"},{\"alignmentgroup\":\"True\",\"hovertemplate\":\"pep_letters=G\\u003cbr\\u003eSample=milk_2A\\u003cbr\\u003epep_positions=%{x}\\u003cbr\\u003ecount=%{y}\\u003cextra\\u003e\\u003c\\u002fextra\\u003e\",\"legendgroup\":\"G\",\"marker\":{\"color\":\"#FF97FF\",\"pattern\":{\"shape\":\"\"}},\"name\":\"G\",\"offsetgroup\":\"G\",\"orientation\":\"v\",\"showlegend\":false,\"textposition\":\"auto\",\"x\":[33,68],\"xaxis\":\"x2\",\"y\":[7,12],\"yaxis\":\"y2\",\"type\":\"bar\"},{\"alignmentgroup\":\"True\",\"hovertemplate\":\"pep_letters=G\\u003cbr\\u003eSample=milk_2B\\u003cbr\\u003epep_positions=%{x}\\u003cbr\\u003ecount=%{y}\\u003cextra\\u003e\\u003c\\u002fextra\\u003e\",\"legendgroup\":\"G\",\"marker\":{\"color\":\"#FF97FF\",\"pattern\":{\"shape\":\"\"}},\"name\":\"G\",\"offsetgroup\":\"G\",\"orientation\":\"v\",\"showlegend\":false,\"textposition\":\"auto\",\"x\":[25,33,68],\"xaxis\":\"x\",\"y\":[2,4,20],\"yaxis\":\"y\",\"type\":\"bar\"},{\"alignmentgroup\":\"True\",\"hovertemplate\":\"pep_letters=D\\u003cbr\\u003eSample=milk_1A\\u003cbr\\u003epep_positions=%{x}\\u003cbr\\u003ecount=%{y}\\u003cextra\\u003e\\u003c\\u002fextra\\u003e\",\"legendgroup\":\"D\",\"marker\":{\"color\":\"#FECB52\",\"pattern\":{\"shape\":\"\"}},\"name\":\"D\",\"offsetgroup\":\"D\",\"orientation\":\"v\",\"showlegend\":true,\"textposition\":\"auto\",\"x\":[27,44,49,69,101,112,114,145,146,153],\"xaxis\":\"x4\",\"y\":[12,11,10,23,31,46,46,61,61,41],\"yaxis\":\"y4\",\"type\":\"bar\"},{\"alignmentgroup\":\"True\",\"hovertemplate\":\"pep_letters=D\\u003cbr\\u003eSample=milk_1B\\u003cbr\\u003epep_positions=%{x}\\u003cbr\\u003ecount=%{y}\\u003cextra\\u003e\\u003c\\u002fextra\\u003e\",\"legendgroup\":\"D\",\"marker\":{\"color\":\"#FECB52\",\"pattern\":{\"shape\":\"\"}},\"name\":\"D\",\"offsetgroup\":\"D\",\"orientation\":\"v\",\"showlegend\":false,\"textposition\":\"auto\",\"x\":[27,44,49,69,80,101,112,114,145,146,153],\"xaxis\":\"x3\",\"y\":[45,67,69,88,1,130,163,163,170,170,137],\"yaxis\":\"y3\",\"type\":\"bar\"},{\"alignmentgroup\":\"True\",\"hovertemplate\":\"pep_letters=D\\u003cbr\\u003eSample=milk_2A\\u003cbr\\u003epep_positions=%{x}\\u003cbr\\u003ecount=%{y}\\u003cextra\\u003e\\u003c\\u002fextra\\u003e\",\"legendgroup\":\"D\",\"marker\":{\"color\":\"#FECB52\",\"pattern\":{\"shape\":\"\"}},\"name\":\"D\",\"offsetgroup\":\"D\",\"orientation\":\"v\",\"showlegend\":false,\"textposition\":\"auto\",\"x\":[44,49,69,145,146,153],\"xaxis\":\"x2\",\"y\":[9,9,12,3,3,3],\"yaxis\":\"y2\",\"type\":\"bar\"},{\"alignmentgroup\":\"True\",\"hovertemplate\":\"pep_letters=D\\u003cbr\\u003eSample=milk_2B\\u003cbr\\u003epep_positions=%{x}\\u003cbr\\u003ecount=%{y}\\u003cextra\\u003e\\u003c\\u002fextra\\u003e\",\"legendgroup\":\"D\",\"marker\":{\"color\":\"#FECB52\",\"pattern\":{\"shape\":\"\"}},\"name\":\"D\",\"offsetgroup\":\"D\",\"orientation\":\"v\",\"showlegend\":false,\"textposition\":\"auto\",\"x\":[27,44,49,69,101,112,114,145,146,153],\"xaxis\":\"x\",\"y\":[2,13,13,20,7,23,23,10,10,10],\"yaxis\":\"y\",\"type\":\"bar\"},{\"alignmentgroup\":\"True\",\"hovertemplate\":\"pep_letters=W\\u003cbr\\u003eSample=milk_1A\\u003cbr\\u003epep_positions=%{x}\\u003cbr\\u003ecount=%{y}\\u003cextra\\u003e\\u003c\\u002fextra\\u003e\",\"legendgroup\":\"W\",\"marker\":{\"color\":\"#636efa\",\"pattern\":{\"shape\":\"\"}},\"name\":\"W\",\"offsetgroup\":\"W\",\"orientation\":\"v\",\"showlegend\":true,\"textposition\":\"auto\",\"x\":[35],\"xaxis\":\"x4\",\"y\":[5],\"yaxis\":\"y4\",\"type\":\"bar\"},{\"alignmentgroup\":\"True\",\"hovertemplate\":\"pep_letters=W\\u003cbr\\u003eSample=milk_1B\\u003cbr\\u003epep_positions=%{x}\\u003cbr\\u003ecount=%{y}\\u003cextra\\u003e\\u003c\\u002fextra\\u003e\",\"legendgroup\":\"W\",\"marker\":{\"color\":\"#636efa\",\"pattern\":{\"shape\":\"\"}},\"name\":\"W\",\"offsetgroup\":\"W\",\"orientation\":\"v\",\"showlegend\":false,\"textposition\":\"auto\",\"x\":[35,77],\"xaxis\":\"x3\",\"y\":[33,1],\"yaxis\":\"y3\",\"type\":\"bar\"},{\"alignmentgroup\":\"True\",\"hovertemplate\":\"pep_letters=W\\u003cbr\\u003eSample=milk_2A\\u003cbr\\u003epep_positions=%{x}\\u003cbr\\u003ecount=%{y}\\u003cextra\\u003e\\u003c\\u002fextra\\u003e\",\"legendgroup\":\"W\",\"marker\":{\"color\":\"#636efa\",\"pattern\":{\"shape\":\"\"}},\"name\":\"W\",\"offsetgroup\":\"W\",\"orientation\":\"v\",\"showlegend\":false,\"textposition\":\"auto\",\"x\":[35],\"xaxis\":\"x2\",\"y\":[7],\"yaxis\":\"y2\",\"type\":\"bar\"},{\"alignmentgroup\":\"True\",\"hovertemplate\":\"pep_letters=W\\u003cbr\\u003eSample=milk_2B\\u003cbr\\u003epep_positions=%{x}\\u003cbr\\u003ecount=%{y}\\u003cextra\\u003e\\u003c\\u002fextra\\u003e\",\"legendgroup\":\"W\",\"marker\":{\"color\":\"#636efa\",\"pattern\":{\"shape\":\"\"}},\"name\":\"W\",\"offsetgroup\":\"W\",\"orientation\":\"v\",\"showlegend\":false,\"textposition\":\"auto\",\"x\":[35],\"xaxis\":\"x\",\"y\":[5],\"yaxis\":\"y\",\"type\":\"bar\"},{\"alignmentgroup\":\"True\",\"hovertemplate\":\"pep_letters=Y\\u003cbr\\u003eSample=milk_1A\\u003cbr\\u003epep_positions=%{x}\\u003cbr\\u003ecount=%{y}\\u003cextra\\u003e\\u003c\\u002fextra\\u003e\",\"legendgroup\":\"Y\",\"marker\":{\"color\":\"#EF553B\",\"pattern\":{\"shape\":\"\"}},\"name\":\"Y\",\"offsetgroup\":\"Y\",\"orientation\":\"v\",\"showlegend\":true,\"textposition\":\"auto\",\"x\":[36,58,115,118],\"xaxis\":\"x4\",\"y\":[5,23,46,5],\"yaxis\":\"y4\",\"type\":\"bar\"},{\"alignmentgroup\":\"True\",\"hovertemplate\":\"pep_letters=Y\\u003cbr\\u003eSample=milk_1B\\u003cbr\\u003epep_positions=%{x}\\u003cbr\\u003ecount=%{y}\\u003cextra\\u003e\\u003c\\u002fextra\\u003e\",\"legendgroup\":\"Y\",\"marker\":{\"color\":\"#EF553B\",\"pattern\":{\"shape\":\"\"}},\"name\":\"Y\",\"offsetgroup\":\"Y\",\"orientation\":\"v\",\"showlegend\":false,\"textposition\":\"auto\",\"x\":[36,58,115,118],\"xaxis\":\"x3\",\"y\":[33,87,163,16],\"yaxis\":\"y3\",\"type\":\"bar\"},{\"alignmentgroup\":\"True\",\"hovertemplate\":\"pep_letters=Y\\u003cbr\\u003eSample=milk_2A\\u003cbr\\u003epep_positions=%{x}\\u003cbr\\u003ecount=%{y}\\u003cextra\\u003e\\u003c\\u002fextra\\u003e\",\"legendgroup\":\"Y\",\"marker\":{\"color\":\"#EF553B\",\"pattern\":{\"shape\":\"\"}},\"name\":\"Y\",\"offsetgroup\":\"Y\",\"orientation\":\"v\",\"showlegend\":false,\"textposition\":\"auto\",\"x\":[36,58,118],\"xaxis\":\"x2\",\"y\":[7,12,1],\"yaxis\":\"y2\",\"type\":\"bar\"},{\"alignmentgroup\":\"True\",\"hovertemplate\":\"pep_letters=Y\\u003cbr\\u003eSample=milk_2B\\u003cbr\\u003epep_positions=%{x}\\u003cbr\\u003ecount=%{y}\\u003cextra\\u003e\\u003c\\u002fextra\\u003e\",\"legendgroup\":\"Y\",\"marker\":{\"color\":\"#EF553B\",\"pattern\":{\"shape\":\"\"}},\"name\":\"Y\",\"offsetgroup\":\"Y\",\"orientation\":\"v\",\"showlegend\":false,\"textposition\":\"auto\",\"x\":[36,58,115],\"xaxis\":\"x\",\"y\":[5,19,23],\"yaxis\":\"y\",\"type\":\"bar\"},{\"alignmentgroup\":\"True\",\"hovertemplate\":\"pep_letters=S\\u003cbr\\u003eSample=milk_1A\\u003cbr\\u003epep_positions=%{x}\\u003cbr\\u003ecount=%{y}\\u003cextra\\u003e\\u003c\\u002fextra\\u003e\",\"legendgroup\":\"S\",\"marker\":{\"color\":\"#00cc96\",\"pattern\":{\"shape\":\"\"}},\"name\":\"S\",\"offsetgroup\":\"S\",\"orientation\":\"v\",\"showlegend\":true,\"textposition\":\"auto\",\"x\":[37,43,46,52,126,132,166],\"xaxis\":\"x4\",\"y\":[8,11,10,10,4,13,50],\"yaxis\":\"y4\",\"type\":\"bar\"},{\"alignmentgroup\":\"True\",\"hovertemplate\":\"pep_letters=S\\u003cbr\\u003eSample=milk_1B\\u003cbr\\u003epep_positions=%{x}\\u003cbr\\u003ecount=%{y}\\u003cextra\\u003e\\u003c\\u002fextra\\u003e\",\"legendgroup\":\"S\",\"marker\":{\"color\":\"#00cc96\",\"pattern\":{\"shape\":\"\"}},\"name\":\"S\",\"offsetgroup\":\"S\",\"orientation\":\"v\",\"showlegend\":false,\"textposition\":\"auto\",\"x\":[37,43,46,52,126,132,166],\"xaxis\":\"x3\",\"y\":[53,65,69,70,16,17,91],\"yaxis\":\"y3\",\"type\":\"bar\"},{\"alignmentgroup\":\"True\",\"hovertemplate\":\"pep_letters=S\\u003cbr\\u003eSample=milk_2A\\u003cbr\\u003epep_positions=%{x}\\u003cbr\\u003ecount=%{y}\\u003cextra\\u003e\\u003c\\u002fextra\\u003e\",\"legendgroup\":\"S\",\"marker\":{\"color\":\"#00cc96\",\"pattern\":{\"shape\":\"\"}},\"name\":\"S\",\"offsetgroup\":\"S\",\"orientation\":\"v\",\"showlegend\":false,\"textposition\":\"auto\",\"x\":[37,43,46,52,126,132,166],\"xaxis\":\"x2\",\"y\":[9,9,9,9,1,1,11],\"yaxis\":\"y2\",\"type\":\"bar\"},{\"alignmentgroup\":\"True\",\"hovertemplate\":\"pep_letters=S\\u003cbr\\u003eSample=milk_2B\\u003cbr\\u003epep_positions=%{x}\\u003cbr\\u003ecount=%{y}\\u003cextra\\u003e\\u003c\\u002fextra\\u003e\",\"legendgroup\":\"S\",\"marker\":{\"color\":\"#00cc96\",\"pattern\":{\"shape\":\"\"}},\"name\":\"S\",\"offsetgroup\":\"S\",\"orientation\":\"v\",\"showlegend\":false,\"textposition\":\"auto\",\"x\":[37,43,46,52,166],\"xaxis\":\"x\",\"y\":[9,13,13,13,23],\"yaxis\":\"y\",\"type\":\"bar\"},{\"alignmentgroup\":\"True\",\"hovertemplate\":\"pep_letters=P\\u003cbr\\u003eSample=milk_1A\\u003cbr\\u003epep_positions=%{x}\\u003cbr\\u003ecount=%{y}\\u003cextra\\u003e\\u003c\\u002fextra\\u003e\",\"legendgroup\":\"P\",\"marker\":{\"color\":\"#ab63fa\",\"pattern\":{\"shape\":\"\"}},\"name\":\"P\",\"offsetgroup\":\"P\",\"orientation\":\"v\",\"showlegend\":true,\"textposition\":\"auto\",\"x\":[54,64,66,95,129,142,160,169],\"xaxis\":\"x4\",\"y\":[10,23,23,8,12,61,68,53],\"yaxis\":\"y4\",\"type\":\"bar\"},{\"alignmentgroup\":\"True\",\"hovertemplate\":\"pep_letters=P\\u003cbr\\u003eSample=milk_1B\\u003cbr\\u003epep_positions=%{x}\\u003cbr\\u003ecount=%{y}\\u003cextra\\u003e\\u003c\\u002fextra\\u003e\",\"legendgroup\":\"P\",\"marker\":{\"color\":\"#ab63fa\",\"pattern\":{\"shape\":\"\"}},\"name\":\"P\",\"offsetgroup\":\"P\",\"orientation\":\"v\",\"showlegend\":false,\"textposition\":\"auto\",\"x\":[54,64,66,95,129,142,160,169],\"xaxis\":\"x3\",\"y\":[71,88,88,95,16,170,107,91],\"yaxis\":\"y3\",\"type\":\"bar\"},{\"alignmentgroup\":\"True\",\"hovertemplate\":\"pep_letters=P\\u003cbr\\u003eSample=milk_2A\\u003cbr\\u003epep_positions=%{x}\\u003cbr\\u003ecount=%{y}\\u003cextra\\u003e\\u003c\\u002fextra\\u003e\",\"legendgroup\":\"P\",\"marker\":{\"color\":\"#ab63fa\",\"pattern\":{\"shape\":\"\"}},\"name\":\"P\",\"offsetgroup\":\"P\",\"orientation\":\"v\",\"showlegend\":false,\"textposition\":\"auto\",\"x\":[54,64,66,129,142,169],\"xaxis\":\"x2\",\"y\":[9,12,12,1,3,11],\"yaxis\":\"y2\",\"type\":\"bar\"},{\"alignmentgroup\":\"True\",\"hovertemplate\":\"pep_letters=P\\u003cbr\\u003eSample=milk_2B\\u003cbr\\u003epep_positions=%{x}\\u003cbr\\u003ecount=%{y}\\u003cextra\\u003e\\u003c\\u002fextra\\u003e\",\"legendgroup\":\"P\",\"marker\":{\"color\":\"#ab63fa\",\"pattern\":{\"shape\":\"\"}},\"name\":\"P\",\"offsetgroup\":\"P\",\"orientation\":\"v\",\"showlegend\":false,\"textposition\":\"auto\",\"x\":[54,64,66,95,142,160,169],\"xaxis\":\"x\",\"y\":[13,20,20,9,10,9,23],\"yaxis\":\"y\",\"type\":\"bar\"},{\"alignmentgroup\":\"True\",\"hovertemplate\":\"pep_letters=R\\u003cbr\\u003eSample=milk_1A\\u003cbr\\u003epep_positions=%{x}\\u003cbr\\u003ecount=%{y}\\u003cextra\\u003e\\u003c\\u002fextra\\u003e\",\"legendgroup\":\"R\",\"marker\":{\"color\":\"#FFA15A\",\"pattern\":{\"shape\":\"\"}},\"name\":\"R\",\"offsetgroup\":\"R\",\"orientation\":\"v\",\"showlegend\":true,\"textposition\":\"auto\",\"x\":[56,140,164],\"xaxis\":\"x4\",\"y\":[10,14,68],\"yaxis\":\"y4\",\"type\":\"bar\"},{\"alignmentgroup\":\"True\",\"hovertemplate\":\"pep_letters=R\\u003cbr\\u003eSample=milk_1B\\u003cbr\\u003epep_positions=%{x}\\u003cbr\\u003ecount=%{y}\\u003cextra\\u003e\\u003c\\u002fextra\\u003e\",\"legendgroup\":\"R\",\"marker\":{\"color\":\"#FFA15A\",\"pattern\":{\"shape\":\"\"}},\"name\":\"R\",\"offsetgroup\":\"R\",\"orientation\":\"v\",\"showlegend\":false,\"textposition\":\"auto\",\"x\":[56,140,164],\"xaxis\":\"x3\",\"y\":[71,17,106],\"yaxis\":\"y3\",\"type\":\"bar\"},{\"alignmentgroup\":\"True\",\"hovertemplate\":\"pep_letters=R\\u003cbr\\u003eSample=milk_2A\\u003cbr\\u003epep_positions=%{x}\\u003cbr\\u003ecount=%{y}\\u003cextra\\u003e\\u003c\\u002fextra\\u003e\",\"legendgroup\":\"R\",\"marker\":{\"color\":\"#FFA15A\",\"pattern\":{\"shape\":\"\"}},\"name\":\"R\",\"offsetgroup\":\"R\",\"orientation\":\"v\",\"showlegend\":false,\"textposition\":\"auto\",\"x\":[56,140],\"xaxis\":\"x2\",\"y\":[9,1],\"yaxis\":\"y2\",\"type\":\"bar\"},{\"alignmentgroup\":\"True\",\"hovertemplate\":\"pep_letters=R\\u003cbr\\u003eSample=milk_2B\\u003cbr\\u003epep_positions=%{x}\\u003cbr\\u003ecount=%{y}\\u003cextra\\u003e\\u003c\\u002fextra\\u003e\",\"legendgroup\":\"R\",\"marker\":{\"color\":\"#FFA15A\",\"pattern\":{\"shape\":\"\"}},\"name\":\"R\",\"offsetgroup\":\"R\",\"orientation\":\"v\",\"showlegend\":false,\"textposition\":\"auto\",\"x\":[56,164],\"xaxis\":\"x\",\"y\":[13,9],\"yaxis\":\"y\",\"type\":\"bar\"},{\"alignmentgroup\":\"True\",\"hovertemplate\":\"pep_letters=E\\u003cbr\\u003eSample=milk_1A\\u003cbr\\u003epep_positions=%{x}\\u003cbr\\u003ecount=%{y}\\u003cextra\\u003e\\u003c\\u002fextra\\u003e\",\"legendgroup\":\"E\",\"marker\":{\"color\":\"#19d3f3\",\"pattern\":{\"shape\":\"\"}},\"name\":\"E\",\"offsetgroup\":\"E\",\"orientation\":\"v\",\"showlegend\":true,\"textposition\":\"auto\",\"x\":[60,61,67,71,105,124,128,130,143,147,150,173,174],\"xaxis\":\"x4\",\"y\":[23,23,23,23,31,5,4,12,61,61,61,53,53],\"yaxis\":\"y4\",\"type\":\"bar\"},{\"alignmentgroup\":\"True\",\"hovertemplate\":\"pep_letters=E\\u003cbr\\u003eSample=milk_1B\\u003cbr\\u003epep_positions=%{x}\\u003cbr\\u003ecount=%{y}\\u003cextra\\u003e\\u003c\\u002fextra\\u003e\",\"legendgroup\":\"E\",\"marker\":{\"color\":\"#19d3f3\",\"pattern\":{\"shape\":\"\"}},\"name\":\"E\",\"offsetgroup\":\"E\",\"orientation\":\"v\",\"showlegend\":false,\"textposition\":\"auto\",\"x\":[60,61,67,71,78,81,90,105,124,128,130,143,147,150,173,174],\"xaxis\":\"x3\",\"y\":[88,85,88,88,1,1,9,130,16,16,16,170,170,170,91,90],\"yaxis\":\"y3\",\"type\":\"bar\"},{\"alignmentgroup\":\"True\",\"hovertemplate\":\"pep_letters=E\\u003cbr\\u003eSample=milk_2A\\u003cbr\\u003epep_positions=%{x}\\u003cbr\\u003ecount=%{y}\\u003cextra\\u003e\\u003c\\u002fextra\\u003e\",\"legendgroup\":\"E\",\"marker\":{\"color\":\"#19d3f3\",\"pattern\":{\"shape\":\"\"}},\"name\":\"E\",\"offsetgroup\":\"E\",\"orientation\":\"v\",\"showlegend\":false,\"textposition\":\"auto\",\"x\":[60,61,67,71,124,128,130,143,147,150,173,174],\"xaxis\":\"x2\",\"y\":[12,12,12,12,1,1,1,3,3,3,11,11],\"yaxis\":\"y2\",\"type\":\"bar\"},{\"alignmentgroup\":\"True\",\"hovertemplate\":\"pep_letters=E\\u003cbr\\u003eSample=milk_2B\\u003cbr\\u003epep_positions=%{x}\\u003cbr\\u003ecount=%{y}\\u003cextra\\u003e\\u003c\\u002fextra\\u003e\",\"legendgroup\":\"E\",\"marker\":{\"color\":\"#19d3f3\",\"pattern\":{\"shape\":\"\"}},\"name\":\"E\",\"offsetgroup\":\"E\",\"orientation\":\"v\",\"showlegend\":false,\"textposition\":\"auto\",\"x\":[60,61,67,71,105,143,147,150,173,174],\"xaxis\":\"x\",\"y\":[20,19,20,20,7,10,10,10,23,23],\"yaxis\":\"y\",\"type\":\"bar\"},{\"alignmentgroup\":\"True\",\"hovertemplate\":\"pep_letters=F\\u003cbr\\u003eSample=milk_1A\\u003cbr\\u003epep_positions=%{x}\\u003cbr\\u003ecount=%{y}\\u003cextra\\u003e\\u003c\\u002fextra\\u003e\",\"legendgroup\":\"F\",\"marker\":{\"color\":\"#FF6692\",\"pattern\":{\"shape\":\"\"}},\"name\":\"F\",\"offsetgroup\":\"F\",\"orientation\":\"v\",\"showlegend\":true,\"textposition\":\"auto\",\"x\":[98,121,152,167],\"xaxis\":\"x4\",\"y\":[8,5,41,50],\"yaxis\":\"y4\",\"type\":\"bar\"},{\"alignmentgroup\":\"True\",\"hovertemplate\":\"pep_letters=F\\u003cbr\\u003eSample=milk_1B\\u003cbr\\u003epep_positions=%{x}\\u003cbr\\u003ecount=%{y}\\u003cextra\\u003e\\u003c\\u002fextra\\u003e\",\"legendgroup\":\"F\",\"marker\":{\"color\":\"#FF6692\",\"pattern\":{\"shape\":\"\"}},\"name\":\"F\",\"offsetgroup\":\"F\",\"orientation\":\"v\",\"showlegend\":false,\"textposition\":\"auto\",\"x\":[98,121,152,167],\"xaxis\":\"x3\",\"y\":[95,16,137,91],\"yaxis\":\"y3\",\"type\":\"bar\"},{\"alignmentgroup\":\"True\",\"hovertemplate\":\"pep_letters=F\\u003cbr\\u003eSample=milk_2A\\u003cbr\\u003epep_positions=%{x}\\u003cbr\\u003ecount=%{y}\\u003cextra\\u003e\\u003c\\u002fextra\\u003e\",\"legendgroup\":\"F\",\"marker\":{\"color\":\"#FF6692\",\"pattern\":{\"shape\":\"\"}},\"name\":\"F\",\"offsetgroup\":\"F\",\"orientation\":\"v\",\"showlegend\":false,\"textposition\":\"auto\",\"x\":[121,152,167],\"xaxis\":\"x2\",\"y\":[1,3,11],\"yaxis\":\"y2\",\"type\":\"bar\"},{\"alignmentgroup\":\"True\",\"hovertemplate\":\"pep_letters=F\\u003cbr\\u003eSample=milk_2B\\u003cbr\\u003epep_positions=%{x}\\u003cbr\\u003ecount=%{y}\\u003cextra\\u003e\\u003c\\u002fextra\\u003e\",\"legendgroup\":\"F\",\"marker\":{\"color\":\"#FF6692\",\"pattern\":{\"shape\":\"\"}},\"name\":\"F\",\"offsetgroup\":\"F\",\"orientation\":\"v\",\"showlegend\":false,\"textposition\":\"auto\",\"x\":[98,152,167],\"xaxis\":\"x\",\"y\":[9,10,23],\"yaxis\":\"y\",\"type\":\"bar\"},{\"alignmentgroup\":\"True\",\"hovertemplate\":\"pep_letters=N\\u003cbr\\u003eSample=milk_1A\\u003cbr\\u003epep_positions=%{x}\\u003cbr\\u003ecount=%{y}\\u003cextra\\u003e\\u003c\\u002fextra\\u003e\",\"legendgroup\":\"N\",\"marker\":{\"color\":\"#B6E880\",\"pattern\":{\"shape\":\"\"}},\"name\":\"N\",\"offsetgroup\":\"N\",\"orientation\":\"v\",\"showlegend\":true,\"textposition\":\"auto\",\"x\":[104,106,125,168],\"xaxis\":\"x4\",\"y\":[31,31,5,50],\"yaxis\":\"y4\",\"type\":\"bar\"},{\"alignmentgroup\":\"True\",\"hovertemplate\":\"pep_letters=N\\u003cbr\\u003eSample=milk_1B\\u003cbr\\u003epep_positions=%{x}\\u003cbr\\u003ecount=%{y}\\u003cextra\\u003e\\u003c\\u002fextra\\u003e\",\"legendgroup\":\"N\",\"marker\":{\"color\":\"#B6E880\",\"pattern\":{\"shape\":\"\"}},\"name\":\"N\",\"offsetgroup\":\"N\",\"orientation\":\"v\",\"showlegend\":false,\"textposition\":\"auto\",\"x\":[79,104,106,125,168],\"xaxis\":\"x3\",\"y\":[1,130,130,16,91],\"yaxis\":\"y3\",\"type\":\"bar\"},{\"alignmentgroup\":\"True\",\"hovertemplate\":\"pep_letters=N\\u003cbr\\u003eSample=milk_2A\\u003cbr\\u003epep_positions=%{x}\\u003cbr\\u003ecount=%{y}\\u003cextra\\u003e\\u003c\\u002fextra\\u003e\",\"legendgroup\":\"N\",\"marker\":{\"color\":\"#B6E880\",\"pattern\":{\"shape\":\"\"}},\"name\":\"N\",\"offsetgroup\":\"N\",\"orientation\":\"v\",\"showlegend\":false,\"textposition\":\"auto\",\"x\":[125,168],\"xaxis\":\"x2\",\"y\":[1,11],\"yaxis\":\"y2\",\"type\":\"bar\"},{\"alignmentgroup\":\"True\",\"hovertemplate\":\"pep_letters=N\\u003cbr\\u003eSample=milk_2B\\u003cbr\\u003epep_positions=%{x}\\u003cbr\\u003ecount=%{y}\\u003cextra\\u003e\\u003c\\u002fextra\\u003e\",\"legendgroup\":\"N\",\"marker\":{\"color\":\"#B6E880\",\"pattern\":{\"shape\":\"\"}},\"name\":\"N\",\"offsetgroup\":\"N\",\"orientation\":\"v\",\"showlegend\":false,\"textposition\":\"auto\",\"x\":[104,106,168],\"xaxis\":\"x\",\"y\":[7,7,23],\"yaxis\":\"y\",\"type\":\"bar\"},{\"alignmentgroup\":\"True\",\"hovertemplate\":\"pep_letters=C\\u003cbr\\u003eSample=milk_1A\\u003cbr\\u003epep_positions=%{x}\\u003cbr\\u003ecount=%{y}\\u003cextra\\u003e\\u003c\\u002fextra\\u003e\",\"legendgroup\":\"C\",\"marker\":{\"color\":\"#FF97FF\",\"pattern\":{\"shape\":\"\"}},\"name\":\"C\",\"offsetgroup\":\"C\",\"orientation\":\"v\",\"showlegend\":true,\"textposition\":\"auto\",\"x\":[122,135,137,176],\"xaxis\":\"x4\",\"y\":[5,13,14,38],\"yaxis\":\"y4\",\"type\":\"bar\"},{\"alignmentgroup\":\"True\",\"hovertemplate\":\"pep_letters=C\\u003cbr\\u003eSample=milk_1B\\u003cbr\\u003epep_positions=%{x}\\u003cbr\\u003ecount=%{y}\\u003cextra\\u003e\\u003c\\u002fextra\\u003e\",\"legendgroup\":\"C\",\"marker\":{\"color\":\"#FF97FF\",\"pattern\":{\"shape\":\"\"}},\"name\":\"C\",\"offsetgroup\":\"C\",\"orientation\":\"v\",\"showlegend\":false,\"textposition\":\"auto\",\"x\":[12,122,135,137,176],\"xaxis\":\"x3\",\"y\":[2,16,17,17,84],\"yaxis\":\"y3\",\"type\":\"bar\"},{\"alignmentgroup\":\"True\",\"hovertemplate\":\"pep_letters=C\\u003cbr\\u003eSample=milk_2A\\u003cbr\\u003epep_positions=%{x}\\u003cbr\\u003ecount=%{y}\\u003cextra\\u003e\\u003c\\u002fextra\\u003e\",\"legendgroup\":\"C\",\"marker\":{\"color\":\"#FF97FF\",\"pattern\":{\"shape\":\"\"}},\"name\":\"C\",\"offsetgroup\":\"C\",\"orientation\":\"v\",\"showlegend\":false,\"textposition\":\"auto\",\"x\":[122,135,137,176],\"xaxis\":\"x2\",\"y\":[1,1,1,11],\"yaxis\":\"y2\",\"type\":\"bar\"},{\"alignmentgroup\":\"True\",\"hovertemplate\":\"pep_letters=C\\u003cbr\\u003eSample=milk_2B\\u003cbr\\u003epep_positions=%{x}\\u003cbr\\u003ecount=%{y}\\u003cextra\\u003e\\u003c\\u002fextra\\u003e\",\"legendgroup\":\"C\",\"marker\":{\"color\":\"#FF97FF\",\"pattern\":{\"shape\":\"\"}},\"name\":\"C\",\"offsetgroup\":\"C\",\"orientation\":\"v\",\"showlegend\":false,\"textposition\":\"auto\",\"x\":[176],\"xaxis\":\"x\",\"y\":[20],\"yaxis\":\"y\",\"type\":\"bar\"},{\"alignmentgroup\":\"True\",\"hovertemplate\":\"pep_letters=H\\u003cbr\\u003eSample=milk_1A\\u003cbr\\u003epep_positions=%{x}\\u003cbr\\u003ecount=%{y}\\u003cextra\\u003e\\u003c\\u002fextra\\u003e\",\"legendgroup\":\"H\",\"marker\":{\"color\":\"#FECB52\",\"pattern\":{\"shape\":\"\"}},\"name\":\"H\",\"offsetgroup\":\"H\",\"orientation\":\"v\",\"showlegend\":true,\"textposition\":\"auto\",\"x\":[162,177],\"xaxis\":\"x4\",\"y\":[68,38],\"yaxis\":\"y4\",\"type\":\"bar\"},{\"alignmentgroup\":\"True\",\"hovertemplate\":\"pep_letters=H\\u003cbr\\u003eSample=milk_1B\\u003cbr\\u003epep_positions=%{x}\\u003cbr\\u003ecount=%{y}\\u003cextra\\u003e\\u003c\\u002fextra\\u003e\",\"legendgroup\":\"H\",\"marker\":{\"color\":\"#FECB52\",\"pattern\":{\"shape\":\"\"}},\"name\":\"H\",\"offsetgroup\":\"H\",\"orientation\":\"v\",\"showlegend\":false,\"textposition\":\"auto\",\"x\":[75,162,177],\"xaxis\":\"x3\",\"y\":[1,106,84],\"yaxis\":\"y3\",\"type\":\"bar\"},{\"alignmentgroup\":\"True\",\"hovertemplate\":\"pep_letters=H\\u003cbr\\u003eSample=milk_2A\\u003cbr\\u003epep_positions=%{x}\\u003cbr\\u003ecount=%{y}\\u003cextra\\u003e\\u003c\\u002fextra\\u003e\",\"legendgroup\":\"H\",\"marker\":{\"color\":\"#FECB52\",\"pattern\":{\"shape\":\"\"}},\"name\":\"H\",\"offsetgroup\":\"H\",\"orientation\":\"v\",\"showlegend\":false,\"textposition\":\"auto\",\"x\":[177],\"xaxis\":\"x2\",\"y\":[11],\"yaxis\":\"y2\",\"type\":\"bar\"},{\"alignmentgroup\":\"True\",\"hovertemplate\":\"pep_letters=H\\u003cbr\\u003eSample=milk_2B\\u003cbr\\u003epep_positions=%{x}\\u003cbr\\u003ecount=%{y}\\u003cextra\\u003e\\u003c\\u002fextra\\u003e\",\"legendgroup\":\"H\",\"marker\":{\"color\":\"#FECB52\",\"pattern\":{\"shape\":\"\"}},\"name\":\"H\",\"offsetgroup\":\"H\",\"orientation\":\"v\",\"showlegend\":false,\"textposition\":\"auto\",\"x\":[162,177],\"xaxis\":\"x\",\"y\":[9,20],\"yaxis\":\"y\",\"type\":\"bar\"}],                        {\"template\":{\"data\":{\"histogram2dcontour\":[{\"type\":\"histogram2dcontour\",\"colorbar\":{\"outlinewidth\":0,\"ticks\":\"\"},\"colorscale\":[[0.0,\"#0d0887\"],[0.1111111111111111,\"#46039f\"],[0.2222222222222222,\"#7201a8\"],[0.3333333333333333,\"#9c179e\"],[0.4444444444444444,\"#bd3786\"],[0.5555555555555556,\"#d8576b\"],[0.6666666666666666,\"#ed7953\"],[0.7777777777777778,\"#fb9f3a\"],[0.8888888888888888,\"#fdca26\"],[1.0,\"#f0f921\"]]}],\"choropleth\":[{\"type\":\"choropleth\",\"colorbar\":{\"outlinewidth\":0,\"ticks\":\"\"}}],\"histogram2d\":[{\"type\":\"histogram2d\",\"colorbar\":{\"outlinewidth\":0,\"ticks\":\"\"},\"colorscale\":[[0.0,\"#0d0887\"],[0.1111111111111111,\"#46039f\"],[0.2222222222222222,\"#7201a8\"],[0.3333333333333333,\"#9c179e\"],[0.4444444444444444,\"#bd3786\"],[0.5555555555555556,\"#d8576b\"],[0.6666666666666666,\"#ed7953\"],[0.7777777777777778,\"#fb9f3a\"],[0.8888888888888888,\"#fdca26\"],[1.0,\"#f0f921\"]]}],\"heatmap\":[{\"type\":\"heatmap\",\"colorbar\":{\"outlinewidth\":0,\"ticks\":\"\"},\"colorscale\":[[0.0,\"#0d0887\"],[0.1111111111111111,\"#46039f\"],[0.2222222222222222,\"#7201a8\"],[0.3333333333333333,\"#9c179e\"],[0.4444444444444444,\"#bd3786\"],[0.5555555555555556,\"#d8576b\"],[0.6666666666666666,\"#ed7953\"],[0.7777777777777778,\"#fb9f3a\"],[0.8888888888888888,\"#fdca26\"],[1.0,\"#f0f921\"]]}],\"heatmapgl\":[{\"type\":\"heatmapgl\",\"colorbar\":{\"outlinewidth\":0,\"ticks\":\"\"},\"colorscale\":[[0.0,\"#0d0887\"],[0.1111111111111111,\"#46039f\"],[0.2222222222222222,\"#7201a8\"],[0.3333333333333333,\"#9c179e\"],[0.4444444444444444,\"#bd3786\"],[0.5555555555555556,\"#d8576b\"],[0.6666666666666666,\"#ed7953\"],[0.7777777777777778,\"#fb9f3a\"],[0.8888888888888888,\"#fdca26\"],[1.0,\"#f0f921\"]]}],\"contourcarpet\":[{\"type\":\"contourcarpet\",\"colorbar\":{\"outlinewidth\":0,\"ticks\":\"\"}}],\"contour\":[{\"type\":\"contour\",\"colorbar\":{\"outlinewidth\":0,\"ticks\":\"\"},\"colorscale\":[[0.0,\"#0d0887\"],[0.1111111111111111,\"#46039f\"],[0.2222222222222222,\"#7201a8\"],[0.3333333333333333,\"#9c179e\"],[0.4444444444444444,\"#bd3786\"],[0.5555555555555556,\"#d8576b\"],[0.6666666666666666,\"#ed7953\"],[0.7777777777777778,\"#fb9f3a\"],[0.8888888888888888,\"#fdca26\"],[1.0,\"#f0f921\"]]}],\"surface\":[{\"type\":\"surface\",\"colorbar\":{\"outlinewidth\":0,\"ticks\":\"\"},\"colorscale\":[[0.0,\"#0d0887\"],[0.1111111111111111,\"#46039f\"],[0.2222222222222222,\"#7201a8\"],[0.3333333333333333,\"#9c179e\"],[0.4444444444444444,\"#bd3786\"],[0.5555555555555556,\"#d8576b\"],[0.6666666666666666,\"#ed7953\"],[0.7777777777777778,\"#fb9f3a\"],[0.8888888888888888,\"#fdca26\"],[1.0,\"#f0f921\"]]}],\"mesh3d\":[{\"type\":\"mesh3d\",\"colorbar\":{\"outlinewidth\":0,\"ticks\":\"\"}}],\"scatter\":[{\"fillpattern\":{\"fillmode\":\"overlay\",\"size\":10,\"solidity\":0.2},\"type\":\"scatter\"}],\"parcoords\":[{\"type\":\"parcoords\",\"line\":{\"colorbar\":{\"outlinewidth\":0,\"ticks\":\"\"}}}],\"scatterpolargl\":[{\"type\":\"scatterpolargl\",\"marker\":{\"colorbar\":{\"outlinewidth\":0,\"ticks\":\"\"}}}],\"bar\":[{\"error_x\":{\"color\":\"#2a3f5f\"},\"error_y\":{\"color\":\"#2a3f5f\"},\"marker\":{\"line\":{\"color\":\"#E5ECF6\",\"width\":0.5},\"pattern\":{\"fillmode\":\"overlay\",\"size\":10,\"solidity\":0.2}},\"type\":\"bar\"}],\"scattergeo\":[{\"type\":\"scattergeo\",\"marker\":{\"colorbar\":{\"outlinewidth\":0,\"ticks\":\"\"}}}],\"scatterpolar\":[{\"type\":\"scatterpolar\",\"marker\":{\"colorbar\":{\"outlinewidth\":0,\"ticks\":\"\"}}}],\"histogram\":[{\"marker\":{\"pattern\":{\"fillmode\":\"overlay\",\"size\":10,\"solidity\":0.2}},\"type\":\"histogram\"}],\"scattergl\":[{\"type\":\"scattergl\",\"marker\":{\"colorbar\":{\"outlinewidth\":0,\"ticks\":\"\"}}}],\"scatter3d\":[{\"type\":\"scatter3d\",\"line\":{\"colorbar\":{\"outlinewidth\":0,\"ticks\":\"\"}},\"marker\":{\"colorbar\":{\"outlinewidth\":0,\"ticks\":\"\"}}}],\"scattermapbox\":[{\"type\":\"scattermapbox\",\"marker\":{\"colorbar\":{\"outlinewidth\":0,\"ticks\":\"\"}}}],\"scatterternary\":[{\"type\":\"scatterternary\",\"marker\":{\"colorbar\":{\"outlinewidth\":0,\"ticks\":\"\"}}}],\"scattercarpet\":[{\"type\":\"scattercarpet\",\"marker\":{\"colorbar\":{\"outlinewidth\":0,\"ticks\":\"\"}}}],\"carpet\":[{\"aaxis\":{\"endlinecolor\":\"#2a3f5f\",\"gridcolor\":\"white\",\"linecolor\":\"white\",\"minorgridcolor\":\"white\",\"startlinecolor\":\"#2a3f5f\"},\"baxis\":{\"endlinecolor\":\"#2a3f5f\",\"gridcolor\":\"white\",\"linecolor\":\"white\",\"minorgridcolor\":\"white\",\"startlinecolor\":\"#2a3f5f\"},\"type\":\"carpet\"}],\"table\":[{\"cells\":{\"fill\":{\"color\":\"#EBF0F8\"},\"line\":{\"color\":\"white\"}},\"header\":{\"fill\":{\"color\":\"#C8D4E3\"},\"line\":{\"color\":\"white\"}},\"type\":\"table\"}],\"barpolar\":[{\"marker\":{\"line\":{\"color\":\"#E5ECF6\",\"width\":0.5},\"pattern\":{\"fillmode\":\"overlay\",\"size\":10,\"solidity\":0.2}},\"type\":\"barpolar\"}],\"pie\":[{\"automargin\":true,\"type\":\"pie\"}]},\"layout\":{\"autotypenumbers\":\"strict\",\"colorway\":[\"#636efa\",\"#EF553B\",\"#00cc96\",\"#ab63fa\",\"#FFA15A\",\"#19d3f3\",\"#FF6692\",\"#B6E880\",\"#FF97FF\",\"#FECB52\"],\"font\":{\"color\":\"#2a3f5f\"},\"hovermode\":\"closest\",\"hoverlabel\":{\"align\":\"left\"},\"paper_bgcolor\":\"white\",\"plot_bgcolor\":\"#E5ECF6\",\"polar\":{\"bgcolor\":\"#E5ECF6\",\"angularaxis\":{\"gridcolor\":\"white\",\"linecolor\":\"white\",\"ticks\":\"\"},\"radialaxis\":{\"gridcolor\":\"white\",\"linecolor\":\"white\",\"ticks\":\"\"}},\"ternary\":{\"bgcolor\":\"#E5ECF6\",\"aaxis\":{\"gridcolor\":\"white\",\"linecolor\":\"white\",\"ticks\":\"\"},\"baxis\":{\"gridcolor\":\"white\",\"linecolor\":\"white\",\"ticks\":\"\"},\"caxis\":{\"gridcolor\":\"white\",\"linecolor\":\"white\",\"ticks\":\"\"}},\"coloraxis\":{\"colorbar\":{\"outlinewidth\":0,\"ticks\":\"\"}},\"colorscale\":{\"sequential\":[[0.0,\"#0d0887\"],[0.1111111111111111,\"#46039f\"],[0.2222222222222222,\"#7201a8\"],[0.3333333333333333,\"#9c179e\"],[0.4444444444444444,\"#bd3786\"],[0.5555555555555556,\"#d8576b\"],[0.6666666666666666,\"#ed7953\"],[0.7777777777777778,\"#fb9f3a\"],[0.8888888888888888,\"#fdca26\"],[1.0,\"#f0f921\"]],\"sequentialminus\":[[0.0,\"#0d0887\"],[0.1111111111111111,\"#46039f\"],[0.2222222222222222,\"#7201a8\"],[0.3333333333333333,\"#9c179e\"],[0.4444444444444444,\"#bd3786\"],[0.5555555555555556,\"#d8576b\"],[0.6666666666666666,\"#ed7953\"],[0.7777777777777778,\"#fb9f3a\"],[0.8888888888888888,\"#fdca26\"],[1.0,\"#f0f921\"]],\"diverging\":[[0,\"#8e0152\"],[0.1,\"#c51b7d\"],[0.2,\"#de77ae\"],[0.3,\"#f1b6da\"],[0.4,\"#fde0ef\"],[0.5,\"#f7f7f7\"],[0.6,\"#e6f5d0\"],[0.7,\"#b8e186\"],[0.8,\"#7fbc41\"],[0.9,\"#4d9221\"],[1,\"#276419\"]]},\"xaxis\":{\"gridcolor\":\"white\",\"linecolor\":\"white\",\"ticks\":\"\",\"title\":{\"standoff\":15},\"zerolinecolor\":\"white\",\"automargin\":true,\"zerolinewidth\":2},\"yaxis\":{\"gridcolor\":\"white\",\"linecolor\":\"white\",\"ticks\":\"\",\"title\":{\"standoff\":15},\"zerolinecolor\":\"white\",\"automargin\":true,\"zerolinewidth\":2},\"scene\":{\"xaxis\":{\"backgroundcolor\":\"#E5ECF6\",\"gridcolor\":\"white\",\"linecolor\":\"white\",\"showbackground\":true,\"ticks\":\"\",\"zerolinecolor\":\"white\",\"gridwidth\":2},\"yaxis\":{\"backgroundcolor\":\"#E5ECF6\",\"gridcolor\":\"white\",\"linecolor\":\"white\",\"showbackground\":true,\"ticks\":\"\",\"zerolinecolor\":\"white\",\"gridwidth\":2},\"zaxis\":{\"backgroundcolor\":\"#E5ECF6\",\"gridcolor\":\"white\",\"linecolor\":\"white\",\"showbackground\":true,\"ticks\":\"\",\"zerolinecolor\":\"white\",\"gridwidth\":2}},\"shapedefaults\":{\"line\":{\"color\":\"#2a3f5f\"}},\"annotationdefaults\":{\"arrowcolor\":\"#2a3f5f\",\"arrowhead\":0,\"arrowwidth\":1},\"geo\":{\"bgcolor\":\"white\",\"landcolor\":\"#E5ECF6\",\"subunitcolor\":\"white\",\"showland\":true,\"showlakes\":true,\"lakecolor\":\"white\"},\"title\":{\"x\":0.05},\"mapbox\":{\"style\":\"light\"}}},\"xaxis\":{\"anchor\":\"y\",\"domain\":[0.0,0.98],\"title\":{\"text\":\"pep_positions\"}},\"yaxis\":{\"anchor\":\"x\",\"domain\":[0.0,0.2275],\"title\":{\"text\":\"count\"}},\"xaxis2\":{\"anchor\":\"y2\",\"domain\":[0.0,0.98],\"matches\":\"x\",\"showticklabels\":false},\"yaxis2\":{\"anchor\":\"x2\",\"domain\":[0.2575,0.485],\"matches\":\"y\",\"title\":{\"text\":\"count\"}},\"xaxis3\":{\"anchor\":\"y3\",\"domain\":[0.0,0.98],\"matches\":\"x\",\"showticklabels\":false},\"yaxis3\":{\"anchor\":\"x3\",\"domain\":[0.515,0.7425],\"matches\":\"y\",\"title\":{\"text\":\"count\"}},\"xaxis4\":{\"anchor\":\"y4\",\"domain\":[0.0,0.98],\"matches\":\"x\",\"showticklabels\":false},\"yaxis4\":{\"anchor\":\"x4\",\"domain\":[0.7725,1.0],\"matches\":\"y\",\"title\":{\"text\":\"count\"}},\"annotations\":[{\"font\":{},\"showarrow\":false,\"text\":\"Sample=milk_2B\",\"textangle\":90,\"x\":0.98,\"xanchor\":\"left\",\"xref\":\"paper\",\"y\":0.11375,\"yanchor\":\"middle\",\"yref\":\"paper\"},{\"font\":{},\"showarrow\":false,\"text\":\"Sample=milk_2A\",\"textangle\":90,\"x\":0.98,\"xanchor\":\"left\",\"xref\":\"paper\",\"y\":0.37124999999999997,\"yanchor\":\"middle\",\"yref\":\"paper\"},{\"font\":{},\"showarrow\":false,\"text\":\"Sample=milk_1B\",\"textangle\":90,\"x\":0.98,\"xanchor\":\"left\",\"xref\":\"paper\",\"y\":0.62875,\"yanchor\":\"middle\",\"yref\":\"paper\"},{\"font\":{},\"showarrow\":false,\"text\":\"Sample=milk_1A\",\"textangle\":90,\"x\":0.98,\"xanchor\":\"left\",\"xref\":\"paper\",\"y\":0.88625,\"yanchor\":\"middle\",\"yref\":\"paper\"}],\"legend\":{\"title\":{\"text\":\"pep_letters\"},\"tracegroupgap\":0},\"title\":{\"text\":\"Long-Form Input\"},\"barmode\":\"relative\",\"height\":800,\"width\":1500},                        {\"responsive\": true}                    ).then(function(){\n",
       "                            \n",
       "var gd = document.getElementById('45497d33-8c70-4de2-84ed-f75877627d46');\n",
       "var x = new MutationObserver(function (mutations, observer) {{\n",
       "        var display = window.getComputedStyle(gd).display;\n",
       "        if (!display || display === 'none') {{\n",
       "            console.log([gd, 'removed!']);\n",
       "            Plotly.purge(gd);\n",
       "            observer.disconnect();\n",
       "        }}\n",
       "}});\n",
       "\n",
       "// Listen for the removal of the full notebook cells\n",
       "var notebookContainer = gd.closest('#notebook-container');\n",
       "if (notebookContainer) {{\n",
       "    x.observe(notebookContainer, {childList: true});\n",
       "}}\n",
       "\n",
       "// Listen for the clearing of the current output cell\n",
       "var outputEl = gd.closest('.output');\n",
       "if (outputEl) {{\n",
       "    x.observe(outputEl, {childList: true});\n",
       "}}\n",
       "\n",
       "                        })                };                });            </script>        </div>"
      ]
     },
     "metadata": {},
     "output_type": "display_data"
    }
   ],
   "execution_count": 28
  }
 ],
 "metadata": {
  "kernelspec": {
   "display_name": "Python 3",
   "language": "python",
   "name": "python3"
  },
  "language_info": {
   "codemirror_mode": {
    "name": "ipython",
    "version": 2
   },
   "file_extension": ".py",
   "mimetype": "text/x-python",
   "name": "python",
   "nbconvert_exporter": "python",
   "pygments_lexer": "ipython2",
   "version": "2.7.6"
  }
 },
 "nbformat": 4,
 "nbformat_minor": 5
}
